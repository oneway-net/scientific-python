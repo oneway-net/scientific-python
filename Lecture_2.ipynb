{
  "cells": [
    {
      "cell_type": "markdown",
      "metadata": {
        "id": "view-in-github",
        "colab_type": "text"
      },
      "source": [
        "<a href=\"https://colab.research.google.com/github/oneway-net/scientific-python/blob/main/Lecture_2.ipynb\" target=\"_parent\"><img src=\"https://colab.research.google.com/assets/colab-badge.svg\" alt=\"Open In Colab\"/></a>"
      ]
    },
    {
      "cell_type": "markdown",
      "metadata": {
        "id": "IognGnwLoIzD"
      },
      "source": [
        "# CME 193 - Lecture 2\n",
        "This class we will cover\n",
        "1. Basics of creating classes and objects\n",
        "2. Basics of NumPy"
      ]
    },
    {
      "cell_type": "markdown",
      "source": [
        "# Classes (Basic Section Start)\n",
        "\n",
        "Classes let you abstract away details while programming."
      ],
      "metadata": {
        "id": "KQrw73r58qer"
      }
    },
    {
      "cell_type": "code",
      "source": [
        "2 + 3"
      ],
      "metadata": {
        "id": "l88N7AeNiiQS",
        "colab": {
          "base_uri": "https://localhost:8080/"
        },
        "outputId": "36ccf71c-4853-43f4-aee1-5acd50bcb83a"
      },
      "execution_count": null,
      "outputs": [
        {
          "output_type": "execute_result",
          "data": {
            "text/plain": [
              "5"
            ]
          },
          "metadata": {},
          "execution_count": 134
        }
      ]
    },
    {
      "cell_type": "code",
      "source": [
        "\"2\" + \"3\""
      ],
      "metadata": {
        "id": "Sd7_6EcIijsO",
        "colab": {
          "base_uri": "https://localhost:8080/",
          "height": 56
        },
        "outputId": "02d4fbc0-50df-4b44-aef4-888cfa3a6ab6"
      },
      "execution_count": null,
      "outputs": [
        {
          "output_type": "execute_result",
          "data": {
            "text/plain": [
              "'23'"
            ],
            "application/vnd.google.colaboratory.intrinsic+json": {
              "type": "string"
            }
          },
          "metadata": {},
          "execution_count": 135
        }
      ]
    },
    {
      "cell_type": "code",
      "source": [
        "[1] + [2, 3] # a.extend(b)"
      ],
      "metadata": {
        "id": "aJcUIsF_ijv8",
        "colab": {
          "base_uri": "https://localhost:8080/"
        },
        "outputId": "d48a52c3-79f4-486c-ae10-2f5771f8330b"
      },
      "execution_count": null,
      "outputs": [
        {
          "output_type": "execute_result",
          "data": {
            "text/plain": [
              "[1, 2, 3]"
            ]
          },
          "metadata": {},
          "execution_count": 136
        }
      ]
    },
    {
      "cell_type": "code",
      "source": [
        "x = []\n",
        "x.append(2) \n",
        "x"
      ],
      "metadata": {
        "id": "QWGcKqmzH5WA",
        "colab": {
          "base_uri": "https://localhost:8080/"
        },
        "outputId": "49f38abb-ac0d-4fb3-add9-44c8d50de672"
      },
      "execution_count": null,
      "outputs": [
        {
          "output_type": "execute_result",
          "data": {
            "text/plain": [
              "[2]"
            ]
          },
          "metadata": {},
          "execution_count": 137
        }
      ]
    },
    {
      "cell_type": "code",
      "source": [
        "type(x)"
      ],
      "metadata": {
        "id": "iCSWAiaRXkt9",
        "colab": {
          "base_uri": "https://localhost:8080/"
        },
        "outputId": "889c2634-b965-4487-9c96-9845c43d5366"
      },
      "execution_count": null,
      "outputs": [
        {
          "output_type": "execute_result",
          "data": {
            "text/plain": [
              "list"
            ]
          },
          "metadata": {},
          "execution_count": 138
        }
      ]
    },
    {
      "cell_type": "code",
      "source": [
        "x = []\n",
        "list.append(x,2) \n",
        "x"
      ],
      "metadata": {
        "id": "Yj_fRPzkIDII",
        "colab": {
          "base_uri": "https://localhost:8080/"
        },
        "outputId": "7db21aa9-ebb6-4970-ddff-4e2380aa2587"
      },
      "execution_count": null,
      "outputs": [
        {
          "output_type": "execute_result",
          "data": {
            "text/plain": [
              "[2]"
            ]
          },
          "metadata": {},
          "execution_count": 139
        }
      ]
    },
    {
      "cell_type": "code",
      "source": [
        "from typing_extensions import Self\n",
        "class Animal:\n",
        "    # constructor __init__\n",
        "    def __init__(self, sound):\n",
        "        self.sound = sound\n",
        "        print(f\"An Animal class is created\")\n",
        "    # method\n",
        "    def make_sound(self):\n",
        "        print(f\"Sound: {self.sound}\")"
      ],
      "metadata": {
        "id": "YEirnTEv8p8o"
      },
      "execution_count": null,
      "outputs": []
    },
    {
      "cell_type": "markdown",
      "source": [
        "Python use `self` parameter to refer to instance attributes and methods of the class\n",
        "- If an instance called its class method, the method will treat the first arguments as the reference to the instance\n",
        "  - `instance.method(args) = class.method(instance,args)`\n",
        "- `self` refers to the instance of the class (python norm)\n",
        "\n"
      ],
      "metadata": {
        "id": "oPv56CsoOkc7"
      }
    },
    {
      "cell_type": "code",
      "source": [
        "cat = Animal('Meow')\n",
        "dog = Animal('Bark')"
      ],
      "metadata": {
        "id": "Tn2belEg8tOB",
        "colab": {
          "base_uri": "https://localhost:8080/"
        },
        "outputId": "aa3d6e9e-0ec5-4c9e-a3f2-fb76cbdf92d3"
      },
      "execution_count": null,
      "outputs": [
        {
          "output_type": "stream",
          "name": "stdout",
          "text": [
            "An Animal class is created\n",
            "An Animal class is created\n"
          ]
        }
      ]
    },
    {
      "cell_type": "code",
      "source": [
        "type(cat), type(dog)"
      ],
      "metadata": {
        "id": "0Gh8lCf-8Ok6",
        "colab": {
          "base_uri": "https://localhost:8080/"
        },
        "outputId": "c1ac0281-3892-45d7-98c7-1e7207ca2c7d"
      },
      "execution_count": null,
      "outputs": [
        {
          "output_type": "execute_result",
          "data": {
            "text/plain": [
              "(__main__.Animal, __main__.Animal)"
            ]
          },
          "metadata": {},
          "execution_count": 194
        }
      ]
    },
    {
      "cell_type": "code",
      "source": [
        "print(\"instance.method(args):\\n\")\n",
        "cat.make_sound()\n",
        "# dog.make_sound()\n",
        "\n",
        "#instance.method(args) = class.method(instance,args)\n",
        "\n",
        "print(\"\\n\\nclass.method(instance,args):\\n\")\n",
        "Animal.make_sound(cat)\n",
        "# Animal.make_sound(dog)"
      ],
      "metadata": {
        "id": "iup5zP6I7gEn",
        "colab": {
          "base_uri": "https://localhost:8080/"
        },
        "outputId": "b4f2c352-9991-44de-8574-bd44307038c2"
      },
      "execution_count": null,
      "outputs": [
        {
          "output_type": "stream",
          "name": "stdout",
          "text": [
            "instance.method(args):\n",
            "\n",
            "Sound: Meow\n",
            "\n",
            "\n",
            "class.method(instance,args):\n",
            "\n",
            "Sound: Meow\n"
          ]
        }
      ]
    },
    {
      "cell_type": "code",
      "source": [
        "# list class\n",
        "x = []\n",
        "print(type(x))\n",
        "x.append(1) #something like: \n",
        "x"
      ],
      "metadata": {
        "id": "Jj8b3cp5OiN0",
        "colab": {
          "base_uri": "https://localhost:8080/"
        },
        "outputId": "ab344c83-1583-4a52-cbcb-51a5c3bc0c9d"
      },
      "execution_count": null,
      "outputs": [
        {
          "output_type": "stream",
          "name": "stdout",
          "text": [
            "<class 'list'>\n"
          ]
        },
        {
          "output_type": "execute_result",
          "data": {
            "text/plain": [
              "[1]"
            ]
          },
          "metadata": {},
          "execution_count": 151
        }
      ]
    },
    {
      "cell_type": "code",
      "source": [
        "# instance.method(args) = class.method(instance,args)\n",
        "'''\n",
        "class list:\n",
        "  def __init__(self, ...):\n",
        "      ...\n",
        "  def append(self, args):\n",
        "      ...\n",
        "'''\n",
        "\n",
        "x = []\n",
        "list.append(x, 1) \n",
        "x\n",
        "\n",
        "# self argument equals to x\n",
        "# self is the thing goes to the front of arguments\n",
        "# can be replaced with anything, but it’s like a explicit rule in python"
      ],
      "metadata": {
        "id": "GYQmT7CZO9-P",
        "colab": {
          "base_uri": "https://localhost:8080/"
        },
        "outputId": "b061034b-e151-4f9f-9faf-490f3b00edb7"
      },
      "execution_count": null,
      "outputs": [
        {
          "output_type": "execute_result",
          "data": {
            "text/plain": [
              "[1]"
            ]
          },
          "metadata": {},
          "execution_count": 152
        }
      ]
    },
    {
      "cell_type": "markdown",
      "metadata": {
        "id": "wkHZ1UkCoIzF"
      },
      "source": [
        "## Bank Account example to illustrate Classes and Objects"
      ]
    },
    {
      "cell_type": "code",
      "execution_count": null,
      "metadata": {
        "id": "mGm58HkzoIzF"
      },
      "outputs": [],
      "source": [
        "debits = []\n",
        "credits = []"
      ]
    },
    {
      "cell_type": "code",
      "execution_count": null,
      "metadata": {
        "id": "mLokThuwoIzG"
      },
      "outputs": [],
      "source": [
        "def add_to_debits(debits_list, value):\n",
        "    debits_list.append(value)"
      ]
    },
    {
      "cell_type": "code",
      "execution_count": null,
      "metadata": {
        "id": "PUGdA_ZcoIzH"
      },
      "outputs": [],
      "source": [
        "def add_to_credits(credits_list, value):\n",
        "    credits_list.append(value)"
      ]
    },
    {
      "cell_type": "code",
      "execution_count": null,
      "metadata": {
        "id": "SOADIckuoIzH"
      },
      "outputs": [],
      "source": [
        "add_to_debits(debits,10)\n",
        "add_to_debits(debits,15)\n",
        "add_to_debits(debits,100)\n",
        "\n",
        "add_to_credits(credits, 100)"
      ]
    },
    {
      "cell_type": "code",
      "execution_count": null,
      "metadata": {
        "id": "U8l2jl08oIzI",
        "colab": {
          "base_uri": "https://localhost:8080/"
        },
        "outputId": "31a63193-ffca-4266-8057-18fb057b8f4a"
      },
      "outputs": [
        {
          "output_type": "execute_result",
          "data": {
            "text/plain": [
              "[10, 15, 100]"
            ]
          },
          "metadata": {},
          "execution_count": 157
        }
      ],
      "source": [
        "debits"
      ]
    },
    {
      "cell_type": "code",
      "source": [
        "credits"
      ],
      "metadata": {
        "id": "Kd1b6ZmjjqbV",
        "colab": {
          "base_uri": "https://localhost:8080/"
        },
        "outputId": "1546dd40-0c4b-4653-df4a-159ca91c18ea"
      },
      "execution_count": null,
      "outputs": [
        {
          "output_type": "execute_result",
          "data": {
            "text/plain": [
              "[100]"
            ]
          },
          "metadata": {},
          "execution_count": 158
        }
      ]
    },
    {
      "cell_type": "code",
      "source": [
        "def total_value(debits, credits):\n",
        "    total =0 \n",
        "    for val in debits:\n",
        "        total+=val\n",
        "    for val in credits:\n",
        "        total-=val\n",
        "    return total"
      ],
      "metadata": {
        "id": "ABE-wi-nhTLn"
      },
      "execution_count": null,
      "outputs": []
    },
    {
      "cell_type": "code",
      "execution_count": null,
      "metadata": {
        "id": "TvW4M43-oIzJ",
        "colab": {
          "base_uri": "https://localhost:8080/"
        },
        "outputId": "8dabce1a-f9e4-47de-fd0f-5a4b054c968b"
      },
      "outputs": [
        {
          "output_type": "execute_result",
          "data": {
            "text/plain": [
              "25"
            ]
          },
          "metadata": {},
          "execution_count": 160
        }
      ],
      "source": [
        "total_value(debits, credits)"
      ]
    },
    {
      "cell_type": "markdown",
      "metadata": {
        "id": "w05Fj6sQoIzK"
      },
      "source": [
        "## Lets use Classes and Objects"
      ]
    },
    {
      "cell_type": "markdown",
      "source": [
        "#### 1. Initialize a class"
      ],
      "metadata": {
        "id": "ZUoG0mtFQhCG"
      }
    },
    {
      "cell_type": "code",
      "execution_count": null,
      "metadata": {
        "id": "eGKMfcZboIzK"
      },
      "outputs": [],
      "source": [
        "class Account:\n",
        "    def __init__(self):\n",
        "      self.debits = []\n",
        "      self.credits = []"
      ]
    },
    {
      "cell_type": "code",
      "source": [
        "a1 = Account()\n",
        "print(a1.debits)\n",
        "print(a1.credits)"
      ],
      "metadata": {
        "id": "N7tLXVncPJUR",
        "colab": {
          "base_uri": "https://localhost:8080/"
        },
        "outputId": "24974bdf-4374-4f89-9a88-ff2ef4a2c4ce"
      },
      "execution_count": null,
      "outputs": [
        {
          "output_type": "stream",
          "name": "stdout",
          "text": [
            "[]\n",
            "[]\n"
          ]
        }
      ]
    },
    {
      "cell_type": "code",
      "source": [
        "a2 = Account()\n",
        "print(a2.debits)\n",
        "print(a2.credits)"
      ],
      "metadata": {
        "id": "3BwFg-mWPJXI",
        "colab": {
          "base_uri": "https://localhost:8080/"
        },
        "outputId": "00a9a809-b187-4e2d-eb9d-f11f5c5bfa3b"
      },
      "execution_count": null,
      "outputs": [
        {
          "output_type": "stream",
          "name": "stdout",
          "text": [
            "[]\n",
            "[]\n"
          ]
        }
      ]
    },
    {
      "cell_type": "markdown",
      "source": [
        "#### 2. Add methods"
      ],
      "metadata": {
        "id": "hsPlAOT3QkKB"
      }
    },
    {
      "cell_type": "code",
      "source": [
        "class Account:\n",
        "    def __init__(self):\n",
        "      self.debits = []\n",
        "      self.credits = []\n",
        "\n",
        "    def add_to_credits(self, value):\n",
        "      self.credits.append(value)\n",
        "\n",
        "    def add_to_debits(self, value):\n",
        "      self.debits.append(value)\n",
        "\n",
        "    def total_value(self):\n",
        "      total = 0 \n",
        "      total += sum(self.debits)\n",
        "      total -= sum(self.credits)\n",
        "      return total"
      ],
      "metadata": {
        "id": "kV1YdzqhQfQG"
      },
      "execution_count": null,
      "outputs": []
    },
    {
      "cell_type": "code",
      "source": [
        "a1 = Account()\n",
        "a2 = Account()\n",
        "\n",
        "print(f\"a1.credits:{a1.credits}\")\n",
        "print(f\"a2.credits:{a2.credits}\\n\")\n",
        "\n",
        "a1.add_to_credits(10)\n",
        "\n",
        "print(f\"a1.credits:{a1.credits}\")\n",
        "print(f\"a2.credits:{a2.credits}\")"
      ],
      "metadata": {
        "id": "d4gyI46xQm4K",
        "colab": {
          "base_uri": "https://localhost:8080/"
        },
        "outputId": "ef2de9d2-1fa4-45f8-872b-80276dd7e6bc"
      },
      "execution_count": null,
      "outputs": [
        {
          "output_type": "stream",
          "name": "stdout",
          "text": [
            "a1.credits:[]\n",
            "a2.credits:[]\n",
            "\n",
            "a1.credits:[10]\n",
            "a2.credits:[]\n"
          ]
        }
      ]
    },
    {
      "cell_type": "code",
      "source": [
        "a1.add_to_debits(40)\n",
        "a2.add_to_debits(10)\n",
        "\n",
        "print(f\"a1.debits:{a1.debits}\")\n",
        "print(f\"a2.debits:{a2.debits}\")"
      ],
      "metadata": {
        "id": "MIGN-S9iTTd9",
        "colab": {
          "base_uri": "https://localhost:8080/"
        },
        "outputId": "8a176792-1d77-4c23-835e-c9f49f3f8864"
      },
      "execution_count": null,
      "outputs": [
        {
          "output_type": "stream",
          "name": "stdout",
          "text": [
            "a1.debits:[40]\n",
            "a2.debits:[10]\n"
          ]
        }
      ]
    },
    {
      "cell_type": "code",
      "source": [
        "print(f\"a1 total value:{a1.total_value()}\")\n",
        "print(f\"a1 total value:{a2.total_value()}\")"
      ],
      "metadata": {
        "id": "myYKuSdOTK-l",
        "colab": {
          "base_uri": "https://localhost:8080/"
        },
        "outputId": "7ad3450c-5115-47ef-df30-004a23303aca"
      },
      "execution_count": null,
      "outputs": [
        {
          "output_type": "stream",
          "name": "stdout",
          "text": [
            "a1 total value:30\n",
            "a1 total value:10\n"
          ]
        }
      ]
    },
    {
      "cell_type": "markdown",
      "source": [
        "## (Basic Section End)"
      ],
      "metadata": {
        "id": "BXiBtVQ5yBD-"
      }
    },
    {
      "cell_type": "markdown",
      "metadata": {
        "id": "kGxbNjgroIzK"
      },
      "source": [
        "## Exercise 1 (Post Lecture)\n",
        "\n",
        "### Add more functionality to the account class\n",
        "\n",
        "1. Add a check before debits to ensure funds are available\n",
        "\n",
        "2. Add a `transfer` function to your account class, which transfers money form one account to another.It should add to the debits of one account and to the credits of the other."
      ]
    },
    {
      "cell_type": "code",
      "execution_count": null,
      "metadata": {
        "id": "kkZXLMwtoIzL"
      },
      "outputs": [],
      "source": [
        "# # Solution:\n",
        "# accounts = []\n",
        "# class Account:\n",
        "#     def __init__(s):\n",
        "#         global accounts\n",
        "#         s.debits = []\n",
        "#         s.credits = []\n",
        "#         accounts += [s]\n",
        "        \n",
        "#     def add_to_debits(self,value):\n",
        "#         self.debits += [value]\n",
        "\n",
        "#     def add_to_credits(self,value):\n",
        "#         if value < self.total_value():\n",
        "#           self.credits += [value]\n",
        "#           return True\n",
        "#         else:\n",
        "#           print(\"Insufficient funds\")\n",
        "#           return False\n",
        "\n",
        "#     def total_value(self):\n",
        "#         total =0 \n",
        "#         for val in self.debits:\n",
        "#             total+=val\n",
        "#         for val in self.credits:\n",
        "#             total-=val\n",
        "#         return total\n",
        "\n",
        "#     def transfer(self, other, value): #other is another instance of Account object\n",
        "#       if value > 0:\n",
        "#         if self.add_to_credits(value):\n",
        "#           other.add_to_debits(value)"
      ]
    },
    {
      "cell_type": "markdown",
      "metadata": {
        "id": "5GJRzKoccbII"
      },
      "source": [
        "## Example: Rational Numbers\n",
        "\n",
        "Here we'l make a class that holds rational numbers (fractions).  That is, numbers of the form\n",
        "$$r = \\frac{p}{q}$$\n",
        "where $p$ and $q$ are integers"
      ]
    },
    {
      "cell_type": "code",
      "execution_count": null,
      "metadata": {
        "id": "KigjlUBlcbII"
      },
      "outputs": [],
      "source": [
        "import math\n",
        "class Rational:\n",
        "    def __init__(self, p, q=1):\n",
        "        if q == 0:\n",
        "            raise ValueError('Denominator must not be zero')\n",
        "        if not isinstance(p, int):\n",
        "            raise ValueError('Numerator must be an integer')\n",
        "        if not isinstance(q, int):\n",
        "            raise ValueError('Denominator must be an integer')\n",
        "        \n",
        "        g = math.gcd(p, q)\n",
        "        \n",
        "        self.p = p // g # integer division\n",
        "        self.q = q // g\n",
        "  \n",
        "    \n",
        "    # method to convert rational to string for printing\n",
        "    def __str__(self):\n",
        "        return f'{self.p}/{self.q}, I am a rational number :-)'\n",
        "    \n",
        "    def __repr__(self): #printable representation\n",
        "        return f'Rational({self.p}, {self.q}) :-('\n",
        "\n",
        "    # method to convert rational to float\n",
        "    def __float__(self):\n",
        "        return self.p / self.q\n"
      ]
    },
    {
      "cell_type": "code",
      "execution_count": null,
      "metadata": {
        "id": "YQNT2Y_KcbII",
        "colab": {
          "base_uri": "https://localhost:8080/"
        },
        "outputId": "ddb7c720-397b-4d50-8bcc-6cd1149b9703"
      },
      "outputs": [
        {
          "output_type": "stream",
          "name": "stdout",
          "text": [
            "<class '__main__.Rational'>\n",
            "a = 3/2, I am a rational number :-)\n",
            "b = 3/2, I am a rational number :-)\n",
            "[Rational(3, 2) :-(, Rational(3, 2) :-(]\n",
            "float(a) = 1.5\n"
          ]
        }
      ],
      "source": [
        "a = Rational(6, 4)\n",
        "b = Rational(3, 2)\n",
        "\n",
        "print(type(a))\n",
        "print(f\"a = {a}\")\n",
        "print(f\"b = {b}\")\n",
        "print([a,b])\n",
        "print(f\"float(a) = {float(a)}\")"
      ]
    },
    {
      "cell_type": "code",
      "execution_count": null,
      "metadata": {
        "id": "yfy9LgkBcbII",
        "colab": {
          "base_uri": "https://localhost:8080/",
          "height": 256
        },
        "outputId": "f0a7c77b-32b0-445a-a027-e345e7547cc7"
      },
      "outputs": [
        {
          "output_type": "error",
          "ename": "TypeError",
          "evalue": "ignored",
          "traceback": [
            "\u001b[0;31m---------------------------------------------------------------------------\u001b[0m",
            "\u001b[0;31mTypeError\u001b[0m                                 Traceback (most recent call last)",
            "\u001b[0;32m<ipython-input-172-c041fd343799>\u001b[0m in \u001b[0;36m<cell line: 1>\u001b[0;34m()\u001b[0m\n\u001b[0;32m----> 1\u001b[0;31m \u001b[0ma\u001b[0m \u001b[0;34m+\u001b[0m \u001b[0mb\u001b[0m\u001b[0;34m\u001b[0m\u001b[0;34m\u001b[0m\u001b[0m\n\u001b[0m\u001b[1;32m      2\u001b[0m \u001b[0;34m\u001b[0m\u001b[0m\n\u001b[1;32m      3\u001b[0m \u001b[0;31m# We need Magic Method!!\u001b[0m\u001b[0;34m\u001b[0m\u001b[0;34m\u001b[0m\u001b[0m\n",
            "\u001b[0;31mTypeError\u001b[0m: unsupported operand type(s) for +: 'Rational' and 'Rational'"
          ]
        }
      ],
      "source": [
        "a + b\n",
        "\n",
        "# We need Magic Method!! "
      ]
    },
    {
      "cell_type": "markdown",
      "source": [
        "## Plus Operation: `__add__`\n"
      ],
      "metadata": {
        "id": "dk7TisoTaokx"
      }
    },
    {
      "cell_type": "code",
      "source": [
        "a = 2\n",
        "b = 3\n",
        "# a + b # equivalent a.extend(b)\n",
        "\n",
        "#instance.method(args) = class.method(instance,args)\n",
        "print(a.__add__(b))\n",
        "print(int.__add__(a,b))"
      ],
      "metadata": {
        "id": "IhP4zvd5aso7",
        "colab": {
          "base_uri": "https://localhost:8080/"
        },
        "outputId": "7cf37f61-f039-42f3-c208-1e68f12a615e"
      },
      "execution_count": null,
      "outputs": [
        {
          "output_type": "stream",
          "name": "stdout",
          "text": [
            "5\n",
            "5\n"
          ]
        }
      ]
    },
    {
      "cell_type": "code",
      "source": [
        "# For example:\n",
        "a = [1,2]\n",
        "b = [3,4]\n",
        "# a + b # equivalent a.extend(b)\n",
        "print(a.__add__(b))\n",
        "print(list.__add__(a,b))"
      ],
      "metadata": {
        "id": "pHtrEr562y2y",
        "colab": {
          "base_uri": "https://localhost:8080/"
        },
        "outputId": "c22b0446-3db0-4a4c-f2d9-cc433f308c17"
      },
      "execution_count": null,
      "outputs": [
        {
          "output_type": "stream",
          "name": "stdout",
          "text": [
            "[1, 2, 3, 4]\n",
            "[1, 2, 3, 4]\n"
          ]
        }
      ]
    },
    {
      "cell_type": "markdown",
      "metadata": {
        "id": "mtrDP4pSoIzL"
      },
      "source": [
        "## Example: Rational Numbers\n",
        "\n",
        "Let's continue with our example of rational numbers (fractions), that is, numbers of the form\n",
        "$$r = \\frac{p}{q}$$\n",
        "where $p$ and $q$ are integers. Let's make it support addition using the formula:\n",
        "$$ \\frac{p_1}{q_1} + \\frac{p_2}{q_2} = \\frac{p_1 q_2 + p_2 q_1}{q_1 q_2}$$"
      ]
    },
    {
      "cell_type": "code",
      "execution_count": null,
      "metadata": {
        "id": "ChVijOL6oIzM"
      },
      "outputs": [],
      "source": [
        "import math\n",
        "\n",
        "class Rational:\n",
        "    def __init__(self, p, q=1):\n",
        "    \n",
        "        if q == 0:\n",
        "            raise ValueError('Denominator must not be zero')\n",
        "        if not isinstance(p, int):\n",
        "            raise TypeError('Numerator must be an integer')\n",
        "        if not isinstance(q, int):\n",
        "            raise TypeError('Denominator must be an integer')\n",
        "        \n",
        "        g = math.gcd(p, q)\n",
        "        \n",
        "        self.p = p // g\n",
        "        self.q = q // g\n",
        "    \n",
        "    # method to convert rational to float\n",
        "    def __float__(self):\n",
        "        return float(self.p) / float(self.q)    \n",
        "    \n",
        "    # method to convert rational to string for printing\n",
        "    def __str__(self):\n",
        "        return '%d / %d' % (self.p, self.q)\n",
        "    \n",
        "    # method to add two rationals - interprets self + other\n",
        "    def __add__(self, other):\n",
        "        #Return whether an object is an instance of a class or of a subclass thereof.\n",
        "        if isinstance(other, Rational): \n",
        "            return Rational(self.p * other.q + other.p * self.q, self.q * other.q)\n",
        "        # -- if it's an integer...\n",
        "        elif isinstance(other, int):\n",
        "            return Rational(self.p + other * self.q, self.q)\n",
        "        # -- otherwise, we assume it will be a float\n",
        "        return float(self) + float(other)\n",
        "    \n",
        "    def __radd__(self, other): # interprets other + self\n",
        "       return self + other # addition commutes!\n",
        "    "
      ]
    },
    {
      "cell_type": "code",
      "execution_count": null,
      "metadata": {
        "id": "rhwv3QLgoIzN",
        "colab": {
          "base_uri": "https://localhost:8080/"
        },
        "outputId": "369007ad-bca2-48d5-8887-563ead80d3be"
      },
      "outputs": [
        {
          "output_type": "stream",
          "name": "stdout",
          "text": [
            "3 / 4\n",
            "5 / 2\n"
          ]
        }
      ],
      "source": [
        "r1 = Rational(3,4)\n",
        "print(r1)\n",
        "r2 = Rational(5,2)\n",
        "print(r2)"
      ]
    },
    {
      "cell_type": "code",
      "execution_count": null,
      "metadata": {
        "id": "fh0gwssaoIzN",
        "colab": {
          "base_uri": "https://localhost:8080/"
        },
        "outputId": "709f3e7a-507a-4ffa-99eb-cecb5d785ec2"
      },
      "outputs": [
        {
          "output_type": "stream",
          "name": "stdout",
          "text": [
            "<class '__main__.Rational'>\n",
            "13 / 4\n",
            "3.25\n"
          ]
        }
      ],
      "source": [
        "r3 = r1 + r2\n",
        "print( type(r3) )\n",
        "print( r3 )\n",
        "print( float( r3 ))"
      ]
    },
    {
      "cell_type": "code",
      "execution_count": null,
      "metadata": {
        "id": "5ap2xE5BoIzO",
        "colab": {
          "base_uri": "https://localhost:8080/"
        },
        "outputId": "562c4890-279a-4f04-df52-d25f7075e033"
      },
      "outputs": [
        {
          "output_type": "stream",
          "name": "stdout",
          "text": [
            "15 / 4\n"
          ]
        }
      ],
      "source": [
        " #left add\n",
        "print( r1 + 3 )\n",
        "\n",
        "#Rational.__add__(self, other)"
      ]
    },
    {
      "cell_type": "code",
      "execution_count": null,
      "metadata": {
        "id": "NKMXF4p5oIzO",
        "colab": {
          "base_uri": "https://localhost:8080/"
        },
        "outputId": "eecdc259-f964-424a-9a43-8f74d94514c5"
      },
      "outputs": [
        {
          "output_type": "stream",
          "name": "stdout",
          "text": [
            "15 / 4\n"
          ]
        }
      ],
      "source": [
        "#right add\n",
        "print( 3 + r1 )\n",
        "\n",
        "# (3).__add__(r1) if failed\n",
        "# r1.__radd__(3)"
      ]
    },
    {
      "cell_type": "markdown",
      "metadata": {
        "id": "433NNh_loIzO"
      },
      "source": [
        "# Exercise 2 (Post-Lecture)\n",
        "More about magic method: Magic Method : https://python-course.eu/oop/magic-methods.php\n",
        "### Add more operations to `Rational`\n",
        "You can read about the available operations that you can overload [here](https://docs.python.org/3.7/reference/datamodel.html#emulating-numeric-types)\n",
        "\n",
        "Add the following operations to the `Rational` class:\n",
        "* `*` - use `__mul__`\n",
        "* `/` - use `__truediv__`\n",
        "* `-` - use `__sub__`\n",
        "\n",
        "You only need to define these operations between two `Rational` types - use an `if isinstance(other, Rational):` block.\n",
        "\n",
        "Make a few examples to convince yourself that this works.\n",
        "\n"
      ]
    },
    {
      "cell_type": "code",
      "source": [],
      "metadata": {
        "id": "TCieqKbl-QZ-"
      },
      "execution_count": null,
      "outputs": []
    },
    {
      "cell_type": "code",
      "execution_count": null,
      "metadata": {
        "id": "xvvBQoL6oIzP"
      },
      "outputs": [],
      "source": [
        "# Solution\n",
        "class Rational:\n",
        "    def __init__(self, p, q=1):\n",
        "    \n",
        "        if q == 0:\n",
        "            raise ValueError('Denominator must not be zero')\n",
        "        if not isinstance(p, int):\n",
        "            raise TypeError('Numerator must be an integer')\n",
        "        if not isinstance(q, int):\n",
        "            raise TypeError('Denominator must be an integer')\n",
        "        \n",
        "        g = math.gcd(p, q)\n",
        "        \n",
        "        self.p = p // g\n",
        "        self.q = q // g\n",
        "    \n",
        "    # method to convert rational to float\n",
        "    def __float__(self):\n",
        "        return float(self.p) / float(self.q)    \n",
        "    \n",
        "    # method to convert rational to string for printing\n",
        "    def __str__(self):\n",
        "        return '%d / %d' % (self.p, self.q)\n",
        "    \n",
        "    # method to add two rationals - interprets self + other\n",
        "    def __add__(self, other):\n",
        "        if isinstance(other, Rational):\n",
        "            return Rational(self.p * other.q + other.p * self.q, self.q * other.q)\n",
        "        # -- if it's an integer...\n",
        "        elif isinstance(other, int):\n",
        "            return Rational(self.p + other * self.q, self.q)\n",
        "        # -- otherwise, we assume it will be a float\n",
        "        return float(self) + float(other)\n",
        "    \n",
        "    def __radd__(self, other): # interprets other + self\n",
        "        return self + other # addition commutes!\n",
        "    \n",
        "    # subtraction\n",
        "    def __sub__(self, other):\n",
        "        if isinstance(other, Rational):\n",
        "            return self + Rational(-other.p,other.q)\n",
        "        elif isinstance(other, int):\n",
        "            return self + (-other)\n",
        "    \n",
        "    # multiplication\n",
        "    def __mul__(self, other):\n",
        "        if isinstance(other, Rational):\n",
        "            return Rational(self.p*other.p,self.q*other.q)\n",
        "        elif isinstance(other, int):\n",
        "            return Rational(self.p*other,self.q)\n",
        "        \n",
        "    # division\n",
        "    def __truediv__(self, other):\n",
        "        if isinstance(other, Rational):\n",
        "            return Rational(self.p*other.q,self.q*other.p)\n",
        "        elif isinstance(other, int):\n",
        "            return Rational(self.p,self.q*other)\n",
        "        \n",
        "    def __repr__(self):\n",
        "        return self.__str__()\n",
        "    \n",
        "    def __rmul__(self, other):\n",
        "        return self*other;\n",
        "    "
      ]
    },
    {
      "cell_type": "code",
      "execution_count": null,
      "metadata": {
        "id": "y3UfuhuKoIzP"
      },
      "outputs": [],
      "source": [
        "# Write some examples to test your code"
      ]
    },
    {
      "cell_type": "code",
      "execution_count": null,
      "metadata": {
        "id": "sl3tgZi3oIzQ"
      },
      "outputs": [],
      "source": [
        "r1 = Rational(3,4)\n",
        "print(r1)\n",
        "r2 = Rational(5,2)\n",
        "print(r2)"
      ]
    },
    {
      "cell_type": "code",
      "execution_count": null,
      "metadata": {
        "id": "tmP5P-GaoIzQ"
      },
      "outputs": [],
      "source": [
        "r1"
      ]
    },
    {
      "cell_type": "code",
      "execution_count": null,
      "metadata": {
        "id": "mJgZsa9OoIzQ"
      },
      "outputs": [],
      "source": [
        "r1*r2"
      ]
    },
    {
      "cell_type": "code",
      "execution_count": null,
      "metadata": {
        "id": "00olses3oIzQ"
      },
      "outputs": [],
      "source": [
        "r1-r2"
      ]
    },
    {
      "cell_type": "code",
      "execution_count": null,
      "metadata": {
        "id": "JMtRV2FDoIzQ"
      },
      "outputs": [],
      "source": [
        "r1/r2"
      ]
    },
    {
      "cell_type": "code",
      "execution_count": null,
      "metadata": {
        "id": "DFixG1LdoIzR"
      },
      "outputs": [],
      "source": []
    },
    {
      "cell_type": "markdown",
      "metadata": {
        "id": "EauKQ5SIoIzR"
      },
      "source": [
        "# Exercise 3 [Post Lecture]\n",
        "## Square root of rationals using the Babylonian method\n",
        "\n",
        "Implement the [Babylonian Method](https://en.wikipedia.org/wiki/Methods_of_computing_square_roots#Babylonian_method) for computing the square root of a number $S$."
      ]
    },
    {
      "cell_type": "code",
      "execution_count": null,
      "metadata": {
        "id": "VNmCCNFKoIzR"
      },
      "outputs": [],
      "source": [
        "def babylonian(S, num_iters=5):\n",
        "    # TODO: Delete the raise error when implemented\n",
        "    raise NotImplementedError('Not implemented yet')\n",
        "\n",
        "\n",
        "\n",
        "\n",
        "\n",
        "   \n",
        "    \n",
        "    # # Solution\n",
        "    # x = S/2\n",
        "    # for i in range(num_iters):\n",
        "    #   x = (x + S/x)/2\n",
        "    # return x"
      ]
    },
    {
      "cell_type": "code",
      "execution_count": null,
      "metadata": {
        "id": "pdcKniV2oIzR"
      },
      "outputs": [],
      "source": [
        "math.sqrt(24)"
      ]
    },
    {
      "cell_type": "code",
      "execution_count": null,
      "metadata": {
        "id": "cMXGkr59oIzR"
      },
      "outputs": [],
      "source": [
        "babylonian(24)"
      ]
    },
    {
      "cell_type": "code",
      "execution_count": null,
      "metadata": {
        "id": "sOuPWeNxoIzS"
      },
      "outputs": [],
      "source": [
        "babylonian(Rational(24))"
      ]
    },
    {
      "cell_type": "markdown",
      "metadata": {
        "id": "bxcIMG9hoIzS"
      },
      "source": [
        "# NumPy\n",
        "This is a good segue into NumPy. Python provides only a handful of numeric types: ints, longs, floats, and complex numbers. We just declared a class that implements rational numbers. NumPy implements one very useful numeric type: multidimensional arrays."
      ]
    },
    {
      "cell_type": "code",
      "execution_count": null,
      "metadata": {
        "id": "yZme3A3aoIzS",
        "colab": {
          "base_uri": "https://localhost:8080/"
        },
        "outputId": "4d6260a9-324b-4c3a-9183-800c063f1570"
      },
      "outputs": [
        {
          "output_type": "execute_result",
          "data": {
            "text/plain": [
              "-0.9589242746631385"
            ]
          },
          "metadata": {},
          "execution_count": 189
        }
      ],
      "source": [
        "# Quick note on importing\n",
        "import math\n",
        "math.sin(5)"
      ]
    },
    {
      "cell_type": "code",
      "execution_count": null,
      "metadata": {
        "id": "K8iR1FkmoIzS",
        "colab": {
          "base_uri": "https://localhost:8080/"
        },
        "outputId": "a4345d1f-b815-4236-c7b7-741435d58420"
      },
      "outputs": [
        {
          "output_type": "execute_result",
          "data": {
            "text/plain": [
              "-0.9589242746631385"
            ]
          },
          "metadata": {},
          "execution_count": 190
        }
      ],
      "source": [
        "import math as m\n",
        "m.sin(5)"
      ]
    },
    {
      "cell_type": "code",
      "execution_count": null,
      "metadata": {
        "id": "Wpi5DPW_oIzT"
      },
      "outputs": [],
      "source": [
        "import numpy as np"
      ]
    },
    {
      "cell_type": "code",
      "source": [
        "?np.array"
      ],
      "metadata": {
        "id": "zFMYEIMf_AMg"
      },
      "execution_count": null,
      "outputs": []
    },
    {
      "cell_type": "code",
      "source": [
        "print([[0, 2], [1, 5]]) "
      ],
      "metadata": {
        "id": "Geo3K3rzl66N",
        "colab": {
          "base_uri": "https://localhost:8080/"
        },
        "outputId": "2638ee68-32a5-47e1-977f-13b2d037c012"
      },
      "execution_count": null,
      "outputs": [
        {
          "output_type": "stream",
          "name": "stdout",
          "text": [
            "[[0, 2], [1, 5]]\n"
          ]
        }
      ]
    },
    {
      "cell_type": "code",
      "execution_count": null,
      "metadata": {
        "id": "qQECr079oIzT",
        "colab": {
          "base_uri": "https://localhost:8080/"
        },
        "outputId": "74b0cece-14a7-44d6-f301-a05a466b1cf5"
      },
      "outputs": [
        {
          "output_type": "stream",
          "name": "stdout",
          "text": [
            "<class 'numpy.ndarray'>\n"
          ]
        },
        {
          "output_type": "execute_result",
          "data": {
            "text/plain": [
              "array([[0, 2],\n",
              "       [1, 5]])"
            ]
          },
          "metadata": {},
          "execution_count": 199
        }
      ],
      "source": [
        "x = np.array([[0, 2], [1, 5]])\n",
        "print(type(x))\n",
        "x"
      ]
    },
    {
      "cell_type": "code",
      "execution_count": null,
      "metadata": {
        "id": "LPuzzACPoIzT",
        "colab": {
          "base_uri": "https://localhost:8080/"
        },
        "outputId": "7cd1d9ee-140a-48fb-839a-c3b8d724926f"
      },
      "outputs": [
        {
          "output_type": "execute_result",
          "data": {
            "text/plain": [
              "array([[4, 0],\n",
              "       [0, 4]])"
            ]
          },
          "metadata": {},
          "execution_count": 200
        }
      ],
      "source": [
        "y = np.array([[4, 0], [0, 4]])\n",
        "y"
      ]
    },
    {
      "cell_type": "code",
      "execution_count": null,
      "metadata": {
        "id": "Q6sf-2TBoIzT",
        "colab": {
          "base_uri": "https://localhost:8080/"
        },
        "outputId": "262ced41-404b-46ee-e636-a20e2826b3ba"
      },
      "outputs": [
        {
          "output_type": "execute_result",
          "data": {
            "text/plain": [
              "array([[4, 2],\n",
              "       [1, 9]])"
            ]
          },
          "metadata": {},
          "execution_count": 201
        }
      ],
      "source": [
        "x + y"
      ]
    },
    {
      "cell_type": "code",
      "execution_count": null,
      "metadata": {
        "id": "_-OM9_0eoIzT",
        "colab": {
          "base_uri": "https://localhost:8080/"
        },
        "outputId": "d5ae5c55-6d6c-46b7-877b-4c71e935c9ea"
      },
      "outputs": [
        {
          "output_type": "execute_result",
          "data": {
            "text/plain": [
              "array([[ 0,  4],\n",
              "       [ 1, 25]])"
            ]
          },
          "metadata": {},
          "execution_count": 202
        }
      ],
      "source": [
        "x ** 2"
      ]
    },
    {
      "cell_type": "code",
      "source": [
        "x * y  # Elementarywise multiplication"
      ],
      "metadata": {
        "id": "v4SZbTYioD_-"
      },
      "execution_count": null,
      "outputs": []
    },
    {
      "cell_type": "code",
      "source": [
        "x"
      ],
      "metadata": {
        "colab": {
          "base_uri": "https://localhost:8080/"
        },
        "id": "VKfQxnJo2UjU",
        "outputId": "aa2e4f73-da33-4921-850e-e2baa2578eaa"
      },
      "execution_count": null,
      "outputs": [
        {
          "output_type": "execute_result",
          "data": {
            "text/plain": [
              "array([[0, 2],\n",
              "       [1, 5]])"
            ]
          },
          "metadata": {},
          "execution_count": 205
        }
      ]
    },
    {
      "cell_type": "code",
      "source": [
        "y"
      ],
      "metadata": {
        "colab": {
          "base_uri": "https://localhost:8080/"
        },
        "id": "jr9HxCvG2U_f",
        "outputId": "aa8540e4-7e86-4295-f6c3-1e02f914e2a7"
      },
      "execution_count": null,
      "outputs": [
        {
          "output_type": "execute_result",
          "data": {
            "text/plain": [
              "array([[4, 0],\n",
              "       [0, 4]])"
            ]
          },
          "metadata": {},
          "execution_count": 206
        }
      ]
    },
    {
      "cell_type": "code",
      "execution_count": null,
      "metadata": {
        "id": "HFtMSVkAoIzT",
        "colab": {
          "base_uri": "https://localhost:8080/"
        },
        "outputId": "0a11ac0a-4740-4732-d177-fe80c5df7758"
      },
      "outputs": [
        {
          "output_type": "execute_result",
          "data": {
            "text/plain": [
              "array([[ 0,  8],\n",
              "       [ 4, 20]])"
            ]
          },
          "metadata": {},
          "execution_count": 207
        }
      ],
      "source": [
        "x @ y  # Matrix multiplication after Python 3.5, traditional way: np.matmul()"
      ]
    },
    {
      "cell_type": "code",
      "source": [
        "np.dot(x,y)"
      ],
      "metadata": {
        "colab": {
          "base_uri": "https://localhost:8080/"
        },
        "id": "yJvqloDv3ZnN",
        "outputId": "9293d9bb-7e9f-4dbc-c021-6755ebc986f6"
      },
      "execution_count": null,
      "outputs": [
        {
          "output_type": "execute_result",
          "data": {
            "text/plain": [
              "array([[ 0,  8],\n",
              "       [ 4, 20]])"
            ]
          },
          "metadata": {},
          "execution_count": 213
        }
      ]
    },
    {
      "cell_type": "code",
      "source": [
        "np.matmul(x,y)"
      ],
      "metadata": {
        "id": "N1W17EBmlUS7",
        "colab": {
          "base_uri": "https://localhost:8080/"
        },
        "outputId": "21bbe7ed-4571-4de9-e68c-ead591e80ce6"
      },
      "execution_count": null,
      "outputs": [
        {
          "output_type": "execute_result",
          "data": {
            "text/plain": [
              "array([[ 0,  8],\n",
              "       [ 4, 20]])"
            ]
          },
          "metadata": {},
          "execution_count": 208
        }
      ]
    },
    {
      "cell_type": "code",
      "execution_count": null,
      "metadata": {
        "id": "Pg5efBf7oIzU",
        "colab": {
          "base_uri": "https://localhost:8080/"
        },
        "outputId": "becb43d0-0a40-4369-80a2-3b12d9caa18f"
      },
      "outputs": [
        {
          "output_type": "execute_result",
          "data": {
            "text/plain": [
              "8"
            ]
          },
          "metadata": {},
          "execution_count": 209
        }
      ],
      "source": [
        "np.sum(x) # More method in the next lecture"
      ]
    },
    {
      "cell_type": "markdown",
      "metadata": {
        "id": "sMl8rBOVoIzU"
      },
      "source": [
        "### Why NumPy?\n",
        "1. numpy optimize operation for numeric data\n",
        "2. processes the tasks parallelly.\n",
        "3. The NumPy package integrates C, C++, and Fortran codes in Python. These programming languages have very little execution time compared to Python."
      ]
    },
    {
      "cell_type": "code",
      "execution_count": null,
      "metadata": {
        "id": "MovmAf18oIzU",
        "colab": {
          "base_uri": "https://localhost:8080/"
        },
        "outputId": "cb8ddcb9-f4e6-4516-8f61-b8dc5d247104"
      },
      "outputs": [
        {
          "output_type": "stream",
          "name": "stdout",
          "text": [
            "3.3 ms ± 751 µs per loop (mean ± std. dev. of 7 runs, 100 loops each)\n"
          ]
        }
      ],
      "source": [
        "%%timeit\n",
        "x = list(np.random.rand(10000))\n",
        "y = list(np.random.rand(10000))\n",
        "z=0\n",
        "for i in range(10000):\n",
        "    z += x[i]*y[i]"
      ]
    },
    {
      "cell_type": "code",
      "source": [
        "np.dot()"
      ],
      "metadata": {
        "id": "Qq7Q-L3G3StO"
      },
      "execution_count": null,
      "outputs": []
    },
    {
      "cell_type": "code",
      "execution_count": null,
      "metadata": {
        "id": "MvXL-0rVoIzU",
        "colab": {
          "base_uri": "https://localhost:8080/"
        },
        "outputId": "6d3007b3-d6fe-4abf-ec2d-32595ee09549"
      },
      "outputs": [
        {
          "output_type": "stream",
          "name": "stdout",
          "text": [
            "309 µs ± 90.8 µs per loop (mean ± std. dev. of 7 runs, 1000 loops each)\n"
          ]
        }
      ],
      "source": [
        "%%timeit\n",
        "x = np.random.rand(10000)\n",
        "y = np.random.rand(10000)\n",
        "z = np.dot(x,y)"
      ]
    },
    {
      "cell_type": "markdown",
      "metadata": {
        "id": "tFi2SP9JoIzU"
      },
      "source": [
        "## NumPy functions for creating arrays"
      ]
    },
    {
      "cell_type": "code",
      "source": [
        "?np.zeros"
      ],
      "metadata": {
        "id": "OF7xPQGrCdf9"
      },
      "execution_count": null,
      "outputs": []
    },
    {
      "cell_type": "code",
      "execution_count": null,
      "metadata": {
        "id": "vydvkk7-oIzV",
        "colab": {
          "base_uri": "https://localhost:8080/"
        },
        "outputId": "5292add2-76ac-43f0-c638-53655bf770b6"
      },
      "outputs": [
        {
          "output_type": "execute_result",
          "data": {
            "text/plain": [
              "array([[0., 0., 0., 0., 0., 0., 0., 0., 0., 0.],\n",
              "       [0., 0., 0., 0., 0., 0., 0., 0., 0., 0.],\n",
              "       [0., 0., 0., 0., 0., 0., 0., 0., 0., 0.],\n",
              "       [0., 0., 0., 0., 0., 0., 0., 0., 0., 0.],\n",
              "       [0., 0., 0., 0., 0., 0., 0., 0., 0., 0.]])"
            ]
          },
          "metadata": {},
          "execution_count": 215
        }
      ],
      "source": [
        "X=np.zeros(shape = (5,10))\n",
        "X"
      ]
    },
    {
      "cell_type": "code",
      "source": [
        "X[1,2] = 1\n",
        "X"
      ],
      "metadata": {
        "id": "wxx5ddBuskaF",
        "colab": {
          "base_uri": "https://localhost:8080/"
        },
        "outputId": "f314f64e-89f6-4ef6-db02-800c5ea2e60c"
      },
      "execution_count": null,
      "outputs": [
        {
          "output_type": "execute_result",
          "data": {
            "text/plain": [
              "array([[0., 0., 0., 0., 0., 0., 0., 0., 0., 0.],\n",
              "       [0., 0., 1., 0., 0., 0., 0., 0., 0., 0.],\n",
              "       [0., 0., 0., 0., 0., 0., 0., 0., 0., 0.],\n",
              "       [0., 0., 0., 0., 0., 0., 0., 0., 0., 0.],\n",
              "       [0., 0., 0., 0., 0., 0., 0., 0., 0., 0.]])"
            ]
          },
          "metadata": {},
          "execution_count": 216
        }
      ]
    },
    {
      "cell_type": "code",
      "execution_count": null,
      "metadata": {
        "id": "FAovduiMoIzV",
        "colab": {
          "base_uri": "https://localhost:8080/"
        },
        "outputId": "45f7999f-98cd-4777-d2d5-82fde671da4b"
      },
      "outputs": [
        {
          "output_type": "execute_result",
          "data": {
            "text/plain": [
              "(5, 10)"
            ]
          },
          "metadata": {},
          "execution_count": 217
        }
      ],
      "source": [
        "X.shape"
      ]
    },
    {
      "cell_type": "code",
      "execution_count": null,
      "metadata": {
        "id": "ewjWiPMkoIzV",
        "colab": {
          "base_uri": "https://localhost:8080/"
        },
        "outputId": "5685ea1b-7185-4439-b7a2-813517c86a2d"
      },
      "outputs": [
        {
          "output_type": "execute_result",
          "data": {
            "text/plain": [
              "array([[1., 1., 1., 1., 1., 1., 1., 1., 1., 1.],\n",
              "       [1., 1., 1., 1., 1., 1., 1., 1., 1., 1.],\n",
              "       [1., 1., 1., 1., 1., 1., 1., 1., 1., 1.],\n",
              "       [1., 1., 1., 1., 1., 1., 1., 1., 1., 1.],\n",
              "       [1., 1., 1., 1., 1., 1., 1., 1., 1., 1.]])"
            ]
          },
          "metadata": {},
          "execution_count": 218
        }
      ],
      "source": [
        "Y=np.ones(shape = (5,10))\n",
        "Y"
      ]
    },
    {
      "cell_type": "code",
      "source": [
        "?np.twos"
      ],
      "metadata": {
        "id": "V7--025BSRkx",
        "colab": {
          "base_uri": "https://localhost:8080/"
        },
        "outputId": "92ea4b0a-e7c9-4c3d-f777-030ea7fe63a4"
      },
      "execution_count": null,
      "outputs": [
        {
          "output_type": "stream",
          "name": "stdout",
          "text": [
            "Object `np.twos` not found.\n"
          ]
        }
      ]
    },
    {
      "cell_type": "code",
      "execution_count": null,
      "metadata": {
        "id": "EyI32oYUoIzV",
        "colab": {
          "base_uri": "https://localhost:8080/"
        },
        "outputId": "ea79dd09-ad28-4fc3-e65c-d67f2095041d"
      },
      "outputs": [
        {
          "output_type": "execute_result",
          "data": {
            "text/plain": [
              "array([[5., 5., 5., 5., 5., 5., 5., 5., 5., 5.],\n",
              "       [5., 5., 5., 5., 5., 5., 5., 5., 5., 5.],\n",
              "       [5., 5., 5., 5., 5., 5., 5., 5., 5., 5.],\n",
              "       [5., 5., 5., 5., 5., 5., 5., 5., 5., 5.],\n",
              "       [5., 5., 5., 5., 5., 5., 5., 5., 5., 5.]])"
            ]
          },
          "metadata": {},
          "execution_count": 221
        }
      ],
      "source": [
        "2*Y + 3"
      ]
    },
    {
      "cell_type": "code",
      "source": [
        "?np.random.rand"
      ],
      "metadata": {
        "id": "kZ1uuQysC_os"
      },
      "execution_count": null,
      "outputs": []
    },
    {
      "cell_type": "code",
      "execution_count": null,
      "metadata": {
        "id": "qjWfrOscoIzW",
        "colab": {
          "base_uri": "https://localhost:8080/"
        },
        "outputId": "2847cfad-617d-44fa-a346-ed60ad2b18a7"
      },
      "outputs": [
        {
          "output_type": "execute_result",
          "data": {
            "text/plain": [
              "array([[0.8972149 , 0.35192845, 0.8079397 , 0.22234728, 0.2449166 ],\n",
              "       [0.50358914, 0.02860793, 0.86036864, 0.22517401, 0.12629951],\n",
              "       [0.42570359, 0.1930573 , 0.45103045, 0.21347197, 0.30886832],\n",
              "       [0.11405467, 0.01420315, 0.95214465, 0.75467029, 0.55588054],\n",
              "       [0.08638947, 0.78957243, 0.1775384 , 0.58390338, 0.22139762]])"
            ]
          },
          "metadata": {},
          "execution_count": 223
        }
      ],
      "source": [
        "R=np.random.rand(5,5)\n",
        "R"
      ]
    },
    {
      "cell_type": "code",
      "execution_count": null,
      "metadata": {
        "id": "ZFu-aoqDoIzW",
        "colab": {
          "base_uri": "https://localhost:8080/"
        },
        "outputId": "9478d0a7-e5ea-47bb-b6a3-1a99b5099aed"
      },
      "outputs": [
        {
          "output_type": "execute_result",
          "data": {
            "text/plain": [
              "array([[-0.89009882, -0.27553482,  0.04212567, -0.2153849 , -1.20187084],\n",
              "       [-0.84649521, -0.26178666, -0.43103892,  0.53534676, -0.41825873],\n",
              "       [-1.09539663, -0.30005173,  0.66274682,  1.93539336,  0.70515496],\n",
              "       [ 0.36596416, -0.9708719 ,  0.48928086, -1.63210199,  0.80976057],\n",
              "       [-0.09708912, -0.50675253,  1.44559597, -1.20388627, -1.2853747 ]])"
            ]
          },
          "metadata": {},
          "execution_count": 224
        }
      ],
      "source": [
        "Rn = np.random.randn(5,5) #each number is a standard random normal variable (“standard normal” distribution) \n",
        "Rn"
      ]
    },
    {
      "cell_type": "code",
      "execution_count": null,
      "metadata": {
        "id": "EmnCYJE_oIzW",
        "colab": {
          "base_uri": "https://localhost:8080/"
        },
        "outputId": "69af31e6-bbb8-4f68-bdc1-06714e519c22"
      },
      "outputs": [
        {
          "output_type": "execute_result",
          "data": {
            "text/plain": [
              "array([ 1,  2,  3,  4,  5,  6,  7,  8,  9, 10, 11, 12, 13, 14, 15, 16, 17,\n",
              "       18, 19, 20, 21, 22, 23, 24, 25, 26, 27, 28, 29, 30, 31, 32, 33, 34,\n",
              "       35, 36, 37, 38, 39, 40, 41, 42, 43, 44, 45, 46, 47, 48, 49, 50, 51,\n",
              "       52, 53, 54, 55, 56, 57, 58, 59, 60, 61, 62, 63, 64, 65, 66, 67, 68,\n",
              "       69, 70, 71, 72, 73, 74, 75, 76, 77, 78, 79, 80, 81, 82, 83, 84, 85,\n",
              "       86, 87, 88, 89, 90, 91, 92, 93, 94, 95, 96, 97, 98, 99])"
            ]
          },
          "metadata": {},
          "execution_count": 227
        }
      ],
      "source": [
        "np.arange(1,100,1)"
      ]
    },
    {
      "cell_type": "code",
      "source": [
        "x = []\n",
        "for i in range(1,100,2):\n",
        "  x.append(i)\n",
        "print(x)"
      ],
      "metadata": {
        "id": "oV175xjSSsL6",
        "colab": {
          "base_uri": "https://localhost:8080/"
        },
        "outputId": "f7520ccf-63f3-499b-ba1e-02380524e9ba"
      },
      "execution_count": null,
      "outputs": [
        {
          "output_type": "stream",
          "name": "stdout",
          "text": [
            "[1, 3, 5, 7, 9, 11, 13, 15, 17, 19, 21, 23, 25, 27, 29, 31, 33, 35, 37, 39, 41, 43, 45, 47, 49, 51, 53, 55, 57, 59, 61, 63, 65, 67, 69, 71, 73, 75, 77, 79, 81, 83, 85, 87, 89, 91, 93, 95, 97, 99]\n"
          ]
        }
      ]
    },
    {
      "cell_type": "code",
      "source": [
        "np.linspace(1,99,50) #end value is inclusive! "
      ],
      "metadata": {
        "id": "7s7bU-O_D37G",
        "colab": {
          "base_uri": "https://localhost:8080/"
        },
        "outputId": "e5ff5cbc-9b5d-4af3-c8e2-452cf911b31b"
      },
      "execution_count": null,
      "outputs": [
        {
          "output_type": "execute_result",
          "data": {
            "text/plain": [
              "array([ 1.,  3.,  5.,  7.,  9., 11., 13., 15., 17., 19., 21., 23., 25.,\n",
              "       27., 29., 31., 33., 35., 37., 39., 41., 43., 45., 47., 49., 51.,\n",
              "       53., 55., 57., 59., 61., 63., 65., 67., 69., 71., 73., 75., 77.,\n",
              "       79., 81., 83., 85., 87., 89., 91., 93., 95., 97., 99.])"
            ]
          },
          "metadata": {},
          "execution_count": 228
        }
      ]
    },
    {
      "cell_type": "code",
      "execution_count": null,
      "metadata": {
        "id": "E3ExUy8ToIzW",
        "colab": {
          "base_uri": "https://localhost:8080/"
        },
        "outputId": "48830950-9499-4eab-dc8a-1958cc4f5e6e"
      },
      "outputs": [
        {
          "output_type": "execute_result",
          "data": {
            "text/plain": [
              "array([0. , 0.5, 1. , 1.5, 2. , 2.5, 3. , 3.5, 4. , 4.5, 5. ])"
            ]
          },
          "metadata": {},
          "execution_count": 229
        }
      ],
      "source": [
        "np.linspace(0,5,11)"
      ]
    },
    {
      "cell_type": "code",
      "execution_count": null,
      "metadata": {
        "id": "vO_GyWY_oIzW",
        "colab": {
          "base_uri": "https://localhost:8080/"
        },
        "outputId": "29214ad4-9a06-46c4-b75d-dfaa20f572d9"
      },
      "outputs": [
        {
          "output_type": "execute_result",
          "data": {
            "text/plain": [
              "array([ 0,  1,  2,  3,  4,  5,  6,  7,  8,  9, 10, 11, 12, 13, 14, 15, 16,\n",
              "       17, 18, 19, 20, 21, 22, 23, 24, 25, 26, 27, 28, 29, 30, 31, 32, 33,\n",
              "       34, 35, 36, 37, 38, 39, 40, 41, 42, 43, 44, 45, 46, 47])"
            ]
          },
          "metadata": {},
          "execution_count": 230
        }
      ],
      "source": [
        "X = np.arange(0,48)\n",
        "X"
      ]
    },
    {
      "cell_type": "code",
      "source": [
        "X.reshape((6,8)) #(20, -1)"
      ],
      "metadata": {
        "colab": {
          "base_uri": "https://localhost:8080/"
        },
        "id": "EzTZOjmPp0mI",
        "outputId": "4dafb516-5c8a-466a-cbd3-e345b94c51f2"
      },
      "execution_count": null,
      "outputs": [
        {
          "output_type": "execute_result",
          "data": {
            "text/plain": [
              "array([[ 0,  1,  2,  3,  4,  5,  6,  7],\n",
              "       [ 8,  9, 10, 11, 12, 13, 14, 15],\n",
              "       [16, 17, 18, 19, 20, 21, 22, 23],\n",
              "       [24, 25, 26, 27, 28, 29, 30, 31],\n",
              "       [32, 33, 34, 35, 36, 37, 38, 39],\n",
              "       [40, 41, 42, 43, 44, 45, 46, 47]])"
            ]
          },
          "metadata": {},
          "execution_count": 231
        }
      ]
    },
    {
      "cell_type": "code",
      "execution_count": null,
      "metadata": {
        "id": "BaAgFRkioIzX",
        "colab": {
          "base_uri": "https://localhost:8080/"
        },
        "outputId": "6a15fca5-e70e-4126-8d48-089bca76b0de"
      },
      "outputs": [
        {
          "output_type": "execute_result",
          "data": {
            "text/plain": [
              "array([[ 0,  1,  2,  3,  4,  5],\n",
              "       [ 6,  7,  8,  9, 10, 11],\n",
              "       [12, 13, 14, 15, 16, 17],\n",
              "       [18, 19, 20, 21, 22, 23],\n",
              "       [24, 25, 26, 27, 28, 29],\n",
              "       [30, 31, 32, 33, 34, 35],\n",
              "       [36, 37, 38, 39, 40, 41],\n",
              "       [42, 43, 44, 45, 46, 47]])"
            ]
          },
          "metadata": {},
          "execution_count": 233
        }
      ],
      "source": [
        "X.reshape((8,-1)) #(20, -1)"
      ]
    },
    {
      "cell_type": "markdown",
      "metadata": {
        "id": "rgKBI5ZGoIzX"
      },
      "source": [
        "# Exercise 4\n",
        "\n",
        "## Numpy Array construction\n",
        "\n",
        "1. 5 by 10 array with all elements random between 50 and 100.\n",
        "2. All numbers between 50 and 51, separated by 0.01"
      ]
    },
    {
      "cell_type": "code",
      "source": [
        "x = np.arange(50, 51, 0.01)"
      ],
      "metadata": {
        "id": "hiVFFux2on6-"
      },
      "execution_count": null,
      "outputs": []
    },
    {
      "cell_type": "code",
      "source": [
        "x.reshape(10, -1)"
      ],
      "metadata": {
        "id": "00YfVxSKpEhU"
      },
      "execution_count": null,
      "outputs": []
    },
    {
      "cell_type": "code",
      "source": [
        "np.linspace(0, 10, 11)"
      ],
      "metadata": {
        "id": "3j0a0Vgto28u"
      },
      "execution_count": null,
      "outputs": []
    },
    {
      "cell_type": "code",
      "execution_count": null,
      "metadata": {
        "id": "0cssBxLtoIzX"
      },
      "outputs": [],
      "source": [
        "np.linspace(50, 51, 101)"
      ]
    },
    {
      "cell_type": "markdown",
      "metadata": {
        "id": "TZ0xnn_JoIzX"
      },
      "source": [
        "# Plotting (Optional)\n",
        "\n",
        "We will see some functions to do some quick plotting, we will come back to this library later."
      ]
    },
    {
      "cell_type": "code",
      "execution_count": null,
      "metadata": {
        "id": "GVuaVcrAoIzX"
      },
      "outputs": [],
      "source": [
        "import numpy as np\n",
        "import matplotlib.pyplot as plt \n",
        "#matplotlib.pyplot is a collection of functions that make matplotlib work like MATLAB"
      ]
    },
    {
      "cell_type": "code",
      "execution_count": null,
      "metadata": {
        "id": "hm54jh_soIzX",
        "colab": {
          "base_uri": "https://localhost:8080/"
        },
        "outputId": "3c8be82c-696f-494d-8494-a278226fe11e"
      },
      "outputs": [
        {
          "output_type": "execute_result",
          "data": {
            "text/plain": [
              "array([-5.        , -4.8989899 , -4.7979798 , -4.6969697 , -4.5959596 ,\n",
              "       -4.49494949, -4.39393939, -4.29292929, -4.19191919, -4.09090909,\n",
              "       -3.98989899, -3.88888889, -3.78787879, -3.68686869, -3.58585859,\n",
              "       -3.48484848, -3.38383838, -3.28282828, -3.18181818, -3.08080808,\n",
              "       -2.97979798, -2.87878788, -2.77777778, -2.67676768, -2.57575758,\n",
              "       -2.47474747, -2.37373737, -2.27272727, -2.17171717, -2.07070707,\n",
              "       -1.96969697, -1.86868687, -1.76767677, -1.66666667, -1.56565657,\n",
              "       -1.46464646, -1.36363636, -1.26262626, -1.16161616, -1.06060606,\n",
              "       -0.95959596, -0.85858586, -0.75757576, -0.65656566, -0.55555556,\n",
              "       -0.45454545, -0.35353535, -0.25252525, -0.15151515, -0.05050505,\n",
              "        0.05050505,  0.15151515,  0.25252525,  0.35353535,  0.45454545,\n",
              "        0.55555556,  0.65656566,  0.75757576,  0.85858586,  0.95959596,\n",
              "        1.06060606,  1.16161616,  1.26262626,  1.36363636,  1.46464646,\n",
              "        1.56565657,  1.66666667,  1.76767677,  1.86868687,  1.96969697,\n",
              "        2.07070707,  2.17171717,  2.27272727,  2.37373737,  2.47474747,\n",
              "        2.57575758,  2.67676768,  2.77777778,  2.87878788,  2.97979798,\n",
              "        3.08080808,  3.18181818,  3.28282828,  3.38383838,  3.48484848,\n",
              "        3.58585859,  3.68686869,  3.78787879,  3.88888889,  3.98989899,\n",
              "        4.09090909,  4.19191919,  4.29292929,  4.39393939,  4.49494949,\n",
              "        4.5959596 ,  4.6969697 ,  4.7979798 ,  4.8989899 ,  5.        ])"
            ]
          },
          "metadata": {},
          "execution_count": 235
        }
      ],
      "source": [
        "x = np.linspace(-5,5,100)\n",
        "x"
      ]
    },
    {
      "cell_type": "code",
      "execution_count": null,
      "metadata": {
        "id": "zcHTc4vkoIzY",
        "colab": {
          "base_uri": "https://localhost:8080/"
        },
        "outputId": "8640b0b6-e5e4-4728-9a94-c96708167ee5"
      },
      "outputs": [
        {
          "output_type": "execute_result",
          "data": {
            "text/plain": [
              "array([2.50000000e+01, 2.40001020e+01, 2.30206101e+01, 2.20615243e+01,\n",
              "       2.11228446e+01, 2.02045710e+01, 1.93067034e+01, 1.84292419e+01,\n",
              "       1.75721865e+01, 1.67355372e+01, 1.59192939e+01, 1.51234568e+01,\n",
              "       1.43480257e+01, 1.35930007e+01, 1.28583818e+01, 1.21441690e+01,\n",
              "       1.14503622e+01, 1.07769615e+01, 1.01239669e+01, 9.49137843e+00,\n",
              "       8.87919600e+00, 8.28741965e+00, 7.71604938e+00, 7.16508520e+00,\n",
              "       6.63452709e+00, 6.12437506e+00, 5.63462912e+00, 5.16528926e+00,\n",
              "       4.71635547e+00, 4.28782777e+00, 3.87970615e+00, 3.49199061e+00,\n",
              "       3.12468115e+00, 2.77777778e+00, 2.45128048e+00, 2.14518927e+00,\n",
              "       1.85950413e+00, 1.59422508e+00, 1.34935211e+00, 1.12488522e+00,\n",
              "       9.20824406e-01, 7.37169677e-01, 5.73921028e-01, 4.31078461e-01,\n",
              "       3.08641975e-01, 2.06611570e-01, 1.24987246e-01, 6.37690032e-02,\n",
              "       2.29568411e-02, 2.55076013e-03, 2.55076013e-03, 2.29568411e-02,\n",
              "       6.37690032e-02, 1.24987246e-01, 2.06611570e-01, 3.08641975e-01,\n",
              "       4.31078461e-01, 5.73921028e-01, 7.37169677e-01, 9.20824406e-01,\n",
              "       1.12488522e+00, 1.34935211e+00, 1.59422508e+00, 1.85950413e+00,\n",
              "       2.14518927e+00, 2.45128048e+00, 2.77777778e+00, 3.12468115e+00,\n",
              "       3.49199061e+00, 3.87970615e+00, 4.28782777e+00, 4.71635547e+00,\n",
              "       5.16528926e+00, 5.63462912e+00, 6.12437506e+00, 6.63452709e+00,\n",
              "       7.16508520e+00, 7.71604938e+00, 8.28741965e+00, 8.87919600e+00,\n",
              "       9.49137843e+00, 1.01239669e+01, 1.07769615e+01, 1.14503622e+01,\n",
              "       1.21441690e+01, 1.28583818e+01, 1.35930007e+01, 1.43480257e+01,\n",
              "       1.51234568e+01, 1.59192939e+01, 1.67355372e+01, 1.75721865e+01,\n",
              "       1.84292419e+01, 1.93067034e+01, 2.02045710e+01, 2.11228446e+01,\n",
              "       2.20615243e+01, 2.30206101e+01, 2.40001020e+01, 2.50000000e+01])"
            ]
          },
          "metadata": {},
          "execution_count": 236
        }
      ],
      "source": [
        "y = x*x\n",
        "y"
      ]
    },
    {
      "cell_type": "code",
      "execution_count": null,
      "metadata": {
        "id": "JJ6cqscaoIzY",
        "colab": {
          "base_uri": "https://localhost:8080/",
          "height": 468
        },
        "outputId": "17455955-a2d4-4b4b-fb92-937261e8b32f"
      },
      "outputs": [
        {
          "output_type": "execute_result",
          "data": {
            "text/plain": [
              "[<matplotlib.lines.Line2D at 0x7f8a34815f40>]"
            ]
          },
          "metadata": {},
          "execution_count": 237
        },
        {
          "output_type": "display_data",
          "data": {
            "text/plain": [
              "<Figure size 640x480 with 1 Axes>"
            ],
            "image/png": "[encoded data removed]"
          },
          "metadata": {}
        }
      ],
      "source": [
        "plt.plot(x,y)"
      ]
    },
    {
      "cell_type": "code",
      "execution_count": null,
      "metadata": {
        "id": "qn7peqrOoIzY",
        "colab": {
          "base_uri": "https://localhost:8080/",
          "height": 468
        },
        "outputId": "63413b83-92bb-49d3-f0ae-a0d93fe35aa9"
      },
      "outputs": [
        {
          "output_type": "execute_result",
          "data": {
            "text/plain": [
              "[<matplotlib.lines.Line2D at 0x7f8a31f7edf0>]"
            ]
          },
          "metadata": {},
          "execution_count": 238
        },
        {
          "output_type": "display_data",
          "data": {
            "text/plain": [
              "<Figure size 640x480 with 1 Axes>"
            ],
            "image/png": "[encoded data removed]"
          },
          "metadata": {}
        }
      ],
      "source": [
        "plt.plot(y)"
      ]
    },
    {
      "cell_type": "code",
      "source": [
        "?plt.plot"
      ],
      "metadata": {
        "id": "-amHoXuy6YXb"
      },
      "execution_count": null,
      "outputs": []
    },
    {
      "cell_type": "code",
      "execution_count": null,
      "metadata": {
        "id": "vRInLhHhoIzZ",
        "colab": {
          "base_uri": "https://localhost:8080/",
          "height": 468
        },
        "outputId": "eb2d3578-db88-4d8c-bd57-f4cc3f5aac90"
      },
      "outputs": [
        {
          "output_type": "execute_result",
          "data": {
            "text/plain": [
              "[<matplotlib.lines.Line2D at 0x7f8a31f034f0>]"
            ]
          },
          "metadata": {},
          "execution_count": 239
        },
        {
          "output_type": "display_data",
          "data": {
            "text/plain": [
              "<Figure size 640x480 with 1 Axes>"
            ],
            "image/png": "[encoded data removed]"
          },
          "metadata": {}
        }
      ],
      "source": [
        "plt.plot(np.random.rand(10))\n",
        "plt.plot(np.random.rand(10))"
      ]
    },
    {
      "cell_type": "code",
      "execution_count": null,
      "metadata": {
        "id": "zXDyJjumoIzZ",
        "colab": {
          "base_uri": "https://localhost:8080/",
          "height": 510
        },
        "outputId": "7648ac6c-8607-46e8-de87-bbc758773982"
      },
      "outputs": [
        {
          "output_type": "execute_result",
          "data": {
            "text/plain": [
              "Text(0.5, 1.0, 'Title')"
            ]
          },
          "metadata": {},
          "execution_count": 240
        },
        {
          "output_type": "display_data",
          "data": {
            "text/plain": [
              "<Figure size 640x480 with 1 Axes>"
            ],
            "image/png": "[encoded data removed]"
          },
          "metadata": {}
        }
      ],
      "source": [
        "plt.plot(np.random.rand(10))\n",
        "plt.plot(np.random.rand(10))\n",
        "plt.legend([\"curve1\",\"curve2\"])\n",
        "plt.xlabel(\"X label\")\n",
        "plt.ylabel(\"Y label\")\n",
        "plt.title(\"Title\")"
      ]
    },
    {
      "cell_type": "markdown",
      "source": [
        "Matplotlib Gallery: https://matplotlib.org/stable/plot_types/index"
      ],
      "metadata": {
        "id": "quzW0I0mIPaz"
      }
    },
    {
      "cell_type": "code",
      "execution_count": null,
      "metadata": {
        "id": "uHEruRPgoIzZ",
        "colab": {
          "base_uri": "https://localhost:8080/",
          "height": 473
        },
        "outputId": "c29ea5e7-d279-42d4-a99d-202040bc88c3"
      },
      "outputs": [
        {
          "output_type": "execute_result",
          "data": {
            "text/plain": [
              "[<matplotlib.lines.Line2D at 0x7f8a31cb17c0>]"
            ]
          },
          "metadata": {},
          "execution_count": 241
        },
        {
          "output_type": "display_data",
          "data": {
            "text/plain": [
              "<Figure size 640x480 with 6 Axes>"
            ],
            "image/png": "[encoded data removed]"
          },
          "metadata": {}
        }
      ],
      "source": [
        "#(Optional)\n",
        "# Multiple Subplots \n",
        "fig, ax = plt.subplots(nrows=2, ncols=3)\n",
        "ax[0,0].plot(x,y)\n",
        "ax[1,2].plot(x,y)"
      ]
    },
    {
      "cell_type": "code",
      "source": [],
      "metadata": {
        "id": "2q5Qh2pXHvIM"
      },
      "execution_count": null,
      "outputs": []
    }
  ],
  "metadata": {
    "colab": {
      "provenance": [],
      "collapsed_sections": [
        "433NNh_loIzO",
        "EauKQ5SIoIzR",
        "tFi2SP9JoIzU",
        "rgKBI5ZGoIzX",
        "TZ0xnn_JoIzX"
      ],
      "toc_visible": true,
      "include_colab_link": true
    },
    "kernelspec": {
      "display_name": "Python 3 (ipykernel)",
      "language": "python",
      "name": "python3"
    },
    "language_info": {
      "codemirror_mode": {
        "name": "ipython",
        "version": 3
      },
      "file_extension": ".py",
      "mimetype": "text/x-python",
      "name": "python",
      "nbconvert_exporter": "python",
      "pygments_lexer": "ipython3",
      "version": "3.9.7"
    }
  },
  "nbformat": 4,
  "nbformat_minor": 0
}