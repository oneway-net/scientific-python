{
  "nbformat": 4,
  "nbformat_minor": 0,
  "metadata": {
    "kernelspec": {
      "display_name": "PyTorch-GPU",
      "language": "python",
      "name": "pyt-gpu"
    },
    "language_info": {
      "codemirror_mode": {
        "name": "ipython",
        "version": 3
      },
      "file_extension": ".py",
      "mimetype": "text/x-python",
      "name": "python",
      "nbconvert_exporter": "python",
      "pygments_lexer": "ipython3",
      "version": "3.6.8"
    },
    "colab": {
      "provenance": [],
      "collapsed_sections": [
        "pDnSshCXD-ZL",
        "2JDTirUfD-Zf",
        "vICVTE1wD-Zq",
        "wDNQLaL6D-Zu",
        "hNbj9oDlD-aS",
        "3kRdaQe6D-ab",
        "5t7iYj2eD-an",
        "tRlkcpT0D-a1",
        "ROmpaSMVD-bA",
        "VY6m7c0qD-bQ"
      ],
      "toc_visible": true,
      "include_colab_link": true
    },
    "accelerator": "GPU",
    "gpuClass": "standard"
  },
  "cells": [
    {
      "cell_type": "markdown",
      "metadata": {
        "id": "view-in-github",
        "colab_type": "text"
      },
      "source": [
        "<a href=\"https://colab.research.google.com/github/oneway-net/scientific-python/blob/main/Lecture_8.ipynb\" target=\"_parent\"><img src=\"https://colab.research.google.com/assets/colab-badge.svg\" alt=\"Open In Colab\"/></a>"
      ]
    },
    {
      "cell_type": "markdown",
      "metadata": {
        "id": "3VNIH93hD-Ya"
      },
      "source": [
        "# Lecture 8 - PyTorch\n",
        "\n",
        "This will be the final lecture, today we will first have a brief introduction of deep learning, then we will look at some basics of using PyTorch to implement some simple models in deep learning.\n",
        "\n",
        "1. Homework due today\n",
        "2. No OH today"
      ]
    },
    {
      "cell_type": "markdown",
      "source": [
        "# Basic Section (Start)\n",
        "What is Neural Network:\n",
        "1. [My recommended youtube video with great visual helpers](https://www.youtube.com/watch?v=aircAruvnKk&list=PLZHQObOWTQDNU6R1_67000Dx_ZCJB-3pi&index=4)\n",
        "2.  [Previous Years Instructor's Recording](https://stanford-pilot.hosted.panopto.com/Panopto/Pages/Viewer.aspx?id=c79271d9-3694-49d3-8f93-afb10161e47e)\n",
        "# Basic Section (End)"
      ],
      "metadata": {
        "id": "jJYsdl4IbsO6"
      }
    },
    {
      "cell_type": "markdown",
      "metadata": {
        "id": "S-fCZYu2D-Yc"
      },
      "source": [
        "## Deep Learning Libraries\n",
        "\n",
        "There are many deep learning libraries available, the most common ones for python are\n",
        "\n",
        "- TensorFlow, Keras\n",
        "- PyTorch\n",
        "\n",
        "Working with tensorflow requires going into lot of details of the contruction of the computation graph, whereas Keras is a higher level interface for tensorflow. Tensorflow is very popular in the industry and good for production code.\n",
        "\n",
        "PyTorch can be used as low level interface, but is much more user-friendly than tensorflow, but it also has a higher level interface. Pytorch is more popular in the research community."
      ]
    },
    {
      "cell_type": "markdown",
      "metadata": {
        "id": "DzUDYHi8D-Yd"
      },
      "source": [
        "## Main features that any deep learning library should provide\n",
        "\n",
        "No matter what library or language you use, the main features provided by a deep learning library are \n",
        "1. Use the GPU to speed up computation \n",
        "2. Ability to do automatic differentiation\n",
        "3. Useful library functions for common architectures and optimization algorithms\n",
        "\n",
        "### PyTorch\n",
        "We will look at all of the above in pytorch.\n",
        "The best way to think about pytorch is that its numpy + GPU + autograd.\n",
        "\n",
        "You can install it with\n",
        "\n",
        "```conda install pytorch```.\n",
        "\n",
        "Alternatively (and recommended), run this notebook in Google Colab-- it provides an environment with all of the PyTorch dependencies plus a GPU free of charge."
      ]
    },
    {
      "cell_type": "code",
      "metadata": {
        "id": "fCdvNHW0D-Ye"
      },
      "source": [
        "import torch\n",
        "import numpy as np"
      ],
      "execution_count": null,
      "outputs": []
    },
    {
      "cell_type": "markdown",
      "metadata": {
        "id": "ZpWzZewHD-Yi"
      },
      "source": [
        "The equivalent object to numpy arrays in pytorch are called tensors, but they are just multidimensional arrays."
      ]
    },
    {
      "cell_type": "code",
      "metadata": {
        "id": "t78yenP1D-Yj",
        "colab": {
          "base_uri": "https://localhost:8080/"
        },
        "outputId": "7b0c461e-703f-46df-98ef-b10e038aba64"
      },
      "source": [
        "torch.tensor([2,3,4,5])"
      ],
      "execution_count": null,
      "outputs": [
        {
          "output_type": "execute_result",
          "data": {
            "text/plain": [
              "tensor([2, 3, 4, 5])"
            ]
          },
          "metadata": {},
          "execution_count": 5
        }
      ]
    },
    {
      "cell_type": "code",
      "metadata": {
        "id": "Efg1UeizD-Ym",
        "colab": {
          "base_uri": "https://localhost:8080/"
        },
        "outputId": "f4056dc5-a957-4c02-d164-ce49a0d16526"
      },
      "source": [
        "torch.zeros((5,5))"
      ],
      "execution_count": null,
      "outputs": [
        {
          "output_type": "execute_result",
          "data": {
            "text/plain": [
              "tensor([[0., 0., 0., 0., 0.],\n",
              "        [0., 0., 0., 0., 0.],\n",
              "        [0., 0., 0., 0., 0.],\n",
              "        [0., 0., 0., 0., 0.],\n",
              "        [0., 0., 0., 0., 0.]])"
            ]
          },
          "metadata": {},
          "execution_count": 6
        }
      ]
    },
    {
      "cell_type": "code",
      "metadata": {
        "id": "1BlufhDpD-Yp",
        "colab": {
          "base_uri": "https://localhost:8080/"
        },
        "outputId": "1283aace-d534-4267-a874-68e962ff36c3"
      },
      "source": [
        "x = torch.ones((5,5))\n",
        "print(type(x))\n",
        "x"
      ],
      "execution_count": null,
      "outputs": [
        {
          "output_type": "stream",
          "name": "stdout",
          "text": [
            "<class 'torch.Tensor'>\n"
          ]
        },
        {
          "output_type": "execute_result",
          "data": {
            "text/plain": [
              "tensor([[1., 1., 1., 1., 1.],\n",
              "        [1., 1., 1., 1., 1.],\n",
              "        [1., 1., 1., 1., 1.],\n",
              "        [1., 1., 1., 1., 1.],\n",
              "        [1., 1., 1., 1., 1.]])"
            ]
          },
          "metadata": {},
          "execution_count": 7
        }
      ]
    },
    {
      "cell_type": "code",
      "metadata": {
        "id": "acgFdW_4D-Yr",
        "colab": {
          "base_uri": "https://localhost:8080/"
        },
        "outputId": "a3d86c59-3c4d-4e62-8b3f-afe40c793c80"
      },
      "source": [
        "2*x + 5"
      ],
      "execution_count": null,
      "outputs": [
        {
          "output_type": "execute_result",
          "data": {
            "text/plain": [
              "tensor([[7., 7., 7., 7., 7.],\n",
              "        [7., 7., 7., 7., 7.],\n",
              "        [7., 7., 7., 7., 7.],\n",
              "        [7., 7., 7., 7., 7.],\n",
              "        [7., 7., 7., 7., 7.]])"
            ]
          },
          "metadata": {},
          "execution_count": 8
        }
      ]
    },
    {
      "cell_type": "code",
      "metadata": {
        "id": "NwCz7O1wD-Yu",
        "colab": {
          "base_uri": "https://localhost:8080/"
        },
        "outputId": "a8c4ce65-d9e6-4e14-ba95-2f834168b758"
      },
      "source": [
        "torch.randn(5,5)"
      ],
      "execution_count": null,
      "outputs": [
        {
          "output_type": "execute_result",
          "data": {
            "text/plain": [
              "tensor([[ 2.0389,  1.9222, -0.5508,  0.2756, -0.9061],\n",
              "        [-0.3364,  0.6881, -0.0981, -0.5064,  0.0598],\n",
              "        [ 0.2379,  0.6156,  0.2822,  1.9747,  1.4114],\n",
              "        [-2.4697,  0.7823,  1.2714, -0.9148, -0.4484],\n",
              "        [-0.5442, -1.9438,  1.1559,  0.8419,  0.7047]])"
            ]
          },
          "metadata": {},
          "execution_count": 9
        }
      ]
    },
    {
      "cell_type": "code",
      "metadata": {
        "id": "4fHiY5VKD-Yw",
        "colab": {
          "base_uri": "https://localhost:8080/"
        },
        "outputId": "faddb0a6-4970-4046-ce9f-161fcbf82251"
      },
      "source": [
        "x = torch.rand(25)\n",
        "x"
      ],
      "execution_count": null,
      "outputs": [
        {
          "output_type": "execute_result",
          "data": {
            "text/plain": [
              "tensor([0.6136, 0.2190, 0.5721, 0.6396, 0.6953, 0.4541, 0.3827, 0.0567, 0.6638,\n",
              "        0.7713, 0.1073, 0.1899, 0.6161, 0.4600, 0.9465, 0.1657, 0.6050, 0.0697,\n",
              "        0.7622, 0.8850, 0.6074, 0.1173, 0.3420, 0.9066, 0.6158])"
            ]
          },
          "metadata": {},
          "execution_count": 10
        }
      ]
    },
    {
      "cell_type": "code",
      "metadata": {
        "id": "0_QKyI7hD-Yz",
        "colab": {
          "base_uri": "https://localhost:8080/"
        },
        "outputId": "f64a413d-8ccd-498d-9289-900a4e07dc9a"
      },
      "source": [
        "x=x.reshape(-1,5)\n",
        "x"
      ],
      "execution_count": null,
      "outputs": [
        {
          "output_type": "execute_result",
          "data": {
            "text/plain": [
              "tensor([[0.6136, 0.2190, 0.5721, 0.6396, 0.6953],\n",
              "        [0.4541, 0.3827, 0.0567, 0.6638, 0.7713],\n",
              "        [0.1073, 0.1899, 0.6161, 0.4600, 0.9465],\n",
              "        [0.1657, 0.6050, 0.0697, 0.7622, 0.8850],\n",
              "        [0.6074, 0.1173, 0.3420, 0.9066, 0.6158]])"
            ]
          },
          "metadata": {},
          "execution_count": 11
        }
      ]
    },
    {
      "cell_type": "code",
      "metadata": {
        "id": "WLKjs14-D-Y3",
        "colab": {
          "base_uri": "https://localhost:8080/"
        },
        "outputId": "02b27f41-20e5-41c5-ae62-13de4716b2b7"
      },
      "source": [
        "x.shape"
      ],
      "execution_count": null,
      "outputs": [
        {
          "output_type": "execute_result",
          "data": {
            "text/plain": [
              "torch.Size([5, 5])"
            ]
          },
          "metadata": {},
          "execution_count": 12
        }
      ]
    },
    {
      "cell_type": "code",
      "metadata": {
        "id": "Kn9fwJoSD-Y5",
        "colab": {
          "base_uri": "https://localhost:8080/"
        },
        "outputId": "c22dd433-c8db-4bc3-eb99-3561c866fa9e"
      },
      "source": [
        "print(torch.arange(10))\n",
        "print(torch.eye(5))\n",
        "print(torch.linspace(0,1,10))"
      ],
      "execution_count": null,
      "outputs": [
        {
          "output_type": "stream",
          "name": "stdout",
          "text": [
            "tensor([0, 1, 2, 3, 4, 5, 6, 7, 8, 9])\n",
            "tensor([[1., 0., 0., 0., 0.],\n",
            "        [0., 1., 0., 0., 0.],\n",
            "        [0., 0., 1., 0., 0.],\n",
            "        [0., 0., 0., 1., 0.],\n",
            "        [0., 0., 0., 0., 1.]])\n",
            "tensor([0.0000, 0.1111, 0.2222, 0.3333, 0.4444, 0.5556, 0.6667, 0.7778, 0.8889,\n",
            "        1.0000])\n"
          ]
        }
      ]
    },
    {
      "cell_type": "markdown",
      "metadata": {
        "id": "Cix7EXwSD-Y7"
      },
      "source": [
        "Some functions are a bit different"
      ]
    },
    {
      "cell_type": "code",
      "source": [
        "A = np.random.rand(5,5)\n",
        "x = np.ones((5,1))\n",
        "A@x"
      ],
      "metadata": {
        "colab": {
          "base_uri": "https://localhost:8080/"
        },
        "id": "fRrYVBDmjLpq",
        "outputId": "1fe4b00d-c01f-4e13-f93d-bd9aa5ffb751"
      },
      "execution_count": null,
      "outputs": [
        {
          "output_type": "execute_result",
          "data": {
            "text/plain": [
              "array([[2.27711895],\n",
              "       [2.09251975],\n",
              "       [3.38718905],\n",
              "       [2.33932473],\n",
              "       [3.32822249]])"
            ]
          },
          "metadata": {},
          "execution_count": 16
        }
      ]
    },
    {
      "cell_type": "code",
      "source": [
        "A_ = torch.rand((5,5))\n",
        "x_ = torch.rand(5,1)\n",
        "A_@x_"
      ],
      "metadata": {
        "colab": {
          "base_uri": "https://localhost:8080/"
        },
        "id": "npGWD47jicvY",
        "outputId": "ef3e7595-01b3-48cb-934b-4af306b1ed67"
      },
      "execution_count": null,
      "outputs": [
        {
          "output_type": "execute_result",
          "data": {
            "text/plain": [
              "tensor([[1.7982],\n",
              "        [1.2171],\n",
              "        [1.4513],\n",
              "        [0.8561],\n",
              "        [1.0434]])"
            ]
          },
          "metadata": {},
          "execution_count": 17
        }
      ]
    },
    {
      "cell_type": "code",
      "metadata": {
        "id": "9BukQIL5D-Y8",
        "colab": {
          "base_uri": "https://localhost:8080/"
        },
        "outputId": "1ed25451-c49b-4ad3-97e8-1c32c2a97875"
      },
      "source": [
        "A = torch.ones((5,5)) \n",
        "x = torch.ones(5,1)\n",
        "A@x"
      ],
      "execution_count": null,
      "outputs": [
        {
          "output_type": "execute_result",
          "data": {
            "text/plain": [
              "tensor([[5.],\n",
              "        [5.],\n",
              "        [5.],\n",
              "        [5.],\n",
              "        [5.]])"
            ]
          },
          "metadata": {},
          "execution_count": 18
        }
      ]
    },
    {
      "cell_type": "code",
      "source": [
        "?np.ones"
      ],
      "metadata": {
        "id": "n2XG-EU0jUci"
      },
      "execution_count": null,
      "outputs": []
    },
    {
      "cell_type": "code",
      "metadata": {
        "id": "k6YHvvy4D-Y-"
      },
      "source": [
        "?torch.ones"
      ],
      "execution_count": null,
      "outputs": []
    },
    {
      "cell_type": "markdown",
      "metadata": {
        "id": "vpEwcH-JD-ZA"
      },
      "source": [
        "You can convert tensors to a numpy array that shares its memory with the pytorch tensor -> to use more library that are compatible to numpy but not pytorch"
      ]
    },
    {
      "cell_type": "code",
      "metadata": {
        "id": "MquNPK71D-ZC",
        "colab": {
          "base_uri": "https://localhost:8080/"
        },
        "outputId": "ab6c7b31-93bc-4dd3-a744-efd2bf390a12"
      },
      "source": [
        "x = torch.ones(5,5)\n",
        "x"
      ],
      "execution_count": null,
      "outputs": [
        {
          "output_type": "execute_result",
          "data": {
            "text/plain": [
              "tensor([[1., 1., 1., 1., 1.],\n",
              "        [1., 1., 1., 1., 1.],\n",
              "        [1., 1., 1., 1., 1.],\n",
              "        [1., 1., 1., 1., 1.],\n",
              "        [1., 1., 1., 1., 1.]])"
            ]
          },
          "metadata": {},
          "execution_count": 21
        }
      ]
    },
    {
      "cell_type": "code",
      "metadata": {
        "id": "aOeMqFrOD-ZE",
        "colab": {
          "base_uri": "https://localhost:8080/"
        },
        "outputId": "b3fef712-a1fc-4e14-a65c-c0ac6286b918"
      },
      "source": [
        "xn = x.numpy()\n",
        "print(type(xn))\n",
        "xn"
      ],
      "execution_count": null,
      "outputs": [
        {
          "output_type": "stream",
          "name": "stdout",
          "text": [
            "<class 'numpy.ndarray'>\n"
          ]
        },
        {
          "output_type": "execute_result",
          "data": {
            "text/plain": [
              "array([[1., 1., 1., 1., 1.],\n",
              "       [1., 1., 1., 1., 1.],\n",
              "       [1., 1., 1., 1., 1.],\n",
              "       [1., 1., 1., 1., 1.],\n",
              "       [1., 1., 1., 1., 1.]], dtype=float32)"
            ]
          },
          "metadata": {},
          "execution_count": 22
        }
      ]
    },
    {
      "cell_type": "code",
      "metadata": {
        "id": "bZlG0x9xD-ZH",
        "colab": {
          "base_uri": "https://localhost:8080/"
        },
        "outputId": "77342c19-163c-4eab-ca69-ef013213914f"
      },
      "source": [
        "# Changes in Numpy will cause changes in Tensor\n",
        "xn[4,2]=10\n",
        "xn"
      ],
      "execution_count": null,
      "outputs": [
        {
          "output_type": "execute_result",
          "data": {
            "text/plain": [
              "array([[ 1.,  1.,  1.,  1.,  1.],\n",
              "       [ 1.,  1.,  1.,  1.,  1.],\n",
              "       [ 1.,  1.,  1.,  1.,  1.],\n",
              "       [ 1.,  1.,  1.,  1.,  1.],\n",
              "       [ 1.,  1., 10.,  1.,  1.]], dtype=float32)"
            ]
          },
          "metadata": {},
          "execution_count": 23
        }
      ]
    },
    {
      "cell_type": "code",
      "metadata": {
        "id": "sN6qJIsID-ZJ",
        "colab": {
          "base_uri": "https://localhost:8080/"
        },
        "outputId": "bf4a24cc-1239-48b2-f5ed-5b30dc44be50"
      },
      "source": [
        "x"
      ],
      "execution_count": null,
      "outputs": [
        {
          "output_type": "execute_result",
          "data": {
            "text/plain": [
              "tensor([[ 1.,  1.,  1.,  1.,  1.],\n",
              "        [ 1.,  1.,  1.,  1.,  1.],\n",
              "        [ 1.,  1.,  1.,  1.,  1.],\n",
              "        [ 1.,  1.,  1.,  1.,  1.],\n",
              "        [ 1.,  1., 10.,  1.,  1.]])"
            ]
          },
          "metadata": {},
          "execution_count": 24
        }
      ]
    },
    {
      "cell_type": "markdown",
      "metadata": {
        "id": "pDnSshCXD-ZL"
      },
      "source": [
        "### Using the GPU\n",
        "\n",
        "The GPU (Graphical Processing Unit) is a separate processing unit that is specialized to handle bulk computations required for rendering high quality graphics. It mainly consists of a large number of processor cores that are individually very slow, but because of their sheer number (around 2000) they can churn through computations very quickly. "
      ]
    },
    {
      "cell_type": "code",
      "metadata": {
        "id": "pmJ0hjO5D-ZM",
        "colab": {
          "base_uri": "https://localhost:8080/"
        },
        "outputId": "0a7b4ec5-1b66-4aaa-94f4-d09b553cf189"
      },
      "source": [
        "import torch\n",
        "\"\"\"\n",
        "CUDA is a parallel computing platform \n",
        "and application programming interface \n",
        "that allows software to use certain types \n",
        "of graphics processing units for general purpose processing\n",
        "\"\"\";\n",
        "#CUDA -> Recommend CME213 (C++)\n",
        "torch.cuda.is_available()"
      ],
      "execution_count": null,
      "outputs": [
        {
          "output_type": "execute_result",
          "data": {
            "text/plain": [
              "True"
            ]
          },
          "metadata": {},
          "execution_count": 25
        }
      ]
    },
    {
      "cell_type": "markdown",
      "metadata": {
        "id": "i0kadMeJD-ZN"
      },
      "source": [
        "Installing the GPU drivers and the CUDA toolkit can be quite messy, so if you just want to experiment with GPUs and deep learning libraries, you can use [Google colaboratory](https://colab.research.google.com/)"
      ]
    },
    {
      "cell_type": "code",
      "metadata": {
        "id": "fCtE0kLaD-ZO"
      },
      "source": [
        "gpu = torch.device(\"cuda\")\n",
        "cpu = torch.device(\"cpu\")"
      ],
      "execution_count": null,
      "outputs": []
    },
    {
      "cell_type": "code",
      "metadata": {
        "id": "ESIE5J08D-ZS"
      },
      "source": [
        "A = torch.rand(100,100)\n",
        "B = torch.rand(100,100)"
      ],
      "execution_count": null,
      "outputs": []
    },
    {
      "cell_type": "code",
      "metadata": {
        "id": "t6VNz5SzD-ZU",
        "colab": {
          "base_uri": "https://localhost:8080/"
        },
        "outputId": "9e9bddfa-8d6d-4666-fdd9-ff8cdb7c98a0"
      },
      "source": [
        "A@B"
      ],
      "execution_count": null,
      "outputs": [
        {
          "output_type": "execute_result",
          "data": {
            "text/plain": [
              "tensor([[25.9445, 23.3451, 23.2453,  ..., 23.6876, 23.3642, 21.0127],\n",
              "        [29.1864, 29.7169, 27.8055,  ..., 29.9012, 26.9726, 24.5918],\n",
              "        [26.6460, 26.9354, 25.1543,  ..., 26.0435, 25.1616, 22.4802],\n",
              "        ...,\n",
              "        [29.2716, 27.0511, 27.1193,  ..., 28.7066, 26.1744, 24.4956],\n",
              "        [29.4815, 27.5012, 26.7596,  ..., 29.7794, 28.2612, 25.2685],\n",
              "        [26.5447, 23.0760, 24.2269,  ..., 26.3211, 23.7328, 21.0399]])"
            ]
          },
          "metadata": {},
          "execution_count": 31
        }
      ]
    },
    {
      "cell_type": "code",
      "metadata": {
        "id": "vXjtNNqtD-ZW"
      },
      "source": [
        "A_gpu = A.to(gpu)\n",
        "B_gpu = B.to(gpu)"
      ],
      "execution_count": null,
      "outputs": []
    },
    {
      "cell_type": "code",
      "metadata": {
        "id": "krIHa3ErD-ZY",
        "colab": {
          "base_uri": "https://localhost:8080/"
        },
        "outputId": "698cc114-6b74-4379-8e31-10d633d887e9"
      },
      "source": [
        "A_gpu@B_gpu"
      ],
      "execution_count": null,
      "outputs": [
        {
          "output_type": "execute_result",
          "data": {
            "text/plain": [
              "tensor([[25.9445, 23.3451, 23.2453,  ..., 23.6876, 23.3642, 21.0127],\n",
              "        [29.1864, 29.7169, 27.8055,  ..., 29.9012, 26.9726, 24.5918],\n",
              "        [26.6460, 26.9354, 25.1543,  ..., 26.0435, 25.1616, 22.4802],\n",
              "        ...,\n",
              "        [29.2716, 27.0511, 27.1193,  ..., 28.7066, 26.1744, 24.4956],\n",
              "        [29.4815, 27.5012, 26.7596,  ..., 29.7794, 28.2612, 25.2685],\n",
              "        [26.5447, 23.0760, 24.2269,  ..., 26.3211, 23.7328, 21.0399]],\n",
              "       device='cuda:0')"
            ]
          },
          "metadata": {},
          "execution_count": 33
        }
      ]
    },
    {
      "cell_type": "code",
      "metadata": {
        "id": "sox7ng2OD-ZZ",
        "colab": {
          "base_uri": "https://localhost:8080/",
          "height": 204
        },
        "outputId": "56af008a-d8cc-4ba7-92ad-4ed1ada9e5d3"
      },
      "source": [
        "A@B_gpu #this won't work!"
      ],
      "execution_count": null,
      "outputs": [
        {
          "output_type": "error",
          "ename": "RuntimeError",
          "evalue": "ignored",
          "traceback": [
            "\u001b[0;31m---------------------------------------------------------------------------\u001b[0m",
            "\u001b[0;31mRuntimeError\u001b[0m                              Traceback (most recent call last)",
            "\u001b[0;32m<ipython-input-34-2e3381049b9a>\u001b[0m in \u001b[0;36m<cell line: 1>\u001b[0;34m()\u001b[0m\n\u001b[0;32m----> 1\u001b[0;31m \u001b[0mA\u001b[0m\u001b[0;34m@\u001b[0m\u001b[0mB_gpu\u001b[0m \u001b[0;31m#this won't work!\u001b[0m\u001b[0;34m\u001b[0m\u001b[0;34m\u001b[0m\u001b[0m\n\u001b[0m",
            "\u001b[0;31mRuntimeError\u001b[0m: Expected all tensors to be on the same device, but found at least two devices, cpu and cuda:0! (when checking argument for argument mat2 in method wrapper_CUDA_mm)"
          ]
        }
      ]
    },
    {
      "cell_type": "code",
      "metadata": {
        "id": "j5oi8M-GD-Zc",
        "colab": {
          "base_uri": "https://localhost:8080/"
        },
        "outputId": "274326e2-77b4-4f49-fe79-19f7836decfe"
      },
      "source": [
        "C_gpu = A_gpu@B_gpu\n",
        "C = C_gpu.to(cpu)\n",
        "C"
      ],
      "execution_count": null,
      "outputs": [
        {
          "output_type": "execute_result",
          "data": {
            "text/plain": [
              "tensor([[25.9445, 23.3451, 23.2453,  ..., 23.6876, 23.3642, 21.0127],\n",
              "        [29.1864, 29.7169, 27.8055,  ..., 29.9012, 26.9726, 24.5918],\n",
              "        [26.6460, 26.9354, 25.1543,  ..., 26.0435, 25.1616, 22.4802],\n",
              "        ...,\n",
              "        [29.2716, 27.0511, 27.1193,  ..., 28.7066, 26.1744, 24.4956],\n",
              "        [29.4815, 27.5012, 26.7596,  ..., 29.7794, 28.2612, 25.2685],\n",
              "        [26.5447, 23.0760, 24.2269,  ..., 26.3211, 23.7328, 21.0399]])"
            ]
          },
          "metadata": {},
          "execution_count": 35
        }
      ]
    },
    {
      "cell_type": "markdown",
      "metadata": {
        "id": "vICVTE1wD-Zq"
      },
      "source": [
        "## Speedup from GPU\n",
        "`%%timeit` is a Jupyter Notebook magic command that is used to measure the execution time of a Python code snippet. When you add `%%timeit` at the beginning of a cell in a Jupyter Notebook, it will run the code in the cell multiple times and measure the average execution time."
      ]
    },
    {
      "cell_type": "code",
      "metadata": {
        "id": "4raRnuw1D-Zr",
        "colab": {
          "base_uri": "https://localhost:8080/"
        },
        "outputId": "132f1f9c-58bd-4790-c51f-644a172e5fb5"
      },
      "source": [
        "%%timeit\n",
        "A = torch.rand(3000,3000)\n",
        "B = torch.rand(3000,3000)\n",
        "for i in range(5):\n",
        "    B=torch.mm(A,B)"
      ],
      "execution_count": null,
      "outputs": [
        {
          "output_type": "stream",
          "name": "stdout",
          "text": [
            "3.87 s ± 486 ms per loop (mean ± std. dev. of 7 runs, 1 loop each)\n"
          ]
        }
      ]
    },
    {
      "cell_type": "code",
      "metadata": {
        "id": "Ch47eB6OD-Zt",
        "colab": {
          "base_uri": "https://localhost:8080/"
        },
        "outputId": "ccf9063f-5680-4214-e4ff-f11f21417152"
      },
      "source": [
        "%%timeit\n",
        "A = torch.rand(3000,3000, device = gpu)\n",
        "B = torch.rand(3000,3000, device = gpu)\n",
        "for i in range(5):\n",
        "    B=torch.mm(A,B)"
      ],
      "execution_count": null,
      "outputs": [
        {
          "output_type": "stream",
          "name": "stdout",
          "text": [
            "68 ms ± 1.6 ms per loop (mean ± std. dev. of 7 runs, 100 loops each)\n"
          ]
        }
      ]
    },
    {
      "cell_type": "markdown",
      "metadata": {
        "id": "wDNQLaL6D-Zu"
      },
      "source": [
        "## Automatic Differentiation\n",
        "\n",
        "PyTorch uses dynamic computation graphs to compute the gradients of the parameters."
      ]
    },
    {
      "cell_type": "code",
      "metadata": {
        "id": "1r6mfgjHD-Zv"
      },
      "source": [
        "x = torch.tensor([2.0])\n",
        "w = torch.tensor([5.0], requires_grad = True)\n",
        "b = torch.tensor([2.0], requires_grad = True)"
      ],
      "execution_count": null,
      "outputs": []
    },
    {
      "cell_type": "code",
      "metadata": {
        "id": "eezGUNqXD-Zy",
        "colab": {
          "base_uri": "https://localhost:8080/"
        },
        "outputId": "563473e8-a007-47d6-9412-21ccb878132a"
      },
      "source": [
        "y = w*x + b #12 = 5*2 + 2\n",
        "y"
      ],
      "execution_count": null,
      "outputs": [
        {
          "output_type": "execute_result",
          "data": {
            "text/plain": [
              "tensor([12.], grad_fn=<AddBackward0>)"
            ]
          },
          "metadata": {},
          "execution_count": 38
        }
      ]
    },
    {
      "cell_type": "markdown",
      "metadata": {
        "id": "F_Y_WzasD-Z0"
      },
      "source": [
        "Define an error for your function"
      ]
    },
    {
      "cell_type": "code",
      "metadata": {
        "id": "3r7oYMHFD-Z0",
        "colab": {
          "base_uri": "https://localhost:8080/"
        },
        "outputId": "1c8a2611-3095-4611-c651-7489889a3595"
      },
      "source": [
        "loss = torch.norm( y - 13)\n",
        "loss"
      ],
      "execution_count": null,
      "outputs": [
        {
          "output_type": "execute_result",
          "data": {
            "text/plain": [
              "tensor(1., grad_fn=<LinalgVectorNormBackward0>)"
            ]
          },
          "metadata": {},
          "execution_count": 39
        }
      ]
    },
    {
      "cell_type": "code",
      "metadata": {
        "id": "7OuhWukrD-Z3"
      },
      "source": [
        "w.grad"
      ],
      "execution_count": null,
      "outputs": []
    },
    {
      "cell_type": "markdown",
      "metadata": {
        "id": "oMhtVXAhD-Z5"
      },
      "source": [
        "Calling `x.backward()` on any tensor forces pytorch to compute all the gradients of the tensors used to compute `x` which had the `requires_grad` flag set to `True`. The computed gradient will be stored in the `.grad` property of the tensors"
      ]
    },
    {
      "cell_type": "code",
      "metadata": {
        "id": "5PIU90uoD-Z5"
      },
      "source": [
        "loss.backward()"
      ],
      "execution_count": null,
      "outputs": []
    },
    {
      "cell_type": "code",
      "metadata": {
        "id": "vYbns6g4D-Z7",
        "colab": {
          "base_uri": "https://localhost:8080/"
        },
        "outputId": "8f4b6c88-fecc-4140-835d-929a2d710bab"
      },
      "source": [
        "w.grad"
      ],
      "execution_count": null,
      "outputs": [
        {
          "output_type": "execute_result",
          "data": {
            "text/plain": [
              "tensor([-2.])"
            ]
          },
          "metadata": {},
          "execution_count": 42
        }
      ]
    },
    {
      "cell_type": "code",
      "metadata": {
        "id": "0MYesARFD-Z9",
        "colab": {
          "base_uri": "https://localhost:8080/"
        },
        "outputId": "ed0409fd-edb3-4ca1-d45f-bbdde6693a2c"
      },
      "source": [
        "b.grad"
      ],
      "execution_count": null,
      "outputs": [
        {
          "output_type": "execute_result",
          "data": {
            "text/plain": [
              "tensor([-1.])"
            ]
          },
          "metadata": {},
          "execution_count": 43
        }
      ]
    },
    {
      "cell_type": "markdown",
      "source": [
        "we can tell PyTorch to skip the gradient calculations, which can help to reduce the memory usage and speed up computations."
      ],
      "metadata": {
        "id": "a9GBX-JwVykN"
      }
    },
    {
      "cell_type": "code",
      "metadata": {
        "id": "XDhPOJHRD-aA"
      },
      "source": [
        "# It will reduce memory consumption for computations \n",
        "# that would otherwise have requires_grad=True\n",
        "with torch.no_grad(): #when we update w and b, do not update gradients\n",
        "    w -= 0.01 * w.grad\n",
        "    b -= 0.3 * b.grad"
      ],
      "execution_count": null,
      "outputs": []
    },
    {
      "cell_type": "code",
      "metadata": {
        "id": "6TlUBDHaD-aC",
        "colab": {
          "base_uri": "https://localhost:8080/"
        },
        "outputId": "d6bc8a1b-4ea9-4f30-978a-bf70261d72cc"
      },
      "source": [
        "w,b"
      ],
      "execution_count": null,
      "outputs": [
        {
          "output_type": "execute_result",
          "data": {
            "text/plain": [
              "(tensor([5.0200], requires_grad=True), tensor([2.3000], requires_grad=True))"
            ]
          },
          "metadata": {},
          "execution_count": 46
        }
      ]
    },
    {
      "cell_type": "code",
      "metadata": {
        "id": "Lj85MTj2D-aF",
        "colab": {
          "base_uri": "https://localhost:8080/"
        },
        "outputId": "e8f6f653-d10a-4165-d5c3-db45152250fb"
      },
      "source": [
        "w.grad, b.grad"
      ],
      "execution_count": null,
      "outputs": [
        {
          "output_type": "execute_result",
          "data": {
            "text/plain": [
              "(tensor([-2.]), tensor([-1.]))"
            ]
          },
          "metadata": {},
          "execution_count": 47
        }
      ]
    },
    {
      "cell_type": "code",
      "metadata": {
        "id": "J3UbDFA7D-aJ",
        "colab": {
          "base_uri": "https://localhost:8080/"
        },
        "outputId": "bc424cc6-be12-4f56-9450-33072d3c3618"
      },
      "source": [
        "# the gradients will accumulate and lead to incorrect updates and slower convergence.\n",
        "w.grad.zero_()\n",
        "b.grad.zero_()\n",
        "\n",
        "w.grad, b.grad"
      ],
      "execution_count": null,
      "outputs": [
        {
          "output_type": "execute_result",
          "data": {
            "text/plain": [
              "(tensor([0.]), tensor([0.]))"
            ]
          },
          "metadata": {},
          "execution_count": 48
        }
      ]
    },
    {
      "cell_type": "code",
      "metadata": {
        "id": "PNgA5bqxD-aL"
      },
      "source": [
        "y = w*x + b"
      ],
      "execution_count": null,
      "outputs": []
    },
    {
      "cell_type": "code",
      "metadata": {
        "id": "LhEnrtmQD-aN",
        "colab": {
          "base_uri": "https://localhost:8080/"
        },
        "outputId": "e344e6b8-9fa4-4a54-b418-d1a589366563"
      },
      "source": [
        "y"
      ],
      "execution_count": null,
      "outputs": [
        {
          "output_type": "execute_result",
          "data": {
            "text/plain": [
              "tensor([12.3400], grad_fn=<AddBackward0>)"
            ]
          },
          "metadata": {},
          "execution_count": 50
        }
      ]
    },
    {
      "cell_type": "code",
      "metadata": {
        "id": "QJYE5aRpD-aO",
        "colab": {
          "base_uri": "https://localhost:8080/"
        },
        "outputId": "64d18b83-29a7-4104-bb44-503ab6eb0b74"
      },
      "source": [
        "loss = torch.norm( y - 13)\n",
        "loss"
      ],
      "execution_count": null,
      "outputs": [
        {
          "output_type": "execute_result",
          "data": {
            "text/plain": [
              "tensor(0.6600, grad_fn=<LinalgVectorNormBackward0>)"
            ]
          },
          "metadata": {},
          "execution_count": 51
        }
      ]
    },
    {
      "cell_type": "code",
      "metadata": {
        "id": "BBLYqopxD-aQ",
        "colab": {
          "base_uri": "https://localhost:8080/"
        },
        "outputId": "99c07aea-3e51-459d-ca9e-d2907927d060"
      },
      "source": [
        "loss.backward()\n",
        "w.grad, b.grad"
      ],
      "execution_count": null,
      "outputs": [
        {
          "output_type": "execute_result",
          "data": {
            "text/plain": [
              "(tensor([-2.]), tensor([-1.]))"
            ]
          },
          "metadata": {},
          "execution_count": 52
        }
      ]
    },
    {
      "cell_type": "markdown",
      "metadata": {
        "id": "hNbj9oDlD-aS"
      },
      "source": [
        "### Making it more compact"
      ]
    },
    {
      "cell_type": "code",
      "metadata": {
        "id": "xlQ60VuqD-aS"
      },
      "source": [
        "def model_fn(x,w,b):\n",
        "    return w*x + b"
      ],
      "execution_count": null,
      "outputs": []
    },
    {
      "cell_type": "code",
      "metadata": {
        "id": "9zZHeiwJD-aV"
      },
      "source": [
        "def loss_fn(y,yt):\n",
        "    return torch.norm(y-yt)"
      ],
      "execution_count": null,
      "outputs": []
    },
    {
      "cell_type": "code",
      "metadata": {
        "id": "q7drmZAzD-aX"
      },
      "source": [
        "w = torch.tensor([5.0], requires_grad = True)\n",
        "b = torch.tensor([2.0], requires_grad = True)"
      ],
      "execution_count": null,
      "outputs": []
    },
    {
      "cell_type": "code",
      "metadata": {
        "id": "ZSogMXf-D-aY"
      },
      "source": [
        "x = torch.tensor([2.0])\n",
        "yt = torch.tensor([13.0])"
      ],
      "execution_count": null,
      "outputs": []
    },
    {
      "cell_type": "code",
      "metadata": {
        "id": "77BNsdU-D-aa",
        "colab": {
          "base_uri": "https://localhost:8080/"
        },
        "outputId": "ba2526d4-7465-4df5-eb6e-c5b373b49ef3"
      },
      "source": [
        "y = model_fn(x,w,b)\n",
        "loss = loss_fn(y,yt)\n",
        "loss.backward()\n",
        "with torch.no_grad():\n",
        "    w -= 0.05 * w.grad\n",
        "    b -= 0.05 * b.grad\n",
        "w.grad.zero_()\n",
        "b.grad.zero_()\n",
        "\n",
        "print( f\" w = {w}\\n b = {b}\\n y = {y}\\n loss = {loss}\")\n",
        "#note that 'loss' indicates the loss for the previous m,c values"
      ],
      "execution_count": null,
      "outputs": [
        {
          "output_type": "stream",
          "name": "stdout",
          "text": [
            " w = tensor([5.5000], requires_grad=True)\n",
            " b = tensor([2.2500], requires_grad=True)\n",
            " y = tensor([13.0000], grad_fn=<AddBackward0>)\n",
            " loss = 9.5367431640625e-07\n"
          ]
        }
      ]
    },
    {
      "cell_type": "markdown",
      "metadata": {
        "id": "3kRdaQe6D-ab"
      },
      "source": [
        "### Slightly more complicated problem"
      ]
    },
    {
      "cell_type": "markdown",
      "source": [
        "1. Forward propagation to get predicted yhat\n",
        "2. Get the loss by loss_fun(y, yhat)\n",
        "3. Backward propagation to get the gradient\n",
        "4. Update parameters\n",
        "5. Repeat 1 ~ 4 until convergence"
      ],
      "metadata": {
        "id": "vNdBCLA1yTn4"
      }
    },
    {
      "cell_type": "code",
      "metadata": {
        "id": "Alq94bPxD-ac"
      },
      "source": [
        "import matplotlib.pyplot as plt"
      ],
      "execution_count": null,
      "outputs": []
    },
    {
      "cell_type": "code",
      "metadata": {
        "id": "0HdYDtWDD-ae"
      },
      "source": [
        "def model_fn(x,w,b):\n",
        "    return w@x + b"
      ],
      "execution_count": null,
      "outputs": []
    },
    {
      "cell_type": "code",
      "metadata": {
        "id": "v6Cvos0BD-af"
      },
      "source": [
        "def loss_fn(y,yt):\n",
        "    return torch.norm(y-yt)"
      ],
      "execution_count": null,
      "outputs": []
    },
    {
      "cell_type": "code",
      "metadata": {
        "id": "8vCjbW7HD-ah"
      },
      "source": [
        "w = torch.rand((5,5), requires_grad = True)\n",
        "b = torch.ones((5,1), requires_grad = True)"
      ],
      "execution_count": null,
      "outputs": []
    },
    {
      "cell_type": "code",
      "metadata": {
        "id": "BsITRCClD-ai"
      },
      "source": [
        "x = torch.randn(5,100)\n",
        "yt = torch.randn(1,100)\n",
        "losses = []"
      ],
      "execution_count": null,
      "outputs": []
    },
    {
      "cell_type": "code",
      "metadata": {
        "id": "NFs5CphAD-al",
        "colab": {
          "base_uri": "https://localhost:8080/",
          "height": 1000
        },
        "outputId": "56de2ab6-68d9-43d2-b1be-550e9094e552"
      },
      "source": [
        "for i in range(50):\n",
        "  # 1. Forward\n",
        "  y = model_fn(x,w,b)\n",
        "  # 2. Get loss\n",
        "  loss = loss_fn(y,yt)\n",
        "  # 3. backward\n",
        "  loss.backward()\n",
        "  # 4. Update\n",
        "  with torch.no_grad():\n",
        "      w -= 0.05 * w.grad\n",
        "      b -= 0.05 * b.grad\n",
        "  w.grad.zero_()\n",
        "  b.grad.zero_()\n",
        "\n",
        "  losses+=[loss.item()]\n",
        "  print( f\"loss = {loss}\")\n",
        "  plt.plot(losses);"
      ],
      "execution_count": null,
      "outputs": [
        {
          "output_type": "stream",
          "name": "stdout",
          "text": [
            "loss = 42.68125915527344\n",
            "loss = 38.598995208740234\n",
            "loss = 34.91118240356445\n",
            "loss = 31.68004035949707\n",
            "loss = 28.95591163635254\n",
            "loss = 26.76153564453125\n",
            "loss = 25.078950881958008\n",
            "loss = 23.84857177734375\n",
            "loss = 22.98369026184082\n",
            "loss = 22.392330169677734\n",
            "loss = 21.9942684173584\n",
            "loss = 21.727962493896484\n",
            "loss = 21.54981231689453\n",
            "loss = 21.43026351928711\n",
            "loss = 21.349693298339844\n",
            "loss = 21.29514503479004\n",
            "loss = 21.2580623626709\n",
            "loss = 21.232763290405273\n",
            "loss = 21.21544647216797\n",
            "loss = 21.203561782836914\n",
            "loss = 21.195388793945312\n",
            "loss = 21.18975067138672\n",
            "loss = 21.185855865478516\n",
            "loss = 21.183162689208984\n",
            "loss = 21.181293487548828\n",
            "loss = 21.179996490478516\n",
            "loss = 21.179094314575195\n",
            "loss = 21.178466796875\n",
            "loss = 21.178028106689453\n",
            "loss = 21.177722930908203\n",
            "loss = 21.177507400512695\n",
            "loss = 21.177358627319336\n",
            "loss = 21.17725372314453\n",
            "loss = 21.17717742919922\n",
            "loss = 21.177125930786133\n",
            "loss = 21.17708969116211\n",
            "loss = 21.17706298828125\n",
            "loss = 21.177047729492188\n",
            "loss = 21.177032470703125\n",
            "loss = 21.17702293395996\n",
            "loss = 21.177017211914062\n",
            "loss = 21.177011489868164\n",
            "loss = 21.17700958251953\n",
            "loss = 21.1770076751709\n",
            "loss = 21.177005767822266\n",
            "loss = 21.177003860473633\n",
            "loss = 21.177003860473633\n",
            "loss = 21.177003860473633\n",
            "loss = 21.177003860473633\n",
            "loss = 21.177001953125\n"
          ]
        },
        {
          "output_type": "display_data",
          "data": {
            "text/plain": [
              "<Figure size 640x480 with 1 Axes>"
            ],
            "image/png": "[encoded data removed]"
          },
          "metadata": {}
        }
      ]
    },
    {
      "cell_type": "markdown",
      "metadata": {
        "id": "5t7iYj2eD-an"
      },
      "source": [
        "## Using Library functions"
      ]
    },
    {
      "cell_type": "code",
      "metadata": {
        "id": "6xg-kywmD-an"
      },
      "source": [
        "model = torch.nn.Sequential( \n",
        "    # create layer of sequence\n",
        "    # F(WX + B)\n",
        "    # First layer: ReLU(WX + B)\n",
        "      # ReLU is important because it is doing some non-linear tranformation \n",
        "    torch.nn.Linear(5, 5),\n",
        "    torch.nn.ReLU(),\n",
        "\n",
        "    # Output layer\n",
        "    torch.nn.Linear(5, 1),\n",
        ")"
      ],
      "execution_count": null,
      "outputs": []
    },
    {
      "cell_type": "code",
      "metadata": {
        "id": "4OocRUb9D-ap",
        "colab": {
          "base_uri": "https://localhost:8080/"
        },
        "outputId": "f2059bc7-f824-4c5e-8331-d5b925ab02f5"
      },
      "source": [
        "list(model.parameters())"
      ],
      "execution_count": null,
      "outputs": [
        {
          "output_type": "execute_result",
          "data": {
            "text/plain": [
              "[Parameter containing:\n",
              " tensor([[ 0.2748, -0.2685, -0.0039,  0.1949,  0.3134],\n",
              "         [-0.1417,  0.2113, -0.4093, -0.3378, -0.0309],\n",
              "         [ 0.1067, -0.2863,  0.0161,  0.2390, -0.2557],\n",
              "         [-0.0025,  0.4096, -0.1420,  0.2324, -0.4004],\n",
              "         [ 0.3609,  0.1004, -0.3751, -0.0444, -0.1293]], requires_grad=True),\n",
              " Parameter containing:\n",
              " tensor([-0.1005,  0.1310, -0.1135,  0.3248,  0.0254], requires_grad=True),\n",
              " Parameter containing:\n",
              " tensor([[ 0.1023, -0.4273, -0.1353, -0.1554,  0.4187]], requires_grad=True),\n",
              " Parameter containing:\n",
              " tensor([0.3443], requires_grad=True)]"
            ]
          },
          "metadata": {},
          "execution_count": 69
        }
      ]
    },
    {
      "cell_type": "code",
      "metadata": {
        "id": "DgBOzYv5D-aq"
      },
      "source": [
        "#mean square loss → MSE = (1/n) * sum((y_pred - y_true)^2)\n",
        "loss_fn = torch.nn.MSELoss(reduction='sum')"
      ],
      "execution_count": null,
      "outputs": []
    },
    {
      "cell_type": "code",
      "metadata": {
        "id": "_bdGByKKD-as"
      },
      "source": [
        "x = torch.randn(100,5)\n",
        "yt = torch.randn(100,1)\n",
        "losses = []"
      ],
      "execution_count": null,
      "outputs": []
    },
    {
      "cell_type": "markdown",
      "metadata": {
        "id": "KupJGFEFD-at"
      },
      "source": [
        "Using the optim package"
      ]
    },
    {
      "cell_type": "code",
      "metadata": {
        "id": "0Ac8_-reD-au"
      },
      "source": [
        "optimizer = torch.optim.Adam(model.parameters(), lr=0.03)"
      ],
      "execution_count": null,
      "outputs": []
    },
    {
      "cell_type": "markdown",
      "source": [
        "`optimizer.step()` is used to update the model parameters based on the gradients computed during backpropagation. During training, the optimizer computes the gradients of the loss function with respect to the model parameters\n",
        "  \n",
        "`optimizer.zero_grad()` is used to set the gradients of all the model parameters to zero before computing the gradients for the next batch of data. If we don't zero out the gradients before computing the gradients for the next batch, the gradients will accumulate, leading to incorrect updates and slower convergence."
      ],
      "metadata": {
        "id": "v1T-hdaSYBU7"
      }
    },
    {
      "cell_type": "code",
      "metadata": {
        "id": "xtdxXUcRD-az",
        "colab": {
          "base_uri": "https://localhost:8080/",
          "height": 1000
        },
        "outputId": "b728033a-644f-4e68-b303-098bc4620a29"
      },
      "source": [
        "for i in range(1000):\n",
        "    y = model(x)\n",
        "    loss = loss_fn(y,yt)\n",
        "    loss.backward()\n",
        "\n",
        "    #make the parameter to take a step -> update the parameter\n",
        "    optimizer.step()\n",
        "    optimizer.zero_grad()\n",
        "\n",
        "    losses+=[loss.item()]\n",
        "    print( f\"loss = {loss}\")\n",
        "plt.plot(losses);"
      ],
      "execution_count": null,
      "outputs": [
        {
          "output_type": "stream",
          "name": "stdout",
          "text": [
            "loss = 109.11067199707031\n",
            "loss = 103.79290771484375\n",
            "loss = 100.48275756835938\n",
            "loss = 98.2297134399414\n",
            "loss = 96.45237731933594\n",
            "loss = 95.04127502441406\n",
            "loss = 93.97252655029297\n",
            "loss = 93.10059356689453\n",
            "loss = 92.59867858886719\n",
            "loss = 92.08340454101562\n",
            "loss = 91.49703979492188\n",
            "loss = 91.00679016113281\n",
            "loss = 90.61006927490234\n",
            "loss = 90.32628631591797\n",
            "loss = 90.17387390136719\n",
            "loss = 90.01512145996094\n",
            "loss = 89.75697326660156\n",
            "loss = 89.45178985595703\n",
            "loss = 89.17681121826172\n",
            "loss = 88.9458999633789\n",
            "loss = 88.77508544921875\n",
            "loss = 88.59017181396484\n",
            "loss = 88.42076873779297\n",
            "loss = 88.30952453613281\n",
            "loss = 88.15856170654297\n",
            "loss = 87.99110412597656\n",
            "loss = 87.78230285644531\n",
            "loss = 87.7010726928711\n",
            "loss = 87.61630249023438\n",
            "loss = 87.49898529052734\n",
            "loss = 87.36100769042969\n",
            "loss = 87.26129150390625\n",
            "loss = 87.2113037109375\n",
            "loss = 87.13215637207031\n",
            "loss = 87.03333282470703\n",
            "loss = 86.95282745361328\n",
            "loss = 86.86701965332031\n",
            "loss = 86.77272033691406\n",
            "loss = 86.68834686279297\n",
            "loss = 86.62247467041016\n",
            "loss = 86.55152893066406\n",
            "loss = 86.47868347167969\n",
            "loss = 86.42475891113281\n",
            "loss = 86.33193969726562\n",
            "loss = 86.2176513671875\n",
            "loss = 86.09074401855469\n",
            "loss = 85.93230438232422\n",
            "loss = 85.79592895507812\n",
            "loss = 85.65949249267578\n",
            "loss = 85.5207290649414\n",
            "loss = 85.38462829589844\n",
            "loss = 85.26136779785156\n",
            "loss = 85.13555908203125\n",
            "loss = 84.98519897460938\n",
            "loss = 84.84132385253906\n",
            "loss = 84.732421875\n",
            "loss = 84.57279205322266\n",
            "loss = 84.37320709228516\n",
            "loss = 84.00495147705078\n",
            "loss = 83.54967498779297\n",
            "loss = 83.1335220336914\n",
            "loss = 82.6943359375\n",
            "loss = 82.1092529296875\n",
            "loss = 81.6783676147461\n",
            "loss = 81.41060638427734\n",
            "loss = 81.19137573242188\n",
            "loss = 80.98468017578125\n",
            "loss = 80.81993865966797\n",
            "loss = 80.67147064208984\n",
            "loss = 80.51802062988281\n",
            "loss = 80.36338806152344\n",
            "loss = 80.16995239257812\n",
            "loss = 79.9708023071289\n",
            "loss = 79.75330352783203\n",
            "loss = 79.57772064208984\n",
            "loss = 79.38542175292969\n",
            "loss = 79.11942291259766\n",
            "loss = 78.83345794677734\n",
            "loss = 78.51482391357422\n",
            "loss = 78.11225891113281\n",
            "loss = 77.7218017578125\n",
            "loss = 77.35535430908203\n",
            "loss = 76.96784210205078\n",
            "loss = 76.58541870117188\n",
            "loss = 76.25736999511719\n",
            "loss = 75.99662017822266\n",
            "loss = 75.72188568115234\n",
            "loss = 75.43339538574219\n",
            "loss = 75.14974212646484\n",
            "loss = 74.87625122070312\n",
            "loss = 74.61064147949219\n",
            "loss = 74.28438568115234\n",
            "loss = 73.9139404296875\n",
            "loss = 73.51689910888672\n",
            "loss = 73.2157974243164\n",
            "loss = 72.94184875488281\n",
            "loss = 72.68424987792969\n",
            "loss = 72.36952209472656\n",
            "loss = 72.16139221191406\n",
            "loss = 71.937255859375\n",
            "loss = 71.64839935302734\n",
            "loss = 71.44383239746094\n",
            "loss = 71.17926025390625\n",
            "loss = 70.80870056152344\n",
            "loss = 70.38856506347656\n",
            "loss = 69.98352813720703\n",
            "loss = 69.74667358398438\n",
            "loss = 69.55352783203125\n",
            "loss = 69.3062744140625\n",
            "loss = 68.93001556396484\n",
            "loss = 68.56300354003906\n",
            "loss = 68.16690063476562\n",
            "loss = 67.78849029541016\n",
            "loss = 67.67294311523438\n",
            "loss = 67.66140747070312\n",
            "loss = 67.6174087524414\n",
            "loss = 67.59587860107422\n",
            "loss = 67.46672821044922\n",
            "loss = 67.25243377685547\n",
            "loss = 66.9552230834961\n",
            "loss = 66.78289031982422\n",
            "loss = 66.6868896484375\n",
            "loss = 66.54451751708984\n",
            "loss = 66.31571197509766\n",
            "loss = 66.17549133300781\n",
            "loss = 66.04360961914062\n",
            "loss = 65.9648208618164\n",
            "loss = 65.93440246582031\n",
            "loss = 65.82624816894531\n",
            "loss = 65.78388977050781\n",
            "loss = 65.82135009765625\n",
            "loss = 65.80817413330078\n",
            "loss = 65.61738586425781\n",
            "loss = 65.45295715332031\n",
            "loss = 65.51090240478516\n",
            "loss = 65.47335815429688\n",
            "loss = 65.34066772460938\n",
            "loss = 65.35551452636719\n",
            "loss = 65.23604583740234\n",
            "loss = 65.14596557617188\n",
            "loss = 65.12049865722656\n",
            "loss = 65.08979034423828\n",
            "loss = 65.01937103271484\n",
            "loss = 65.0317611694336\n",
            "loss = 65.0218505859375\n",
            "loss = 64.96424102783203\n",
            "loss = 64.942626953125\n",
            "loss = 64.85710144042969\n",
            "loss = 64.83378601074219\n",
            "loss = 64.80582427978516\n",
            "loss = 64.84246063232422\n",
            "loss = 64.77576446533203\n",
            "loss = 64.7625503540039\n",
            "loss = 64.77149963378906\n",
            "loss = 64.79930877685547\n",
            "loss = 64.76524353027344\n",
            "loss = 64.71095275878906\n",
            "loss = 64.70024871826172\n",
            "loss = 64.5920639038086\n",
            "loss = 64.62592315673828\n",
            "loss = 64.53827667236328\n",
            "loss = 64.572021484375\n",
            "loss = 64.5733642578125\n",
            "loss = 64.59600830078125\n",
            "loss = 64.50970458984375\n",
            "loss = 64.50718688964844\n",
            "loss = 64.4385986328125\n",
            "loss = 64.51167297363281\n",
            "loss = 64.4649658203125\n",
            "loss = 64.49008178710938\n",
            "loss = 64.43208312988281\n",
            "loss = 64.42103576660156\n",
            "loss = 64.37980651855469\n",
            "loss = 64.37522888183594\n",
            "loss = 64.3956298828125\n",
            "loss = 64.3296890258789\n",
            "loss = 64.35310363769531\n",
            "loss = 64.26229095458984\n",
            "loss = 64.2854995727539\n",
            "loss = 64.2760009765625\n",
            "loss = 64.25304412841797\n",
            "loss = 64.2459945678711\n",
            "loss = 64.19023895263672\n",
            "loss = 64.22769927978516\n",
            "loss = 64.17937469482422\n",
            "loss = 64.23748779296875\n",
            "loss = 64.1812744140625\n",
            "loss = 64.18716430664062\n",
            "loss = 64.16922760009766\n",
            "loss = 64.1513442993164\n",
            "loss = 64.08805084228516\n",
            "loss = 64.07969665527344\n",
            "loss = 64.06725311279297\n",
            "loss = 64.08061981201172\n",
            "loss = 64.07350158691406\n",
            "loss = 64.13275146484375\n",
            "loss = 64.27647399902344\n",
            "loss = 64.40010070800781\n",
            "loss = 64.38630676269531\n",
            "loss = 64.14958190917969\n",
            "loss = 63.94733810424805\n",
            "loss = 63.99652099609375\n",
            "loss = 64.1659927368164\n",
            "loss = 64.0995101928711\n",
            "loss = 63.9383430480957\n",
            "loss = 63.9859504699707\n",
            "loss = 64.09317016601562\n",
            "loss = 63.99589157104492\n",
            "loss = 63.914207458496094\n",
            "loss = 63.98004150390625\n",
            "loss = 64.01480102539062\n",
            "loss = 63.933677673339844\n",
            "loss = 63.894187927246094\n",
            "loss = 64.04401397705078\n",
            "loss = 63.97856903076172\n",
            "loss = 63.89643096923828\n",
            "loss = 63.92710876464844\n",
            "loss = 63.987525939941406\n",
            "loss = 63.89365768432617\n",
            "loss = 63.84131622314453\n",
            "loss = 63.89632797241211\n",
            "loss = 63.83222961425781\n",
            "loss = 63.88779830932617\n",
            "loss = 63.856937408447266\n",
            "loss = 63.87213897705078\n",
            "loss = 63.813636779785156\n",
            "loss = 63.784263610839844\n",
            "loss = 63.785011291503906\n",
            "loss = 63.80089569091797\n",
            "loss = 63.77534484863281\n",
            "loss = 63.769771575927734\n",
            "loss = 63.77781295776367\n",
            "loss = 63.78057098388672\n",
            "loss = 63.77027130126953\n",
            "loss = 63.75815200805664\n",
            "loss = 63.79547119140625\n",
            "loss = 63.743995666503906\n",
            "loss = 63.776065826416016\n",
            "loss = 63.7493782043457\n",
            "loss = 63.749351501464844\n",
            "loss = 63.79032897949219\n",
            "loss = 63.802757263183594\n",
            "loss = 63.766170501708984\n",
            "loss = 63.79609680175781\n",
            "loss = 63.77861404418945\n",
            "loss = 63.794708251953125\n",
            "loss = 63.74589538574219\n",
            "loss = 63.79408264160156\n",
            "loss = 63.748924255371094\n",
            "loss = 63.83769989013672\n",
            "loss = 63.7625617980957\n",
            "loss = 63.83518981933594\n",
            "loss = 63.707122802734375\n",
            "loss = 63.8084716796875\n",
            "loss = 63.71791076660156\n",
            "loss = 63.76933670043945\n",
            "loss = 63.70698928833008\n",
            "loss = 63.81767272949219\n",
            "loss = 63.71306610107422\n",
            "loss = 63.787322998046875\n",
            "loss = 63.70329284667969\n",
            "loss = 63.760929107666016\n",
            "loss = 63.73911666870117\n",
            "loss = 63.72275161743164\n",
            "loss = 63.66827392578125\n",
            "loss = 63.65753173828125\n",
            "loss = 63.670570373535156\n",
            "loss = 63.67361831665039\n",
            "loss = 63.652400970458984\n",
            "loss = 63.69664764404297\n",
            "loss = 63.651100158691406\n",
            "loss = 63.68899917602539\n",
            "loss = 63.69463348388672\n",
            "loss = 63.70944595336914\n",
            "loss = 63.68179702758789\n",
            "loss = 63.65705108642578\n",
            "loss = 63.668975830078125\n",
            "loss = 63.675132751464844\n",
            "loss = 63.66544723510742\n",
            "loss = 63.67243576049805\n",
            "loss = 63.64908218383789\n",
            "loss = 63.676483154296875\n",
            "loss = 63.67340850830078\n",
            "loss = 63.64016342163086\n",
            "loss = 63.651641845703125\n",
            "loss = 63.636878967285156\n",
            "loss = 63.689273834228516\n",
            "loss = 63.6363525390625\n",
            "loss = 63.69828796386719\n",
            "loss = 63.64458465576172\n",
            "loss = 63.67967224121094\n",
            "loss = 63.672157287597656\n",
            "loss = 63.65022277832031\n",
            "loss = 63.72953796386719\n",
            "loss = 63.71043395996094\n",
            "loss = 63.69187927246094\n",
            "loss = 63.662662506103516\n",
            "loss = 63.63920974731445\n",
            "loss = 63.686187744140625\n",
            "loss = 63.658416748046875\n",
            "loss = 63.63971710205078\n",
            "loss = 63.70060729980469\n",
            "loss = 63.729698181152344\n",
            "loss = 63.72830581665039\n",
            "loss = 63.656593322753906\n",
            "loss = 63.59681701660156\n",
            "loss = 63.6962890625\n",
            "loss = 63.64479064941406\n",
            "loss = 63.61974334716797\n",
            "loss = 63.597957611083984\n",
            "loss = 63.64710998535156\n",
            "loss = 63.63600158691406\n",
            "loss = 63.72089385986328\n",
            "loss = 63.694129943847656\n",
            "loss = 63.788692474365234\n",
            "loss = 63.75832748413086\n",
            "loss = 63.68983840942383\n",
            "loss = 63.6168212890625\n",
            "loss = 63.597938537597656\n",
            "loss = 63.59581756591797\n",
            "loss = 63.582275390625\n",
            "loss = 63.57834243774414\n",
            "loss = 63.56459045410156\n",
            "loss = 63.569664001464844\n",
            "loss = 63.583377838134766\n",
            "loss = 63.61133575439453\n",
            "loss = 63.6545524597168\n",
            "loss = 63.67273712158203\n",
            "loss = 63.64104080200195\n",
            "loss = 63.601402282714844\n",
            "loss = 63.56858444213867\n",
            "loss = 63.56098556518555\n",
            "loss = 63.59260559082031\n",
            "loss = 63.622840881347656\n",
            "loss = 63.67454528808594\n",
            "loss = 63.7099494934082\n",
            "loss = 63.683990478515625\n",
            "loss = 63.59221267700195\n",
            "loss = 63.540565490722656\n",
            "loss = 63.63105010986328\n",
            "loss = 63.67369079589844\n",
            "loss = 63.68804168701172\n",
            "loss = 63.617801666259766\n",
            "loss = 63.590518951416016\n",
            "loss = 63.60344314575195\n",
            "loss = 63.63302230834961\n",
            "loss = 63.56721878051758\n",
            "loss = 63.58201599121094\n",
            "loss = 63.58916091918945\n",
            "loss = 63.624935150146484\n",
            "loss = 63.61689758300781\n",
            "loss = 63.582820892333984\n",
            "loss = 63.60311508178711\n",
            "loss = 63.62621307373047\n",
            "loss = 63.57421112060547\n",
            "loss = 63.58831787109375\n",
            "loss = 63.70515441894531\n",
            "loss = 63.70490264892578\n",
            "loss = 63.66604232788086\n",
            "loss = 63.591400146484375\n",
            "loss = 63.562808990478516\n",
            "loss = 63.55784606933594\n",
            "loss = 63.614315032958984\n",
            "loss = 63.62138366699219\n",
            "loss = 63.552978515625\n",
            "loss = 63.545814514160156\n",
            "loss = 63.52956771850586\n",
            "loss = 63.534576416015625\n",
            "loss = 63.53823471069336\n",
            "loss = 63.50823974609375\n",
            "loss = 63.4820556640625\n",
            "loss = 63.5106201171875\n",
            "loss = 63.513607025146484\n",
            "loss = 63.507972717285156\n",
            "loss = 63.469032287597656\n",
            "loss = 63.503318786621094\n",
            "loss = 63.507591247558594\n",
            "loss = 63.509281158447266\n",
            "loss = 63.47877502441406\n",
            "loss = 63.472103118896484\n",
            "loss = 63.46432876586914\n",
            "loss = 63.49463653564453\n",
            "loss = 63.50654220581055\n",
            "loss = 63.4997673034668\n",
            "loss = 63.51970672607422\n",
            "loss = 63.509002685546875\n",
            "loss = 63.47724151611328\n",
            "loss = 63.46829605102539\n",
            "loss = 63.448028564453125\n",
            "loss = 63.452110290527344\n",
            "loss = 63.49710464477539\n",
            "loss = 63.501304626464844\n",
            "loss = 63.475101470947266\n",
            "loss = 63.467193603515625\n",
            "loss = 63.43065643310547\n",
            "loss = 63.429779052734375\n",
            "loss = 63.42131805419922\n",
            "loss = 63.42063903808594\n",
            "loss = 63.418827056884766\n",
            "loss = 63.40522384643555\n",
            "loss = 63.414398193359375\n",
            "loss = 63.39499282836914\n",
            "loss = 63.401939392089844\n",
            "loss = 63.39158630371094\n",
            "loss = 63.40167999267578\n",
            "loss = 63.40147399902344\n",
            "loss = 63.3985595703125\n",
            "loss = 63.41221237182617\n",
            "loss = 63.410179138183594\n",
            "loss = 63.40606689453125\n",
            "loss = 63.41648483276367\n",
            "loss = 63.41606903076172\n",
            "loss = 63.4305305480957\n",
            "loss = 63.416770935058594\n",
            "loss = 63.42140579223633\n",
            "loss = 63.4271240234375\n",
            "loss = 63.40825271606445\n",
            "loss = 63.42128372192383\n",
            "loss = 63.421085357666016\n",
            "loss = 63.397911071777344\n",
            "loss = 63.41112518310547\n",
            "loss = 63.410308837890625\n",
            "loss = 63.3902587890625\n",
            "loss = 63.407386779785156\n",
            "loss = 63.406951904296875\n",
            "loss = 63.43151092529297\n",
            "loss = 63.45729064941406\n",
            "loss = 63.466590881347656\n",
            "loss = 63.4619255065918\n",
            "loss = 63.474098205566406\n",
            "loss = 63.464508056640625\n",
            "loss = 63.444862365722656\n",
            "loss = 63.456451416015625\n",
            "loss = 63.43522262573242\n",
            "loss = 63.369293212890625\n",
            "loss = 63.37110900878906\n",
            "loss = 63.36903762817383\n",
            "loss = 63.35993576049805\n",
            "loss = 63.364891052246094\n",
            "loss = 63.358543395996094\n",
            "loss = 63.39177703857422\n",
            "loss = 63.388145446777344\n",
            "loss = 63.40863800048828\n",
            "loss = 63.387916564941406\n",
            "loss = 63.40278625488281\n",
            "loss = 63.385921478271484\n",
            "loss = 63.3526611328125\n",
            "loss = 63.35242462158203\n",
            "loss = 63.39403533935547\n",
            "loss = 63.387603759765625\n",
            "loss = 63.3701057434082\n",
            "loss = 63.37141036987305\n",
            "loss = 63.41486358642578\n",
            "loss = 63.43863296508789\n",
            "loss = 63.432861328125\n",
            "loss = 63.46961212158203\n",
            "loss = 63.532691955566406\n",
            "loss = 63.52959442138672\n",
            "loss = 63.52001190185547\n",
            "loss = 63.486045837402344\n",
            "loss = 63.43205642700195\n",
            "loss = 63.383026123046875\n",
            "loss = 63.3386344909668\n",
            "loss = 63.33389663696289\n",
            "loss = 63.38064193725586\n",
            "loss = 63.40068817138672\n",
            "loss = 63.41155242919922\n",
            "loss = 63.39352798461914\n",
            "loss = 63.39704895019531\n",
            "loss = 63.37726593017578\n",
            "loss = 63.33988571166992\n",
            "loss = 63.310821533203125\n",
            "loss = 63.33367919921875\n",
            "loss = 63.31768798828125\n",
            "loss = 63.312400817871094\n",
            "loss = 63.329376220703125\n",
            "loss = 63.320960998535156\n",
            "loss = 63.329856872558594\n",
            "loss = 63.32374572753906\n",
            "loss = 63.30952453613281\n",
            "loss = 63.34272384643555\n",
            "loss = 63.32881164550781\n",
            "loss = 63.31315612792969\n",
            "loss = 63.328155517578125\n",
            "loss = 63.32170486450195\n",
            "loss = 63.322574615478516\n",
            "loss = 63.319210052490234\n",
            "loss = 63.31138229370117\n",
            "loss = 63.36715316772461\n",
            "loss = 63.3697509765625\n",
            "loss = 63.36931610107422\n",
            "loss = 63.36619567871094\n",
            "loss = 63.38457489013672\n",
            "loss = 63.37004089355469\n",
            "loss = 63.339576721191406\n",
            "loss = 63.33789825439453\n",
            "loss = 63.35672378540039\n",
            "loss = 63.34330749511719\n",
            "loss = 63.312870025634766\n",
            "loss = 63.33138656616211\n",
            "loss = 63.321327209472656\n",
            "loss = 63.311004638671875\n",
            "loss = 63.29831314086914\n",
            "loss = 63.29076385498047\n",
            "loss = 63.314720153808594\n",
            "loss = 63.30340576171875\n",
            "loss = 63.281375885009766\n",
            "loss = 63.30769348144531\n",
            "loss = 63.312904357910156\n",
            "loss = 63.30253601074219\n",
            "loss = 63.30353927612305\n",
            "loss = 63.300811767578125\n",
            "loss = 63.3493766784668\n",
            "loss = 63.34957504272461\n",
            "loss = 63.387210845947266\n",
            "loss = 63.477901458740234\n",
            "loss = 63.54550552368164\n",
            "loss = 63.56903839111328\n",
            "loss = 63.50894546508789\n",
            "loss = 63.43368148803711\n",
            "loss = 63.37468719482422\n",
            "loss = 63.31425857543945\n",
            "loss = 63.28555679321289\n",
            "loss = 63.342491149902344\n",
            "loss = 63.372528076171875\n",
            "loss = 63.4044189453125\n",
            "loss = 63.39213180541992\n",
            "loss = 63.361839294433594\n",
            "loss = 63.3515739440918\n",
            "loss = 63.310115814208984\n",
            "loss = 63.28022766113281\n",
            "loss = 63.319461822509766\n",
            "loss = 63.331138610839844\n",
            "loss = 63.34031677246094\n",
            "loss = 63.31025314331055\n",
            "loss = 63.310115814208984\n",
            "loss = 63.308040618896484\n",
            "loss = 63.29926300048828\n",
            "loss = 63.27985382080078\n",
            "loss = 63.3090934753418\n",
            "loss = 63.321407318115234\n",
            "loss = 63.35499572753906\n",
            "loss = 63.34818649291992\n",
            "loss = 63.33659362792969\n",
            "loss = 63.303077697753906\n",
            "loss = 63.292572021484375\n",
            "loss = 63.281070709228516\n",
            "loss = 63.314353942871094\n",
            "loss = 63.3292236328125\n",
            "loss = 63.346580505371094\n",
            "loss = 63.3824348449707\n",
            "loss = 63.3662109375\n",
            "loss = 63.34804916381836\n",
            "loss = 63.3242301940918\n",
            "loss = 63.26821517944336\n",
            "loss = 63.291587829589844\n",
            "loss = 63.32398986816406\n",
            "loss = 63.313377380371094\n",
            "loss = 63.30731201171875\n",
            "loss = 63.276458740234375\n",
            "loss = 63.3076171875\n",
            "loss = 63.31817626953125\n",
            "loss = 63.2823486328125\n",
            "loss = 63.28803253173828\n",
            "loss = 63.319091796875\n",
            "loss = 63.28043746948242\n",
            "loss = 63.27638244628906\n",
            "loss = 63.28266143798828\n",
            "loss = 63.28493118286133\n",
            "loss = 63.285247802734375\n",
            "loss = 63.31010437011719\n",
            "loss = 63.290557861328125\n",
            "loss = 63.332977294921875\n",
            "loss = 63.32002258300781\n",
            "loss = 63.33489227294922\n",
            "loss = 63.316707611083984\n",
            "loss = 63.29790115356445\n",
            "loss = 63.306724548339844\n",
            "loss = 63.284629821777344\n",
            "loss = 63.28173828125\n",
            "loss = 63.292293548583984\n",
            "loss = 63.2799186706543\n",
            "loss = 63.275665283203125\n",
            "loss = 63.254241943359375\n",
            "loss = 63.277259826660156\n",
            "loss = 63.288753509521484\n",
            "loss = 63.29215621948242\n",
            "loss = 63.30119705200195\n",
            "loss = 63.29481506347656\n",
            "loss = 63.2606201171875\n",
            "loss = 63.26189041137695\n",
            "loss = 63.253684997558594\n",
            "loss = 63.291866302490234\n",
            "loss = 63.28357696533203\n",
            "loss = 63.330848693847656\n",
            "loss = 63.37847900390625\n",
            "loss = 63.39012908935547\n",
            "loss = 63.36967849731445\n",
            "loss = 63.353294372558594\n",
            "loss = 63.341575622558594\n",
            "loss = 63.32883834838867\n",
            "loss = 63.28656768798828\n",
            "loss = 63.2937126159668\n",
            "loss = 63.28942108154297\n",
            "loss = 63.27228546142578\n",
            "loss = 63.265926361083984\n",
            "loss = 63.26646041870117\n",
            "loss = 63.27476119995117\n",
            "loss = 63.26070022583008\n",
            "loss = 63.26856994628906\n",
            "loss = 63.28213882446289\n",
            "loss = 63.25794219970703\n",
            "loss = 63.284400939941406\n",
            "loss = 63.26294708251953\n",
            "loss = 63.247711181640625\n",
            "loss = 63.25129699707031\n",
            "loss = 63.2432746887207\n",
            "loss = 63.23728561401367\n",
            "loss = 63.25468444824219\n",
            "loss = 63.29338836669922\n",
            "loss = 63.33928298950195\n",
            "loss = 63.36152648925781\n",
            "loss = 63.408660888671875\n",
            "loss = 63.41714096069336\n",
            "loss = 63.42923355102539\n",
            "loss = 63.389225006103516\n",
            "loss = 63.313011169433594\n",
            "loss = 63.2852668762207\n",
            "loss = 63.27573776245117\n",
            "loss = 63.26546859741211\n",
            "loss = 63.257728576660156\n",
            "loss = 63.2999267578125\n",
            "loss = 63.375648498535156\n",
            "loss = 63.37670135498047\n",
            "loss = 63.33384704589844\n",
            "loss = 63.29387664794922\n",
            "loss = 63.2365608215332\n",
            "loss = 63.22208023071289\n",
            "loss = 63.25621032714844\n",
            "loss = 63.3443603515625\n",
            "loss = 63.4222412109375\n",
            "loss = 63.44636535644531\n",
            "loss = 63.395042419433594\n",
            "loss = 63.2911491394043\n",
            "loss = 63.27197265625\n",
            "loss = 63.258628845214844\n",
            "loss = 63.258216857910156\n",
            "loss = 63.33549499511719\n",
            "loss = 63.36231231689453\n",
            "loss = 63.3818244934082\n",
            "loss = 63.29823684692383\n",
            "loss = 63.24040603637695\n",
            "loss = 63.23158645629883\n",
            "loss = 63.23478317260742\n",
            "loss = 63.274662017822266\n",
            "loss = 63.28208923339844\n",
            "loss = 63.275367736816406\n",
            "loss = 63.24456024169922\n",
            "loss = 63.21654510498047\n",
            "loss = 63.22322082519531\n",
            "loss = 63.20713806152344\n",
            "loss = 63.22319030761719\n",
            "loss = 63.23414611816406\n",
            "loss = 63.237342834472656\n",
            "loss = 63.22011184692383\n",
            "loss = 63.24102783203125\n",
            "loss = 63.216636657714844\n",
            "loss = 63.210933685302734\n",
            "loss = 63.209259033203125\n",
            "loss = 63.220680236816406\n",
            "loss = 63.204978942871094\n",
            "loss = 63.23396301269531\n",
            "loss = 63.219970703125\n",
            "loss = 63.239295959472656\n",
            "loss = 63.279632568359375\n",
            "loss = 63.24812316894531\n",
            "loss = 63.24909210205078\n",
            "loss = 63.23854446411133\n",
            "loss = 63.22700500488281\n",
            "loss = 63.21141052246094\n",
            "loss = 63.20545959472656\n",
            "loss = 63.21916580200195\n",
            "loss = 63.2064208984375\n",
            "loss = 63.24469757080078\n",
            "loss = 63.23377990722656\n",
            "loss = 63.24890899658203\n",
            "loss = 63.244468688964844\n",
            "loss = 63.22632598876953\n",
            "loss = 63.21156311035156\n",
            "loss = 63.20777130126953\n",
            "loss = 63.19365310668945\n",
            "loss = 63.23768615722656\n",
            "loss = 63.27277374267578\n",
            "loss = 63.2734375\n",
            "loss = 63.32268524169922\n",
            "loss = 63.325050354003906\n",
            "loss = 63.2940673828125\n",
            "loss = 63.251495361328125\n",
            "loss = 63.22452163696289\n",
            "loss = 63.21561813354492\n",
            "loss = 63.19947052001953\n",
            "loss = 63.222328186035156\n",
            "loss = 63.22369384765625\n",
            "loss = 63.21896743774414\n",
            "loss = 63.22370910644531\n",
            "loss = 63.224063873291016\n",
            "loss = 63.19591522216797\n",
            "loss = 63.19400405883789\n",
            "loss = 63.23423385620117\n",
            "loss = 63.205902099609375\n",
            "loss = 63.20832824707031\n",
            "loss = 63.249046325683594\n",
            "loss = 63.246788024902344\n",
            "loss = 63.223785400390625\n",
            "loss = 63.22328186035156\n",
            "loss = 63.25214767456055\n",
            "loss = 63.244564056396484\n",
            "loss = 63.21813201904297\n",
            "loss = 63.20597839355469\n",
            "loss = 63.235809326171875\n",
            "loss = 63.226924896240234\n",
            "loss = 63.2113151550293\n",
            "loss = 63.1949462890625\n",
            "loss = 63.24311447143555\n",
            "loss = 63.246864318847656\n",
            "loss = 63.21769714355469\n",
            "loss = 63.19574737548828\n",
            "loss = 63.224124908447266\n",
            "loss = 63.23762512207031\n",
            "loss = 63.24321746826172\n",
            "loss = 63.1948127746582\n",
            "loss = 63.24321365356445\n",
            "loss = 63.26171112060547\n",
            "loss = 63.25928497314453\n",
            "loss = 63.25719451904297\n",
            "loss = 63.303077697753906\n",
            "loss = 63.29396057128906\n",
            "loss = 63.285301208496094\n",
            "loss = 63.24042510986328\n",
            "loss = 63.274871826171875\n",
            "loss = 63.25952911376953\n",
            "loss = 63.23590850830078\n",
            "loss = 63.234642028808594\n",
            "loss = 63.255332946777344\n",
            "loss = 63.23244857788086\n",
            "loss = 63.210960388183594\n",
            "loss = 63.183998107910156\n",
            "loss = 63.220462799072266\n",
            "loss = 63.21277618408203\n",
            "loss = 63.21935272216797\n",
            "loss = 63.26519775390625\n",
            "loss = 63.2972297668457\n",
            "loss = 63.30362319946289\n",
            "loss = 63.339481353759766\n",
            "loss = 63.30986785888672\n",
            "loss = 63.296443939208984\n",
            "loss = 63.29497528076172\n",
            "loss = 63.285362243652344\n",
            "loss = 63.275672912597656\n",
            "loss = 63.23600769042969\n",
            "loss = 63.196834564208984\n",
            "loss = 63.17247772216797\n",
            "loss = 63.19341278076172\n",
            "loss = 63.234230041503906\n",
            "loss = 63.258140563964844\n",
            "loss = 63.282569885253906\n",
            "loss = 63.29728698730469\n",
            "loss = 63.28558349609375\n",
            "loss = 63.24345397949219\n",
            "loss = 63.21433639526367\n",
            "loss = 63.25018310546875\n",
            "loss = 63.19413375854492\n",
            "loss = 63.209205627441406\n",
            "loss = 63.217430114746094\n",
            "loss = 63.20297622680664\n",
            "loss = 63.19950866699219\n",
            "loss = 63.190773010253906\n",
            "loss = 63.209205627441406\n",
            "loss = 63.20196533203125\n",
            "loss = 63.20317459106445\n",
            "loss = 63.21436309814453\n",
            "loss = 63.18315505981445\n",
            "loss = 63.179473876953125\n",
            "loss = 63.186737060546875\n",
            "loss = 63.19316101074219\n",
            "loss = 63.17823791503906\n",
            "loss = 63.22101593017578\n",
            "loss = 63.24671173095703\n",
            "loss = 63.23832702636719\n",
            "loss = 63.254371643066406\n",
            "loss = 63.25328063964844\n",
            "loss = 63.188743591308594\n",
            "loss = 63.16886901855469\n",
            "loss = 63.15308380126953\n",
            "loss = 63.196781158447266\n",
            "loss = 63.1993293762207\n",
            "loss = 63.23676681518555\n",
            "loss = 63.318355560302734\n",
            "loss = 63.351417541503906\n",
            "loss = 63.353057861328125\n",
            "loss = 63.34247589111328\n",
            "loss = 63.263145446777344\n",
            "loss = 63.208614349365234\n",
            "loss = 63.19761657714844\n",
            "loss = 63.18242645263672\n",
            "loss = 63.21046447753906\n",
            "loss = 63.24922561645508\n",
            "loss = 63.289710998535156\n",
            "loss = 63.28596878051758\n",
            "loss = 63.25230407714844\n",
            "loss = 63.30462646484375\n",
            "loss = 63.250587463378906\n",
            "loss = 63.192237854003906\n",
            "loss = 63.205413818359375\n",
            "loss = 63.17781448364258\n",
            "loss = 63.209197998046875\n",
            "loss = 63.25286865234375\n",
            "loss = 63.26600646972656\n",
            "loss = 63.317115783691406\n",
            "loss = 63.27212905883789\n",
            "loss = 63.22292709350586\n",
            "loss = 63.20020294189453\n",
            "loss = 63.15828323364258\n",
            "loss = 63.18534469604492\n",
            "loss = 63.20574951171875\n",
            "loss = 63.27211380004883\n",
            "loss = 63.329010009765625\n",
            "loss = 63.305519104003906\n",
            "loss = 63.249549865722656\n",
            "loss = 63.1949348449707\n",
            "loss = 63.17819595336914\n",
            "loss = 63.18857192993164\n",
            "loss = 63.161712646484375\n",
            "loss = 63.185089111328125\n",
            "loss = 63.222625732421875\n",
            "loss = 63.19649887084961\n",
            "loss = 63.18826675415039\n",
            "loss = 63.176082611083984\n",
            "loss = 63.16785430908203\n",
            "loss = 63.16163635253906\n",
            "loss = 63.15589904785156\n",
            "loss = 63.17060089111328\n",
            "loss = 63.223907470703125\n",
            "loss = 63.18402862548828\n",
            "loss = 63.18236541748047\n",
            "loss = 63.1913948059082\n",
            "loss = 63.174076080322266\n",
            "loss = 63.16344451904297\n",
            "loss = 63.18372344970703\n",
            "loss = 63.175567626953125\n",
            "loss = 63.166587829589844\n",
            "loss = 63.16965103149414\n",
            "loss = 63.188724517822266\n",
            "loss = 63.184940338134766\n",
            "loss = 63.172176361083984\n",
            "loss = 63.14820861816406\n",
            "loss = 63.141639709472656\n",
            "loss = 63.16425323486328\n",
            "loss = 63.17079162597656\n",
            "loss = 63.183143615722656\n",
            "loss = 63.17402648925781\n",
            "loss = 63.22319412231445\n",
            "loss = 63.220672607421875\n",
            "loss = 63.23176574707031\n",
            "loss = 63.23854064941406\n",
            "loss = 63.2119140625\n",
            "loss = 63.18278121948242\n",
            "loss = 63.14635467529297\n",
            "loss = 63.153053283691406\n",
            "loss = 63.175254821777344\n",
            "loss = 63.217613220214844\n",
            "loss = 63.30119323730469\n",
            "loss = 63.37318801879883\n",
            "loss = 63.391700744628906\n",
            "loss = 63.36675262451172\n",
            "loss = 63.249698638916016\n",
            "loss = 63.159114837646484\n",
            "loss = 63.141845703125\n",
            "loss = 63.197105407714844\n",
            "loss = 63.19165802001953\n",
            "loss = 63.257083892822266\n",
            "loss = 63.2354736328125\n",
            "loss = 63.24979782104492\n",
            "loss = 63.21055603027344\n",
            "loss = 63.160606384277344\n",
            "loss = 63.172576904296875\n",
            "loss = 63.19127655029297\n",
            "loss = 63.22673797607422\n",
            "loss = 63.19866943359375\n",
            "loss = 63.18853759765625\n",
            "loss = 63.2255744934082\n",
            "loss = 63.18912887573242\n",
            "loss = 63.16636276245117\n",
            "loss = 63.16809844970703\n",
            "loss = 63.17254638671875\n",
            "loss = 63.1832160949707\n",
            "loss = 63.16232681274414\n",
            "loss = 63.13944625854492\n",
            "loss = 63.147544860839844\n",
            "loss = 63.162967681884766\n",
            "loss = 63.15951919555664\n",
            "loss = 63.16825866699219\n",
            "loss = 63.158565521240234\n",
            "loss = 63.162227630615234\n",
            "loss = 63.183353424072266\n",
            "loss = 63.20757293701172\n",
            "loss = 63.167938232421875\n",
            "loss = 63.196537017822266\n",
            "loss = 63.180904388427734\n",
            "loss = 63.161956787109375\n",
            "loss = 63.19407653808594\n",
            "loss = 63.190673828125\n",
            "loss = 63.191341400146484\n",
            "loss = 63.148597717285156\n",
            "loss = 63.19944763183594\n",
            "loss = 63.14543151855469\n",
            "loss = 63.186866760253906\n",
            "loss = 63.1735954284668\n",
            "loss = 63.16900634765625\n",
            "loss = 63.19573211669922\n",
            "loss = 63.153587341308594\n",
            "loss = 63.17292022705078\n",
            "loss = 63.15151596069336\n",
            "loss = 63.16099548339844\n",
            "loss = 63.156883239746094\n",
            "loss = 63.173797607421875\n",
            "loss = 63.18090057373047\n",
            "loss = 63.14418029785156\n",
            "loss = 63.17414474487305\n",
            "loss = 63.146453857421875\n",
            "loss = 63.15985107421875\n",
            "loss = 63.141639709472656\n",
            "loss = 63.17049026489258\n",
            "loss = 63.163570404052734\n",
            "loss = 63.165348052978516\n",
            "loss = 63.16017532348633\n",
            "loss = 63.15178680419922\n",
            "loss = 63.203887939453125\n",
            "loss = 63.14009094238281\n",
            "loss = 63.189178466796875\n",
            "loss = 63.18056869506836\n",
            "loss = 63.2218017578125\n",
            "loss = 63.16382598876953\n",
            "loss = 63.183006286621094\n",
            "loss = 63.18071746826172\n",
            "loss = 63.1800537109375\n",
            "loss = 63.169769287109375\n",
            "loss = 63.17475891113281\n",
            "loss = 63.18062973022461\n",
            "loss = 63.17813491821289\n",
            "loss = 63.20037078857422\n",
            "loss = 63.15057373046875\n",
            "loss = 63.13581848144531\n",
            "loss = 63.184295654296875\n",
            "loss = 63.17725372314453\n",
            "loss = 63.15418243408203\n",
            "loss = 63.153953552246094\n",
            "loss = 63.16200256347656\n",
            "loss = 63.152488708496094\n",
            "loss = 63.166229248046875\n",
            "loss = 63.16795349121094\n",
            "loss = 63.187259674072266\n",
            "loss = 63.21139907836914\n",
            "loss = 63.25666809082031\n",
            "loss = 63.33526611328125\n",
            "loss = 63.406192779541016\n",
            "loss = 63.503326416015625\n",
            "loss = 63.60026550292969\n",
            "loss = 63.68192672729492\n",
            "loss = 63.74825668334961\n",
            "loss = 63.68777084350586\n",
            "loss = 63.477760314941406\n",
            "loss = 63.266746520996094\n",
            "loss = 63.17491912841797\n",
            "loss = 63.250572204589844\n",
            "loss = 63.377899169921875\n",
            "loss = 63.41619110107422\n",
            "loss = 63.423763275146484\n",
            "loss = 63.29020690917969\n",
            "loss = 63.153785705566406\n",
            "loss = 63.149749755859375\n",
            "loss = 63.2224006652832\n",
            "loss = 63.260807037353516\n",
            "loss = 63.277103424072266\n",
            "loss = 63.212196350097656\n",
            "loss = 63.16851043701172\n",
            "loss = 63.162662506103516\n",
            "loss = 63.17155456542969\n",
            "loss = 63.183692932128906\n",
            "loss = 63.19300842285156\n",
            "loss = 63.159034729003906\n",
            "loss = 63.14575958251953\n",
            "loss = 63.13886260986328\n",
            "loss = 63.122039794921875\n",
            "loss = 63.159912109375\n",
            "loss = 63.17894744873047\n",
            "loss = 63.163421630859375\n",
            "loss = 63.14356231689453\n",
            "loss = 63.13752746582031\n",
            "loss = 63.17144012451172\n"
          ]
        },
        {
          "output_type": "display_data",
          "data": {
            "text/plain": [
              "<Figure size 640x480 with 1 Axes>"
            ],
            "image/png": "[encoded data removed]"
          },
          "metadata": {}
        }
      ]
    },
    {
      "cell_type": "markdown",
      "metadata": {
        "id": "tRlkcpT0D-a1"
      },
      "source": [
        "## MNIST Example"
      ]
    },
    {
      "cell_type": "code",
      "metadata": {
        "id": "F4GfdMRhD-a1"
      },
      "source": [
        "from torchvision.datasets import MNIST"
      ],
      "execution_count": null,
      "outputs": []
    },
    {
      "cell_type": "code",
      "metadata": {
        "id": "fyQ4gP46D-a3",
        "colab": {
          "base_uri": "https://localhost:8080/"
        },
        "outputId": "f272c746-a876-4fbc-f96d-5b3639759013"
      },
      "source": [
        "data = MNIST(\".\",download=True)"
      ],
      "execution_count": null,
      "outputs": [
        {
          "output_type": "stream",
          "name": "stdout",
          "text": [
            "Downloading http://yann.lecun.com/exdb/mnist/train-images-idx3-ubyte.gz\n",
            "Downloading http://yann.lecun.com/exdb/mnist/train-images-idx3-ubyte.gz to ./MNIST/raw/train-images-idx3-ubyte.gz\n"
          ]
        },
        {
          "output_type": "stream",
          "name": "stderr",
          "text": [
            "100%|██████████| 9912422/9912422 [00:00<00:00, 83862746.30it/s]\n"
          ]
        },
        {
          "output_type": "stream",
          "name": "stdout",
          "text": [
            "Extracting ./MNIST/raw/train-images-idx3-ubyte.gz to ./MNIST/raw\n",
            "\n",
            "Downloading http://yann.lecun.com/exdb/mnist/train-labels-idx1-ubyte.gz\n",
            "Downloading http://yann.lecun.com/exdb/mnist/train-labels-idx1-ubyte.gz to ./MNIST/raw/train-labels-idx1-ubyte.gz\n"
          ]
        },
        {
          "output_type": "stream",
          "name": "stderr",
          "text": [
            "100%|██████████| 28881/28881 [00:00<00:00, 47860803.57it/s]\n"
          ]
        },
        {
          "output_type": "stream",
          "name": "stdout",
          "text": [
            "Extracting ./MNIST/raw/train-labels-idx1-ubyte.gz to ./MNIST/raw\n",
            "\n",
            "Downloading http://yann.lecun.com/exdb/mnist/t10k-images-idx3-ubyte.gz\n",
            "Downloading http://yann.lecun.com/exdb/mnist/t10k-images-idx3-ubyte.gz to ./MNIST/raw/t10k-images-idx3-ubyte.gz\n"
          ]
        },
        {
          "output_type": "stream",
          "name": "stderr",
          "text": [
            "100%|██████████| 1648877/1648877 [00:00<00:00, 28057265.13it/s]\n"
          ]
        },
        {
          "output_type": "stream",
          "name": "stdout",
          "text": [
            "Extracting ./MNIST/raw/t10k-images-idx3-ubyte.gz to ./MNIST/raw\n",
            "\n",
            "Downloading http://yann.lecun.com/exdb/mnist/t10k-labels-idx1-ubyte.gz\n",
            "Downloading http://yann.lecun.com/exdb/mnist/t10k-labels-idx1-ubyte.gz to ./MNIST/raw/t10k-labels-idx1-ubyte.gz\n"
          ]
        },
        {
          "output_type": "stream",
          "name": "stderr",
          "text": [
            "100%|██████████| 4542/4542 [00:00<00:00, 3066236.72it/s]\n"
          ]
        },
        {
          "output_type": "stream",
          "name": "stdout",
          "text": [
            "Extracting ./MNIST/raw/t10k-labels-idx1-ubyte.gz to ./MNIST/raw\n",
            "\n"
          ]
        }
      ]
    },
    {
      "cell_type": "code",
      "metadata": {
        "id": "wdfX2XnGD-a4",
        "colab": {
          "base_uri": "https://localhost:8080/"
        },
        "outputId": "35663150-0e94-48b1-a315-5e181e5eca21"
      },
      "source": [
        "len(data)"
      ],
      "execution_count": null,
      "outputs": [
        {
          "output_type": "execute_result",
          "data": {
            "text/plain": [
              "60000"
            ]
          },
          "metadata": {},
          "execution_count": 77
        }
      ]
    },
    {
      "cell_type": "code",
      "metadata": {
        "id": "s7fwSvMkD-a5",
        "colab": {
          "base_uri": "https://localhost:8080/",
          "height": 83
        },
        "outputId": "938fdf60-4bc2-492e-eaff-2754810c6ce7"
      },
      "source": [
        "import numpy as np\n",
        "img,y = data[np.random.randint(1,60000)]\n",
        "print(y)\n",
        "img"
      ],
      "execution_count": null,
      "outputs": [
        {
          "output_type": "stream",
          "name": "stdout",
          "text": [
            "0\n"
          ]
        },
        {
          "output_type": "execute_result",
          "data": {
            "text/plain": [
              "<PIL.Image.Image image mode=L size=28x28 at 0x7F33C2B216C0>"
            ],
            "image/png": "[encoded data removed]"
          },
          "metadata": {},
          "execution_count": 86
        }
      ]
    },
    {
      "cell_type": "code",
      "metadata": {
        "id": "3giZTnRiD-a-",
        "colab": {
          "base_uri": "https://localhost:8080/"
        },
        "outputId": "6ec9b749-455e-421b-b897-7f7e35c34d71"
      },
      "source": [
        "print(data.train_data[2].shape)"
      ],
      "execution_count": null,
      "outputs": [
        {
          "output_type": "stream",
          "name": "stdout",
          "text": [
            "torch.Size([28, 28])\n"
          ]
        }
      ]
    },
    {
      "cell_type": "code",
      "metadata": {
        "id": "nsZHdAMlD-a_",
        "colab": {
          "base_uri": "https://localhost:8080/"
        },
        "outputId": "5d7b3cc9-f6c9-4e53-afb6-33600ffbc13a"
      },
      "source": [
        "print(data.train_labels[2])"
      ],
      "execution_count": null,
      "outputs": [
        {
          "output_type": "stream",
          "name": "stdout",
          "text": [
            "tensor(4)\n"
          ]
        }
      ]
    },
    {
      "cell_type": "markdown",
      "metadata": {
        "id": "ROmpaSMVD-bA"
      },
      "source": [
        "### MNIST Training"
      ]
    },
    {
      "cell_type": "code",
      "metadata": {
        "id": "qHhKarpfD-bB"
      },
      "source": [
        "model = torch.nn.Sequential( # 28*28 = 784\n",
        "    torch.nn.Linear(784,  100),\n",
        "    torch.nn.ReLU(),\n",
        "    torch.nn.Linear(100, 100),\n",
        "    torch.nn.ReLU(),\n",
        "    torch.nn.Linear(100, 10),\n",
        "    torch.nn.LogSoftmax(dim=1)\n",
        ")"
      ],
      "execution_count": null,
      "outputs": []
    },
    {
      "cell_type": "code",
      "metadata": {
        "id": "E8Q59QCED-bC"
      },
      "source": [
        "loss_fn = torch.nn.CrossEntropyLoss()"
      ],
      "execution_count": null,
      "outputs": []
    },
    {
      "cell_type": "code",
      "metadata": {
        "id": "ehneQZatD-bG"
      },
      "source": [
        "sample = np.random.choice(range(len(data.train_data)),1000)\n",
        "x = data.train_data[sample].reshape(1000,-1).float()/255\n",
        "yt = data.train_labels[sample]"
      ],
      "execution_count": null,
      "outputs": []
    },
    {
      "cell_type": "code",
      "metadata": {
        "id": "ucZS9UPAD-bJ",
        "colab": {
          "base_uri": "https://localhost:8080/"
        },
        "outputId": "a53d1d34-1d3b-4789-8d62-d75e0d80909a"
      },
      "source": [
        "x.shape,yt.shape"
      ],
      "execution_count": null,
      "outputs": [
        {
          "output_type": "execute_result",
          "data": {
            "text/plain": [
              "(torch.Size([1000, 784]), torch.Size([1000]))"
            ]
          },
          "metadata": {},
          "execution_count": 97
        }
      ]
    },
    {
      "cell_type": "code",
      "metadata": {
        "id": "jdOxW-tYD-bK"
      },
      "source": [
        "optimizer = torch.optim.Adam(model.parameters(), lr=0.03)\n",
        "losses = []"
      ],
      "execution_count": null,
      "outputs": []
    },
    {
      "cell_type": "code",
      "metadata": {
        "id": "mMtNhgaED-bL",
        "colab": {
          "base_uri": "https://localhost:8080/",
          "height": 451
        },
        "outputId": "5d08a86e-2898-4853-a814-31677d8e85d0"
      },
      "source": [
        "for i in range(100):\n",
        "    \n",
        "    sample = np.random.choice(range(len(data.train_data)),1000)\n",
        "    x = data.train_data[sample].reshape(1000,-1).float()/255\n",
        "    yt = data.train_labels[sample]\n",
        "    \n",
        "    y = model(x)\n",
        "\n",
        "    # input (Tensor) – Predicted unnormalized logits\n",
        "    # target (Tensor) – Ground truth class indices or class probabilities\n",
        "    loss = loss_fn(y,yt)\n",
        "\n",
        "    loss.backward()\n",
        "\n",
        "    optimizer.step()\n",
        "    optimizer.zero_grad()\n",
        "\n",
        "    losses+=[loss.item()]\n",
        "    #print( f\"loss = {loss}\")\n",
        "plt.plot(losses);"
      ],
      "execution_count": null,
      "outputs": [
        {
          "output_type": "display_data",
          "data": {
            "text/plain": [
              "<Figure size 640x480 with 1 Axes>"
            ],
            "image/png": "[encoded data removed]"
          },
          "metadata": {}
        }
      ]
    },
    {
      "cell_type": "code",
      "metadata": {
        "id": "1BAXeaKHD-bM"
      },
      "source": [
        "x_test = data.train_data[-1000:].reshape(1000,-1).float()/255\n",
        "y_test = data.train_labels[-1000:]"
      ],
      "execution_count": null,
      "outputs": []
    },
    {
      "cell_type": "code",
      "metadata": {
        "id": "5VXFOBCjD-bO"
      },
      "source": [
        "with torch.no_grad():\n",
        "    y_pred = model(x_test)"
      ],
      "execution_count": null,
      "outputs": []
    },
    {
      "cell_type": "code",
      "source": [
        "y_pred[0]"
      ],
      "metadata": {
        "colab": {
          "base_uri": "https://localhost:8080/"
        },
        "id": "6oG-bennMI3Y",
        "outputId": "1bb9ea9f-cb27-4e39-dd8e-9158b7c54fa6"
      },
      "execution_count": null,
      "outputs": [
        {
          "output_type": "execute_result",
          "data": {
            "text/plain": [
              "tensor([ -5.6633,  -9.4235,  -6.2136,  -9.4794,  -3.8566,  -6.2634,  -0.0299,\n",
              "         -8.7633,  -7.3443, -11.3133])"
            ]
          },
          "metadata": {},
          "execution_count": 103
        }
      ]
    },
    {
      "cell_type": "code",
      "metadata": {
        "id": "tt0c-JhpD-bP",
        "colab": {
          "base_uri": "https://localhost:8080/"
        },
        "outputId": "d6a8f7ec-3b70-4874-c2ac-2396b819b01b"
      },
      "source": [
        "print(\"Accuracy = \", (y_pred.argmax(dim=1) == y_test).sum().float().item()/1000.0)"
      ],
      "execution_count": null,
      "outputs": [
        {
          "output_type": "stream",
          "name": "stdout",
          "text": [
            "Accuracy =  0.968\n"
          ]
        }
      ]
    },
    {
      "cell_type": "markdown",
      "metadata": {
        "id": "VY6m7c0qD-bQ"
      },
      "source": [
        "## Course Conclusion\n",
        "\n",
        "1. By now you should have a sufficient introduction to the various ways one can use python for scientific computing. The best way to learn more is to start using python for whatever project you are working on. Only practice will make you comfortable with using python.   \n",
        "\n",
        "Recommended Project Source: kaggle  \n",
        "\n",
        "Recommended ML/DL Courses: CS229, 230, 231N, 224 series, 238, 246  \n",
        "\n",
        "2. I appreciate your time to submit the course feedback, which means a lot to me and improvement for this course in the future  \n",
        " \n"
      ]
    }
  ]
}