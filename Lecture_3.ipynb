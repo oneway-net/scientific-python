{
  "cells": [
    {
      "cell_type": "markdown",
      "metadata": {
        "id": "view-in-github",
        "colab_type": "text"
      },
      "source": [
        "<a href=\"https://colab.research.google.com/github/oneway-net/scientific-python/blob/main/Lecture_3.ipynb\" target=\"_parent\"><img src=\"https://colab.research.google.com/assets/colab-badge.svg\" alt=\"Open In Colab\"/></a>"
      ]
    },
    {
      "cell_type": "markdown",
      "metadata": {
        "id": "R2Aw6UeAAA0j"
      },
      "source": [
        "1. Intro:\n",
        "  - Homework 1 will be released next Wednesday\n",
        "2. Lec 2: Matplotlib\n",
        "3. Lec 3: Numpy\n",
        "  - Vectorization\n",
        "  - Boardcast\n",
        "  - Identify Matrix \n",
        "  - Indexing and Slicing\n",
        "  - Fancy Array\n",
        "  - Reduction Operation"
      ]
    },
    {
      "cell_type": "markdown",
      "source": [
        "# Basic Section (Start)\n"
      ],
      "metadata": {
        "id": "sm2ka4lprn1-"
      }
    },
    {
      "cell_type": "code",
      "execution_count": null,
      "metadata": {
        "id": "ekC5lhEacpKu"
      },
      "outputs": [],
      "source": [
        "import numpy as np"
      ]
    },
    {
      "cell_type": "markdown",
      "metadata": {
        "id": "BJ0zt3V0cpKv"
      },
      "source": [
        "## Numpy (Review)\n",
        "\n",
        "Main object type is `np.array`\n",
        "\n",
        "Many ways to create it,\n",
        "\n",
        "One way is to convert a python list"
      ]
    },
    {
      "cell_type": "code",
      "execution_count": null,
      "metadata": {
        "id": "xIO3lTj-cpKx",
        "colab": {
          "base_uri": "https://localhost:8080/"
        },
        "outputId": "8b1ab55d-84a6-428d-8e40-53712eb4eedb"
      },
      "outputs": [
        {
          "output_type": "execute_result",
          "data": {
            "text/plain": [
              "array([1, 2, 3])"
            ]
          },
          "metadata": {},
          "execution_count": 135
        }
      ],
      "source": [
        "python_list = [ 1,2,3 ]\n",
        "arr = np.array(python_list)   \n",
        "arr"
      ]
    },
    {
      "cell_type": "code",
      "execution_count": null,
      "metadata": {
        "id": "pc4i2a416Z5M",
        "colab": {
          "base_uri": "https://localhost:8080/"
        },
        "outputId": "54a1b1b7-75c5-4d24-99e8-ab20800720aa"
      },
      "outputs": [
        {
          "output_type": "execute_result",
          "data": {
            "text/plain": [
              "array([1, 4, 9])"
            ]
          },
          "metadata": {},
          "execution_count": 136
        }
      ],
      "source": [
        "arr**2"
      ]
    },
    {
      "cell_type": "code",
      "execution_count": null,
      "metadata": {
        "id": "LDX_ymhAKp8I",
        "colab": {
          "base_uri": "https://localhost:8080/",
          "height": 187
        },
        "outputId": "c2068821-2655-465f-ceef-520f5ca9b186"
      },
      "outputs": [
        {
          "output_type": "error",
          "ename": "TypeError",
          "evalue": "ignored",
          "traceback": [
            "\u001b[0;31m---------------------------------------------------------------------------\u001b[0m",
            "\u001b[0;31mTypeError\u001b[0m                                 Traceback (most recent call last)",
            "\u001b[0;32m<ipython-input-137-4dfd32a7d096>\u001b[0m in \u001b[0;36m<cell line: 1>\u001b[0;34m()\u001b[0m\n\u001b[0;32m----> 1\u001b[0;31m \u001b[0mpython_list\u001b[0m\u001b[0;34m**\u001b[0m\u001b[0;36m2\u001b[0m\u001b[0;34m\u001b[0m\u001b[0;34m\u001b[0m\u001b[0m\n\u001b[0m",
            "\u001b[0;31mTypeError\u001b[0m: unsupported operand type(s) for ** or pow(): 'list' and 'int'"
          ]
        }
      ],
      "source": [
        "python_list**2"
      ]
    },
    {
      "cell_type": "code",
      "execution_count": null,
      "metadata": {
        "id": "2yasABN8J8z8",
        "colab": {
          "base_uri": "https://localhost:8080/",
          "height": 204
        },
        "outputId": "39ff251f-8afb-4206-a5ae-3399af1c8c46"
      },
      "outputs": [
        {
          "output_type": "error",
          "ename": "AttributeError",
          "evalue": "ignored",
          "traceback": [
            "\u001b[0;31m---------------------------------------------------------------------------\u001b[0m",
            "\u001b[0;31mAttributeError\u001b[0m                            Traceback (most recent call last)",
            "\u001b[0;32m<ipython-input-139-94165d40edb5>\u001b[0m in \u001b[0;36m<cell line: 2>\u001b[0;34m()\u001b[0m\n\u001b[1;32m      1\u001b[0m \u001b[0;31m# arr.__pow__(2)\u001b[0m\u001b[0;34m\u001b[0m\u001b[0;34m\u001b[0m\u001b[0m\n\u001b[0;32m----> 2\u001b[0;31m \u001b[0mpython_list\u001b[0m\u001b[0;34m.\u001b[0m\u001b[0m__pow__\u001b[0m\u001b[0;34m(\u001b[0m\u001b[0;36m2\u001b[0m\u001b[0;34m)\u001b[0m\u001b[0;34m\u001b[0m\u001b[0;34m\u001b[0m\u001b[0m\n\u001b[0m",
            "\u001b[0;31mAttributeError\u001b[0m: 'list' object has no attribute '__pow__'"
          ]
        }
      ],
      "source": [
        "# arr.__pow__(2)\n",
        "python_list.__pow__(2)"
      ]
    },
    {
      "cell_type": "markdown",
      "metadata": {
        "id": "Du3Lpmi-cpKz"
      },
      "source": [
        "Many times a list comprehension is used to create a list and then converted to a array"
      ]
    },
    {
      "cell_type": "code",
      "execution_count": null,
      "metadata": {
        "id": "4Xz0VGT0cpKz",
        "colab": {
          "base_uri": "https://localhost:8080/"
        },
        "outputId": "0bcdac09-6e5d-4939-ec24-f9dabb665164"
      },
      "outputs": [
        {
          "output_type": "execute_result",
          "data": {
            "text/plain": [
              "[4, 9]"
            ]
          },
          "metadata": {},
          "execution_count": 140
        }
      ],
      "source": [
        "python_list_pow = [ i**2 for i in python_list if i != 1] #Add if statement for conditional result\n",
        "python_list_pow"
      ]
    },
    {
      "cell_type": "markdown",
      "metadata": {
        "id": "U1acF_mOcpK2"
      },
      "source": [
        "### Exercise (In Lec)\n",
        "Create a numpy array that contain  intergers i  such that  0<i<100 and $2^i$ has the last digit 6"
      ]
    },
    {
      "cell_type": "code",
      "source": [
        "np.array([i for i in range(1, 100) if (2**i)%10 == 6])"
      ],
      "metadata": {
        "colab": {
          "base_uri": "https://localhost:8080/"
        },
        "id": "1B0gVXMSbsoU",
        "outputId": "d3fb7f64-0e9e-409c-a8e8-745d22272887"
      },
      "execution_count": null,
      "outputs": [
        {
          "output_type": "execute_result",
          "data": {
            "text/plain": [
              "array([ 4,  8, 12, 16, 20, 24, 28, 32, 36, 40, 44, 48, 52, 56, 60, 64, 68,\n",
              "       72, 76, 80, 84, 88, 92, 96])"
            ]
          },
          "metadata": {},
          "execution_count": 141
        }
      ]
    },
    {
      "cell_type": "markdown",
      "metadata": {
        "id": "c0fMYyztcpK3"
      },
      "source": [
        "Create a 2D numpy array $A$ (5,10) such that $A_{ij} = i\\times j$"
      ]
    },
    {
      "cell_type": "code",
      "source": [
        "A = np.zeros((5,10))\n",
        "for i in range(5):\n",
        "  for j in range(10):\n",
        "    A[i,j] = i*j\n",
        "A"
      ],
      "metadata": {
        "colab": {
          "base_uri": "https://localhost:8080/"
        },
        "id": "ObzFUe3GbtCk",
        "outputId": "f17276a2-b793-415f-c75c-74e2058b6ac2"
      },
      "execution_count": null,
      "outputs": [
        {
          "output_type": "execute_result",
          "data": {
            "text/plain": [
              "array([[ 0.,  0.,  0.,  0.,  0.,  0.,  0.,  0.,  0.,  0.],\n",
              "       [ 0.,  1.,  2.,  3.,  4.,  5.,  6.,  7.,  8.,  9.],\n",
              "       [ 0.,  2.,  4.,  6.,  8., 10., 12., 14., 16., 18.],\n",
              "       [ 0.,  3.,  6.,  9., 12., 15., 18., 21., 24., 27.],\n",
              "       [ 0.,  4.,  8., 12., 16., 20., 24., 28., 32., 36.]])"
            ]
          },
          "metadata": {},
          "execution_count": 143
        }
      ]
    },
    {
      "cell_type": "code",
      "source": [
        "np.array([ [ i*j for j in range(10)] for i in range(5)])"
      ],
      "metadata": {
        "colab": {
          "base_uri": "https://localhost:8080/"
        },
        "id": "31dcUPkXz7xc",
        "outputId": "e9372a5c-4f37-44d4-94d8-719aed856a91"
      },
      "execution_count": null,
      "outputs": [
        {
          "output_type": "execute_result",
          "data": {
            "text/plain": [
              "array([[ 0,  0,  0,  0,  0,  0,  0,  0,  0,  0],\n",
              "       [ 0,  1,  2,  3,  4,  5,  6,  7,  8,  9],\n",
              "       [ 0,  2,  4,  6,  8, 10, 12, 14, 16, 18],\n",
              "       [ 0,  3,  6,  9, 12, 15, 18, 21, 24, 27],\n",
              "       [ 0,  4,  8, 12, 16, 20, 24, 28, 32, 36]])"
            ]
          },
          "metadata": {},
          "execution_count": 145
        }
      ]
    },
    {
      "cell_type": "code",
      "source": [
        "[ j for j in range(10)]"
      ],
      "metadata": {
        "colab": {
          "base_uri": "https://localhost:8080/"
        },
        "id": "1bgA5w880F4J",
        "outputId": "6224dc4a-160b-4e15-9ca4-4b3fec68e3aa"
      },
      "execution_count": null,
      "outputs": [
        {
          "output_type": "execute_result",
          "data": {
            "text/plain": [
              "[0, 1, 2, 3, 4, 5, 6, 7, 8, 9]"
            ]
          },
          "metadata": {},
          "execution_count": 144
        }
      ]
    },
    {
      "cell_type": "markdown",
      "metadata": {
        "id": "Clx3TzpdcpK7"
      },
      "source": [
        "## Another way to create a numpy array is with initializing functions\n",
        "\n",
        "- np.zeros\n",
        "- np.ones\n",
        "- np.arange\n",
        "\n",
        "These functions along with `reshape` can be used to create initial matrix without any for loops"
      ]
    },
    {
      "cell_type": "code",
      "execution_count": null,
      "metadata": {
        "id": "Q_MicPfVcpK7",
        "colab": {
          "base_uri": "https://localhost:8080/"
        },
        "outputId": "e7698e7c-3277-4d1c-beb5-b4e6ea53948a"
      },
      "outputs": [
        {
          "output_type": "execute_result",
          "data": {
            "text/plain": [
              "array([[0., 0., 0., 0., 0., 0., 0., 0., 0., 0.],\n",
              "       [0., 0., 0., 0., 0., 0., 0., 0., 0., 0.],\n",
              "       [0., 0., 0., 0., 0., 0., 0., 0., 0., 0.],\n",
              "       [0., 0., 0., 0., 0., 0., 0., 0., 0., 0.],\n",
              "       [0., 0., 0., 0., 0., 0., 0., 0., 0., 0.],\n",
              "       [0., 0., 0., 0., 0., 0., 0., 0., 0., 0.],\n",
              "       [0., 0., 0., 0., 0., 0., 0., 0., 0., 0.],\n",
              "       [0., 0., 0., 0., 0., 0., 0., 0., 0., 0.],\n",
              "       [0., 0., 0., 0., 0., 0., 0., 0., 0., 0.],\n",
              "       [0., 0., 0., 0., 0., 0., 0., 0., 0., 0.]])"
            ]
          },
          "metadata": {},
          "execution_count": 146
        }
      ],
      "source": [
        "np.zeros((10,10))"
      ]
    },
    {
      "cell_type": "code",
      "execution_count": null,
      "metadata": {
        "id": "ewrnqEk0cpK8",
        "colab": {
          "base_uri": "https://localhost:8080/"
        },
        "outputId": "dcc2fdf8-2f5a-4715-c765-34677f456f4c"
      },
      "outputs": [
        {
          "output_type": "execute_result",
          "data": {
            "text/plain": [
              "array([[3., 3., 3., 3., 3., 3., 3., 3., 3., 3.],\n",
              "       [3., 3., 3., 3., 3., 3., 3., 3., 3., 3.],\n",
              "       [3., 3., 3., 3., 3., 3., 3., 3., 3., 3.],\n",
              "       [3., 3., 3., 3., 3., 3., 3., 3., 3., 3.],\n",
              "       [3., 3., 3., 3., 3., 3., 3., 3., 3., 3.],\n",
              "       [3., 3., 3., 3., 3., 3., 3., 3., 3., 3.],\n",
              "       [3., 3., 3., 3., 3., 3., 3., 3., 3., 3.],\n",
              "       [3., 3., 3., 3., 3., 3., 3., 3., 3., 3.],\n",
              "       [3., 3., 3., 3., 3., 3., 3., 3., 3., 3.],\n",
              "       [3., 3., 3., 3., 3., 3., 3., 3., 3., 3.]])"
            ]
          },
          "metadata": {},
          "execution_count": 147
        }
      ],
      "source": [
        "np.ones((10,10)) * 3"
      ]
    },
    {
      "cell_type": "code",
      "execution_count": null,
      "metadata": {
        "id": "9OvLSdfdcpK8",
        "colab": {
          "base_uri": "https://localhost:8080/"
        },
        "outputId": "83bf0e6c-7adf-4dce-efd8-d2f7587fdb17"
      },
      "outputs": [
        {
          "output_type": "execute_result",
          "data": {
            "text/plain": [
              "array([2, 4, 6, 8])"
            ]
          },
          "metadata": {},
          "execution_count": 148
        }
      ],
      "source": [
        "np.arange(2,10, 2) #equivalent to range(2,10,2)"
      ]
    },
    {
      "cell_type": "markdown",
      "metadata": {
        "id": "wkfUmrQOQt-C"
      },
      "source": [
        "### Exercise (In Lec)"
      ]
    },
    {
      "cell_type": "markdown",
      "metadata": {
        "id": "yxz7GZEicpK6"
      },
      "source": [
        "Create an array of first 10 powers of 2"
      ]
    },
    {
      "cell_type": "code",
      "execution_count": null,
      "metadata": {
        "id": "EDpMgy3-Xmql",
        "colab": {
          "base_uri": "https://localhost:8080/"
        },
        "outputId": "fa1ca58a-05d7-4175-ebc0-e97a72cc8ef2"
      },
      "outputs": [
        {
          "output_type": "execute_result",
          "data": {
            "text/plain": [
              "array([  1,   2,   4,   8,  16,  32,  64, 128, 256, 512])"
            ]
          },
          "metadata": {},
          "execution_count": 150
        }
      ],
      "source": [
        "#Answer:\n",
        "2**(np.arange(10))"
      ]
    },
    {
      "cell_type": "markdown",
      "source": [
        "### 1D vs 2D array"
      ],
      "metadata": {
        "id": "KBuHu7Mng2Y5"
      }
    },
    {
      "cell_type": "code",
      "execution_count": null,
      "metadata": {
        "id": "1a1g17LScpK9",
        "colab": {
          "base_uri": "https://localhost:8080/"
        },
        "outputId": "2f5235a6-e611-437d-b23a-7930f9cf80ba"
      },
      "outputs": [
        {
          "output_type": "stream",
          "name": "stdout",
          "text": [
            "(10,)\n"
          ]
        },
        {
          "output_type": "execute_result",
          "data": {
            "text/plain": [
              "array([ 0,  1,  4,  9, 16, 25, 36, 49, 64, 81])"
            ]
          },
          "metadata": {},
          "execution_count": 151
        }
      ],
      "source": [
        "array1D = np.arange(10)*np.arange(10)\n",
        "print(array1D.shape)\n",
        "array1D"
      ]
    },
    {
      "cell_type": "code",
      "execution_count": null,
      "metadata": {
        "id": "TEkHHkPVlcta",
        "colab": {
          "base_uri": "https://localhost:8080/"
        },
        "outputId": "c31d002e-eee2-4b6d-e64b-17e4c50cb5b2"
      },
      "outputs": [
        {
          "output_type": "stream",
          "name": "stdout",
          "text": [
            "(10, 1)\n"
          ]
        },
        {
          "output_type": "execute_result",
          "data": {
            "text/plain": [
              "array([[0],\n",
              "       [1],\n",
              "       [2],\n",
              "       [3],\n",
              "       [4],\n",
              "       [5],\n",
              "       [6],\n",
              "       [7],\n",
              "       [8],\n",
              "       [9]])"
            ]
          },
          "metadata": {},
          "execution_count": 154
        }
      ],
      "source": [
        "array2D = np.arange(10).reshape(10,1)\n",
        "print(array2D.shape)\n",
        "array2D"
      ]
    },
    {
      "cell_type": "code",
      "execution_count": null,
      "metadata": {
        "colab": {
          "base_uri": "https://localhost:8080/"
        },
        "id": "n9MqPp9WcpK9",
        "outputId": "6aa465ba-c33f-4e9f-e14d-63bd17cf32b0"
      },
      "outputs": [
        {
          "output_type": "execute_result",
          "data": {
            "text/plain": [
              "array([[  0,   0,   0,   0,   0,   0,   0,   0,   0,   0],\n",
              "       [  0,   1,   4,   9,  16,  25,  36,  49,  64,  81],\n",
              "       [  0,   2,   8,  18,  32,  50,  72,  98, 128, 162],\n",
              "       [  0,   3,  12,  27,  48,  75, 108, 147, 192, 243],\n",
              "       [  0,   4,  16,  36,  64, 100, 144, 196, 256, 324],\n",
              "       [  0,   5,  20,  45,  80, 125, 180, 245, 320, 405],\n",
              "       [  0,   6,  24,  54,  96, 150, 216, 294, 384, 486],\n",
              "       [  0,   7,  28,  63, 112, 175, 252, 343, 448, 567],\n",
              "       [  0,   8,  32,  72, 128, 200, 288, 392, 512, 648],\n",
              "       [  0,   9,  36,  81, 144, 225, 324, 441, 576, 729]])"
            ]
          },
          "metadata": {},
          "execution_count": 155
        }
      ],
      "source": [
        "array2D * array1D"
      ]
    },
    {
      "cell_type": "markdown",
      "metadata": {
        "id": "4m52F0GLcpK-"
      },
      "source": [
        "### Distinction between numpy 1D arrays and numpy 2D arrays\n",
        "\n",
        "This tends to cause a lot of confusion for new numpy users.\n",
        "Follow the below examples carefully to understand the distinction."
      ]
    },
    {
      "cell_type": "code",
      "execution_count": null,
      "metadata": {
        "id": "hOS5NmDccpK_",
        "colab": {
          "base_uri": "https://localhost:8080/"
        },
        "outputId": "94eab2fd-9074-4c74-dd8b-88c8a121388c"
      },
      "outputs": [
        {
          "output_type": "stream",
          "name": "stdout",
          "text": [
            "[0. 0. 0. 0. 0. 0. 0. 0. 0. 0.]\n"
          ]
        },
        {
          "output_type": "execute_result",
          "data": {
            "text/plain": [
              "(10,)"
            ]
          },
          "metadata": {},
          "execution_count": 156
        }
      ],
      "source": [
        "Z = np.zeros(10)\n",
        "print(Z)\n",
        "Z.shape"
      ]
    },
    {
      "cell_type": "code",
      "execution_count": null,
      "metadata": {
        "id": "UxttJFMKcpK_",
        "colab": {
          "base_uri": "https://localhost:8080/"
        },
        "outputId": "8419ea11-0bdf-4b0d-e685-9aee2ff981c8"
      },
      "outputs": [
        {
          "output_type": "stream",
          "name": "stdout",
          "text": [
            "[[0.]\n",
            " [0.]\n",
            " [0.]\n",
            " [0.]\n",
            " [0.]\n",
            " [0.]\n",
            " [0.]\n",
            " [0.]\n",
            " [0.]\n",
            " [0.]]\n"
          ]
        },
        {
          "output_type": "execute_result",
          "data": {
            "text/plain": [
              "(10, 1)"
            ]
          },
          "metadata": {},
          "execution_count": 157
        }
      ],
      "source": [
        "# Create 2D array by dimension\n",
        "Z = np.zeros((10,1))\n",
        "print(Z)\n",
        "Z.shape"
      ]
    },
    {
      "cell_type": "code",
      "execution_count": null,
      "metadata": {
        "id": "ORpO8ZaFcpK_",
        "colab": {
          "base_uri": "https://localhost:8080/"
        },
        "outputId": "8f4ec9e1-30c8-43d5-ef40-1aeefaaba9d8"
      },
      "outputs": [
        {
          "output_type": "stream",
          "name": "stdout",
          "text": [
            "[[0.]\n",
            " [0.]\n",
            " [0.]\n",
            " [0.]\n",
            " [0.]\n",
            " [0.]\n",
            " [0.]\n",
            " [0.]\n",
            " [0.]\n",
            " [0.]]\n"
          ]
        },
        {
          "output_type": "execute_result",
          "data": {
            "text/plain": [
              "(10, 1)"
            ]
          },
          "metadata": {},
          "execution_count": 158
        }
      ],
      "source": [
        "# Create 2D array by reshape\n",
        "Z = np.zeros(10).reshape(10,1)\n",
        "print(Z)\n",
        "Z.shape"
      ]
    },
    {
      "cell_type": "code",
      "execution_count": null,
      "metadata": {
        "id": "-AiQ3VrVl2hN",
        "colab": {
          "base_uri": "https://localhost:8080/"
        },
        "outputId": "ac5ead3b-7c62-460e-93fe-d36082aed001"
      },
      "outputs": [
        {
          "output_type": "execute_result",
          "data": {
            "text/plain": [
              "array([0., 0., 0., 0., 0., 0., 0., 0., 0., 0.])"
            ]
          },
          "metadata": {},
          "execution_count": 159
        }
      ],
      "source": [
        "Z.squeeze() #remove axis with length = 1"
      ]
    },
    {
      "cell_type": "code",
      "execution_count": null,
      "metadata": {
        "id": "wtG-DpHAcpK_",
        "colab": {
          "base_uri": "https://localhost:8080/"
        },
        "outputId": "8625f79d-b2b9-4800-c939-355eee8f410a"
      },
      "outputs": [
        {
          "output_type": "stream",
          "name": "stdout",
          "text": [
            "(1, 1, 2, 3)\n"
          ]
        },
        {
          "output_type": "execute_result",
          "data": {
            "text/plain": [
              "(2, 3)"
            ]
          },
          "metadata": {},
          "execution_count": 160
        }
      ],
      "source": [
        "# squeeze Remove axes of length one\n",
        "Z = np.zeros(6).reshape(1, 1, 2,3)\n",
        "print(Z.shape)\n",
        "Z.squeeze().shape"
      ]
    },
    {
      "cell_type": "code",
      "execution_count": null,
      "metadata": {
        "id": "BonXzKqucpLA"
      },
      "outputs": [],
      "source": [
        "Mat = np.random.randn(10,10)"
      ]
    },
    {
      "cell_type": "code",
      "execution_count": null,
      "metadata": {
        "id": "Zgge9PBYcpLA",
        "colab": {
          "base_uri": "https://localhost:8080/"
        },
        "outputId": "f9e7c1f6-4eac-4f58-cf0b-ce3c548ff2ac"
      },
      "outputs": [
        {
          "output_type": "stream",
          "name": "stdout",
          "text": [
            "(10, 1)\n"
          ]
        },
        {
          "output_type": "execute_result",
          "data": {
            "text/plain": [
              "array([[ 24.62136834],\n",
              "       [-15.36559955],\n",
              "       [-25.52102471],\n",
              "       [  0.85550185],\n",
              "       [-19.02638736],\n",
              "       [-11.43789677],\n",
              "       [  9.41128384],\n",
              "       [  7.75349398],\n",
              "       [ 22.77013608],\n",
              "       [-23.81165298]])"
            ]
          },
          "metadata": {},
          "execution_count": 164
        }
      ],
      "source": [
        "# (N, M) @ (M, K) = (N, K)\n",
        "Z = np.arange(10).reshape(10,1)\n",
        "print(Z.shape)\n",
        "Mat@Z"
      ]
    },
    {
      "cell_type": "code",
      "execution_count": null,
      "metadata": {
        "id": "wNeR6q8mcpLA",
        "colab": {
          "base_uri": "https://localhost:8080/",
          "height": 274
        },
        "outputId": "273bef64-a470-41f6-e87e-df443cf16adb"
      },
      "outputs": [
        {
          "output_type": "stream",
          "name": "stdout",
          "text": [
            "(10, 10)\n",
            "(1, 10)\n"
          ]
        },
        {
          "output_type": "error",
          "ename": "ValueError",
          "evalue": "ignored",
          "traceback": [
            "\u001b[0;31m---------------------------------------------------------------------------\u001b[0m",
            "\u001b[0;31mValueError\u001b[0m                                Traceback (most recent call last)",
            "\u001b[0;32m<ipython-input-166-b0e9a049843f>\u001b[0m in \u001b[0;36m<cell line: 5>\u001b[0;34m()\u001b[0m\n\u001b[1;32m      3\u001b[0m \u001b[0mprint\u001b[0m\u001b[0;34m(\u001b[0m\u001b[0mMat\u001b[0m\u001b[0;34m.\u001b[0m\u001b[0mshape\u001b[0m\u001b[0;34m)\u001b[0m\u001b[0;34m\u001b[0m\u001b[0;34m\u001b[0m\u001b[0m\n\u001b[1;32m      4\u001b[0m \u001b[0mprint\u001b[0m\u001b[0;34m(\u001b[0m\u001b[0mZ\u001b[0m\u001b[0;34m.\u001b[0m\u001b[0mshape\u001b[0m\u001b[0;34m)\u001b[0m\u001b[0;34m\u001b[0m\u001b[0;34m\u001b[0m\u001b[0m\n\u001b[0;32m----> 5\u001b[0;31m \u001b[0mMat\u001b[0m\u001b[0;34m@\u001b[0m\u001b[0mZ\u001b[0m \u001b[0;31m# (10, 10) @ (1, 10) NOT WORKING\u001b[0m\u001b[0;34m\u001b[0m\u001b[0;34m\u001b[0m\u001b[0m\n\u001b[0m",
            "\u001b[0;31mValueError\u001b[0m: matmul: Input operand 1 has a mismatch in its core dimension 0, with gufunc signature (n?,k),(k,m?)->(n?,m?) (size 1 is different from 10)"
          ]
        }
      ],
      "source": [
        "Z = np.arange(10).reshape(1,10)\n",
        "\n",
        "print(Mat.shape)\n",
        "print(Z.shape)\n",
        "Mat@Z # (10, 10) @ (1, 10) NOT WORKING"
      ]
    },
    {
      "cell_type": "code",
      "source": [
        "(Z@Mat).shape"
      ],
      "metadata": {
        "colab": {
          "base_uri": "https://localhost:8080/"
        },
        "id": "csqE3Sqq1_YX",
        "outputId": "6b563e75-6ecf-469a-be48-0b09600ba8a5"
      },
      "execution_count": null,
      "outputs": [
        {
          "output_type": "execute_result",
          "data": {
            "text/plain": [
              "(1, 10)"
            ]
          },
          "metadata": {},
          "execution_count": 168
        }
      ]
    },
    {
      "cell_type": "code",
      "execution_count": null,
      "metadata": {
        "id": "WxkZh6mtcpLB",
        "colab": {
          "base_uri": "https://localhost:8080/"
        },
        "outputId": "63ea43d4-d09a-43c9-bcf9-25617a179aed"
      },
      "outputs": [
        {
          "output_type": "stream",
          "name": "stdout",
          "text": [
            "0.0\n"
          ]
        },
        {
          "output_type": "execute_result",
          "data": {
            "text/plain": [
              "array([[0., 0., 0., 0., 0.],\n",
              "       [0., 0., 0., 0., 0.],\n",
              "       [0., 0., 0., 0., 0.],\n",
              "       [0., 0., 0., 0., 0.],\n",
              "       [0., 0., 0., 0., 0.]])"
            ]
          },
          "metadata": {},
          "execution_count": 170
        }
      ],
      "source": [
        "# array variable is also a pointer\n",
        "x = np.zeros((5,5))\n",
        "print(x[1,1])\n",
        "y = x.copy()\n",
        "x[1,1]= 2\n",
        "\n",
        "y"
      ]
    },
    {
      "cell_type": "markdown",
      "metadata": {
        "id": "6F8S5BDUcpLB"
      },
      "source": [
        "## Array Broadcasting\n",
        "\n",
        "Normally you only do arithmetic operations between arrays of the same dimension \n",
        "\n",
        "The smaller array is “broadcast” across the larger array so that they have compatible shapes by dimension."
      ]
    },
    {
      "cell_type": "code",
      "source": [
        "a = np.arange(3)\n",
        "b = np.arange(3).reshape(3,1)\n",
        "c = np.ones((3,3))\n",
        "d = np.zeros((6,3))\n",
        "print(a, '\\n')\n",
        "print(b,'\\n')\n",
        "print(c,'\\n')\n",
        "print(d,'\\n')"
      ],
      "metadata": {
        "colab": {
          "base_uri": "https://localhost:8080/"
        },
        "id": "Odab6zqGMpLE",
        "outputId": "0230058c-7667-49c9-de85-48b1d8640733"
      },
      "execution_count": null,
      "outputs": [
        {
          "output_type": "stream",
          "name": "stdout",
          "text": [
            "[0 1 2] \n",
            "\n",
            "[[0]\n",
            " [1]\n",
            " [2]] \n",
            "\n",
            "[[1. 1. 1.]\n",
            " [1. 1. 1.]\n",
            " [1. 1. 1.]] \n",
            "\n",
            "[[0. 0. 0.]\n",
            " [0. 0. 0.]\n",
            " [0. 0. 0.]\n",
            " [0. 0. 0.]\n",
            " [0. 0. 0.]\n",
            " [0. 0. 0.]] \n",
            "\n"
          ]
        }
      ]
    },
    {
      "cell_type": "code",
      "execution_count": null,
      "metadata": {
        "id": "UEsPlv7KcpLC",
        "colab": {
          "base_uri": "https://localhost:8080/"
        },
        "outputId": "908ca673-3f6e-4258-8daa-0fd355539a6d"
      },
      "outputs": [
        {
          "output_type": "execute_result",
          "data": {
            "text/plain": [
              "array([[1., 1., 1.],\n",
              "       [2., 2., 2.],\n",
              "       [3., 3., 3.]])"
            ]
          },
          "metadata": {},
          "execution_count": 175
        }
      ],
      "source": [
        "# c + 2\n",
        "# c + c\n",
        "# d + a\n",
        "c + b"
      ]
    },
    {
      "cell_type": "code",
      "execution_count": null,
      "metadata": {
        "id": "pP5l6yyDcpLC",
        "colab": {
          "base_uri": "https://localhost:8080/"
        },
        "outputId": "7e0d81e8-da73-4987-a552-c368aa075156"
      },
      "outputs": [
        {
          "output_type": "execute_result",
          "data": {
            "text/plain": [
              "array([[1.],\n",
              "       [1.],\n",
              "       [1.],\n",
              "       [1.],\n",
              "       [1.],\n",
              "       [1.]])"
            ]
          },
          "metadata": {},
          "execution_count": 176
        }
      ],
      "source": [
        "np.ones((6,1))"
      ]
    },
    {
      "cell_type": "code",
      "execution_count": null,
      "metadata": {
        "id": "R5Fp-4L3cpLD",
        "colab": {
          "base_uri": "https://localhost:8080/"
        },
        "outputId": "a52ae7b1-1aad-441d-80e0-93d6bcbaa7cf"
      },
      "outputs": [
        {
          "output_type": "execute_result",
          "data": {
            "text/plain": [
              "array([[1., 1., 1., 1., 1.]])"
            ]
          },
          "metadata": {},
          "execution_count": 177
        }
      ],
      "source": [
        "np.ones((1,5))"
      ]
    },
    {
      "cell_type": "code",
      "execution_count": null,
      "metadata": {
        "id": "YRiRURBPcpLD",
        "colab": {
          "base_uri": "https://localhost:8080/"
        },
        "outputId": "ca1d5715-1c51-498a-f6e4-f60fa1677b01"
      },
      "outputs": [
        {
          "output_type": "execute_result",
          "data": {
            "text/plain": [
              "array([[2., 2., 2., 2., 2.],\n",
              "       [2., 2., 2., 2., 2.],\n",
              "       [2., 2., 2., 2., 2.],\n",
              "       [2., 2., 2., 2., 2.],\n",
              "       [2., 2., 2., 2., 2.],\n",
              "       [2., 2., 2., 2., 2.]])"
            ]
          },
          "metadata": {},
          "execution_count": 178
        }
      ],
      "source": [
        "np.ones((6,1)) + np.ones((1,5))"
      ]
    },
    {
      "cell_type": "code",
      "execution_count": null,
      "metadata": {
        "id": "S0rfUgFtcpLD",
        "colab": {
          "base_uri": "https://localhost:8080/"
        },
        "outputId": "93e937ef-5903-4b9c-f6c8-173ee9174b53"
      },
      "outputs": [
        {
          "output_type": "stream",
          "name": "stdout",
          "text": [
            "(4, 1)\n",
            "(1, 3) \n",
            "\n",
            "[[ 0]\n",
            " [10]\n",
            " [20]\n",
            " [30]] \n",
            "\n",
            "[[0 1 2]] \n",
            "\n"
          ]
        },
        {
          "output_type": "execute_result",
          "data": {
            "text/plain": [
              "array([[ 0,  1,  2],\n",
              "       [10, 11, 12],\n",
              "       [20, 21, 22],\n",
              "       [30, 31, 32]])"
            ]
          },
          "metadata": {},
          "execution_count": 180
        }
      ],
      "source": [
        "X = np.arange(4).reshape(-1,1)*10\n",
        "Y = np.arange(3).reshape(1,-1)\n",
        "print(X.shape)\n",
        "print(Y.shape,'\\n')\n",
        "print(X,'\\n')\n",
        "print(Y,'\\n')\n",
        "X+Y"
      ]
    },
    {
      "cell_type": "markdown",
      "source": [
        "it tries to duplicates every x’s col and y’s row (dim size = 1) to match the other arrays\n",
        "1. Make the two arrays have the same number of dimensions.\n",
        "  - If the numbers of dimensions of the two arrays are different, add new dimensions with size 1 to the head of the array with the smaller dimension.\n",
        "\n",
        "2. If there is a dimension whose size is not 1 in either of the two arrays, it cannot be broadcasted, and an error is raised."
      ],
      "metadata": {
        "id": "8Hv2qdGpluQl"
      }
    },
    {
      "cell_type": "markdown",
      "metadata": {
        "id": "MhdH-qrJcpLD"
      },
      "source": [
        "![](http://scipy-lectures.org/_images/numpy_broadcasting.png)"
      ]
    },
    {
      "cell_type": "markdown",
      "metadata": {
        "id": "2ls4P9gDcpLD"
      },
      "source": [
        "### Exercise (In-Lecture)\n",
        "create a 2D numpy array $A$ (shape = (5,10) ) such that $A_{ij} = i\\times j$, but without using list comprehensions. Use broadcasting instead\n"
      ]
    },
    {
      "cell_type": "code",
      "source": [
        "np.arange(5).reshape(-1,1)"
      ],
      "metadata": {
        "colab": {
          "base_uri": "https://localhost:8080/"
        },
        "id": "CagzOxtfnDDQ",
        "outputId": "b1004e6d-31f5-44fe-e727-ec069c86b186"
      },
      "execution_count": null,
      "outputs": [
        {
          "output_type": "execute_result",
          "data": {
            "text/plain": [
              "array([[0],\n",
              "       [1],\n",
              "       [2],\n",
              "       [3],\n",
              "       [4]])"
            ]
          },
          "metadata": {},
          "execution_count": 181
        }
      ]
    },
    {
      "cell_type": "code",
      "source": [
        "np.arange(10).reshape(1,-1)"
      ],
      "metadata": {
        "colab": {
          "base_uri": "https://localhost:8080/"
        },
        "id": "3sC3cCtN31-e",
        "outputId": "003a4cdd-8c3f-4591-9285-024412c97b9d"
      },
      "execution_count": null,
      "outputs": [
        {
          "output_type": "execute_result",
          "data": {
            "text/plain": [
              "array([[0, 1, 2, 3, 4, 5, 6, 7, 8, 9]])"
            ]
          },
          "metadata": {},
          "execution_count": 182
        }
      ]
    },
    {
      "cell_type": "code",
      "source": [
        "np.arange(5).reshape(-1,1) * np.arange(10).reshape(1,-1)"
      ],
      "metadata": {
        "colab": {
          "base_uri": "https://localhost:8080/"
        },
        "id": "glYQOWEh35vm",
        "outputId": "309df3c8-c402-431f-dc4c-eaadd0d943e8"
      },
      "execution_count": null,
      "outputs": [
        {
          "output_type": "execute_result",
          "data": {
            "text/plain": [
              "array([[ 0,  0,  0,  0,  0,  0,  0,  0,  0,  0],\n",
              "       [ 0,  1,  2,  3,  4,  5,  6,  7,  8,  9],\n",
              "       [ 0,  2,  4,  6,  8, 10, 12, 14, 16, 18],\n",
              "       [ 0,  3,  6,  9, 12, 15, 18, 21, 24, 27],\n",
              "       [ 0,  4,  8, 12, 16, 20, 24, 28, 32, 36]])"
            ]
          },
          "metadata": {},
          "execution_count": 183
        }
      ]
    },
    {
      "cell_type": "markdown",
      "metadata": {
        "id": "v4e7Hp77cpLE"
      },
      "source": [
        "Use array broadcasting to create a (10,10) numpy array with values\n",
        "$$ A_{ij} = 2^i + j $$"
      ]
    },
    {
      "cell_type": "code",
      "source": [
        "2**(np.arange(10).reshape(-1,1))"
      ],
      "metadata": {
        "colab": {
          "base_uri": "https://localhost:8080/"
        },
        "id": "JAmO02Z-nDlT",
        "outputId": "b4b36276-6c9b-40f2-eac6-f0171fa193ec"
      },
      "execution_count": null,
      "outputs": [
        {
          "output_type": "execute_result",
          "data": {
            "text/plain": [
              "array([[  1],\n",
              "       [  2],\n",
              "       [  4],\n",
              "       [  8],\n",
              "       [ 16],\n",
              "       [ 32],\n",
              "       [ 64],\n",
              "       [128],\n",
              "       [256],\n",
              "       [512]])"
            ]
          },
          "metadata": {},
          "execution_count": 184
        }
      ]
    },
    {
      "cell_type": "code",
      "execution_count": null,
      "metadata": {
        "id": "6ESgZd2qcpLE",
        "colab": {
          "base_uri": "https://localhost:8080/"
        },
        "outputId": "652a1dfc-d7fa-450d-bd34-46df7f56a640"
      },
      "outputs": [
        {
          "output_type": "execute_result",
          "data": {
            "text/plain": [
              "array([[0, 1, 2, 3, 4, 5, 6, 7, 8, 9]])"
            ]
          },
          "metadata": {},
          "execution_count": 185
        }
      ],
      "source": [
        "np.arange(10).reshape(1,-1)"
      ]
    },
    {
      "cell_type": "code",
      "source": [
        "2**(np.arange(10).reshape(-1,1)) + np.arange(10).reshape(1,-1)"
      ],
      "metadata": {
        "colab": {
          "base_uri": "https://localhost:8080/"
        },
        "id": "sajicgIO4Wcq",
        "outputId": "b6af1478-1c29-44d2-debc-17a4f8843744"
      },
      "execution_count": null,
      "outputs": [
        {
          "output_type": "execute_result",
          "data": {
            "text/plain": [
              "array([[  1,   2,   3,   4,   5,   6,   7,   8,   9,  10],\n",
              "       [  2,   3,   4,   5,   6,   7,   8,   9,  10,  11],\n",
              "       [  4,   5,   6,   7,   8,   9,  10,  11,  12,  13],\n",
              "       [  8,   9,  10,  11,  12,  13,  14,  15,  16,  17],\n",
              "       [ 16,  17,  18,  19,  20,  21,  22,  23,  24,  25],\n",
              "       [ 32,  33,  34,  35,  36,  37,  38,  39,  40,  41],\n",
              "       [ 64,  65,  66,  67,  68,  69,  70,  71,  72,  73],\n",
              "       [128, 129, 130, 131, 132, 133, 134, 135, 136, 137],\n",
              "       [256, 257, 258, 259, 260, 261, 262, 263, 264, 265],\n",
              "       [512, 513, 514, 515, 516, 517, 518, 519, 520, 521]])"
            ]
          },
          "metadata": {},
          "execution_count": 186
        }
      ]
    },
    {
      "cell_type": "markdown",
      "source": [
        "# Basic Section (End)"
      ],
      "metadata": {
        "id": "TKaxKNLns6vy"
      }
    },
    {
      "cell_type": "markdown",
      "metadata": {
        "id": "SuT-q0hKcpLE"
      },
      "source": [
        "## Matrix creation\n",
        "\n",
        "There are some functions to create standard matrices"
      ]
    },
    {
      "cell_type": "code",
      "execution_count": null,
      "metadata": {
        "id": "m_AduRywcpLE",
        "colab": {
          "base_uri": "https://localhost:8080/"
        },
        "outputId": "c15ee438-22d1-498e-b54a-0393cdda1f2f"
      },
      "outputs": [
        {
          "output_type": "execute_result",
          "data": {
            "text/plain": [
              "array([[1., 0., 0., 0., 0.],\n",
              "       [0., 1., 0., 0., 0.],\n",
              "       [0., 0., 1., 0., 0.],\n",
              "       [0., 0., 0., 1., 0.],\n",
              "       [0., 0., 0., 0., 1.]])"
            ]
          },
          "metadata": {},
          "execution_count": 187
        }
      ],
      "source": [
        "np.eye(5)"
      ]
    },
    {
      "cell_type": "code",
      "source": [
        "np.arange(10)"
      ],
      "metadata": {
        "colab": {
          "base_uri": "https://localhost:8080/"
        },
        "id": "ik1RQuxs4xaQ",
        "outputId": "50759e25-7eef-4afc-d680-3163c2fb01a6"
      },
      "execution_count": null,
      "outputs": [
        {
          "output_type": "execute_result",
          "data": {
            "text/plain": [
              "array([0, 1, 2, 3, 4, 5, 6, 7, 8, 9])"
            ]
          },
          "metadata": {},
          "execution_count": 188
        }
      ]
    },
    {
      "cell_type": "code",
      "execution_count": null,
      "metadata": {
        "id": "bc0OrhdycpLE",
        "colab": {
          "base_uri": "https://localhost:8080/"
        },
        "outputId": "e19577a5-47e7-4622-c26c-6c6a6681cd92"
      },
      "outputs": [
        {
          "output_type": "execute_result",
          "data": {
            "text/plain": [
              "array([[0, 0, 0, 0, 0, 0, 0, 0, 0, 0],\n",
              "       [0, 1, 0, 0, 0, 0, 0, 0, 0, 0],\n",
              "       [0, 0, 2, 0, 0, 0, 0, 0, 0, 0],\n",
              "       [0, 0, 0, 3, 0, 0, 0, 0, 0, 0],\n",
              "       [0, 0, 0, 0, 4, 0, 0, 0, 0, 0],\n",
              "       [0, 0, 0, 0, 0, 5, 0, 0, 0, 0],\n",
              "       [0, 0, 0, 0, 0, 0, 6, 0, 0, 0],\n",
              "       [0, 0, 0, 0, 0, 0, 0, 7, 0, 0],\n",
              "       [0, 0, 0, 0, 0, 0, 0, 0, 8, 0],\n",
              "       [0, 0, 0, 0, 0, 0, 0, 0, 0, 9]])"
            ]
          },
          "metadata": {},
          "execution_count": 189
        }
      ],
      "source": [
        "# np.diag: Extract a diagonal or construct a diagonal array.\n",
        "M = np.diag(np.arange(10))#.reshape(5,20)\n",
        "M"
      ]
    },
    {
      "cell_type": "code",
      "execution_count": null,
      "metadata": {
        "id": "CCH9_P_0cpLF",
        "colab": {
          "base_uri": "https://localhost:8080/"
        },
        "outputId": "047ce22d-b08f-4ed6-d746-50071a33d871"
      },
      "outputs": [
        {
          "output_type": "execute_result",
          "data": {
            "text/plain": [
              "array([0, 1, 2, 3, 4, 5, 6, 7, 8, 9])"
            ]
          },
          "metadata": {},
          "execution_count": 190
        }
      ],
      "source": [
        "np.diag(M)"
      ]
    },
    {
      "cell_type": "code",
      "execution_count": null,
      "metadata": {
        "id": "p6xq39cCcpLF",
        "colab": {
          "base_uri": "https://localhost:8080/"
        },
        "outputId": "fd556e71-0a7e-4bd5-e28e-d657b16d41ad"
      },
      "outputs": [
        {
          "output_type": "stream",
          "name": "stdout",
          "text": [
            "(5, 3)\n"
          ]
        },
        {
          "output_type": "execute_result",
          "data": {
            "text/plain": [
              "array([[ 0,  1,  2],\n",
              "       [ 3,  4,  5],\n",
              "       [ 6,  7,  8],\n",
              "       [ 9, 10, 11],\n",
              "       [12, 13, 14]])"
            ]
          },
          "metadata": {},
          "execution_count": 191
        }
      ],
      "source": [
        "# Transpose of the matrix\n",
        "A = np.arange(15).reshape(5,3)\n",
        "print(A.shape)\n",
        "A"
      ]
    },
    {
      "cell_type": "code",
      "execution_count": null,
      "metadata": {
        "id": "5MCDBv15jDy9",
        "colab": {
          "base_uri": "https://localhost:8080/"
        },
        "outputId": "679d1082-194d-4829-d27f-d17ec0ca0e00"
      },
      "outputs": [
        {
          "output_type": "execute_result",
          "data": {
            "text/plain": [
              "array([[ 0,  3,  6,  9, 12],\n",
              "       [ 1,  4,  7, 10, 13],\n",
              "       [ 2,  5,  8, 11, 14]])"
            ]
          },
          "metadata": {},
          "execution_count": 192
        }
      ],
      "source": [
        "A.T"
      ]
    },
    {
      "cell_type": "code",
      "execution_count": null,
      "metadata": {
        "id": "xrExcBTqcpLF",
        "colab": {
          "base_uri": "https://localhost:8080/"
        },
        "outputId": "a5d22455-8344-46c3-e3d8-4e6ab39d56a8"
      },
      "outputs": [
        {
          "output_type": "execute_result",
          "data": {
            "text/plain": [
              "array([[ 0,  3,  6,  9, 12],\n",
              "       [ 1,  4,  7, 10, 13],\n",
              "       [ 2,  5,  8, 11, 14]])"
            ]
          },
          "metadata": {},
          "execution_count": 193
        }
      ],
      "source": [
        "A.transpose()"
      ]
    },
    {
      "cell_type": "markdown",
      "source": [
        "### random seed"
      ],
      "metadata": {
        "id": "Aa_FofGIoIyQ"
      }
    },
    {
      "cell_type": "code",
      "execution_count": null,
      "metadata": {
        "id": "uqSzWqbaoulP",
        "colab": {
          "base_uri": "https://localhost:8080/"
        },
        "outputId": "f0b8ef76-9b6c-4608-8af7-382d12fe480b"
      },
      "outputs": [
        {
          "output_type": "execute_result",
          "data": {
            "text/plain": [
              "array([[0.99201124, 0.24942004, 0.10590615, 0.95095261, 0.23342026],\n",
              "       [0.68976827, 0.05835636, 0.7307091 , 0.88172021, 0.2724369 ],\n",
              "       [0.3790569 , 0.37429618, 0.74878826, 0.23780724, 0.1718531 ],\n",
              "       [0.44929165, 0.30446841, 0.83918912, 0.23774183, 0.50238946],\n",
              "       [0.9425836 , 0.6339977 , 0.86728941, 0.94020969, 0.75076486]])"
            ]
          },
          "metadata": {},
          "execution_count": 197
        }
      ],
      "source": [
        "np.random.rand(5,5)"
      ]
    },
    {
      "cell_type": "code",
      "execution_count": null,
      "metadata": {
        "id": "G6gxAaVhcpLG",
        "colab": {
          "base_uri": "https://localhost:8080/"
        },
        "outputId": "ba0a5123-cd0c-47f7-921a-ac04691f8137"
      },
      "outputs": [
        {
          "output_type": "execute_result",
          "data": {
            "text/plain": [
              "array([[0.5488135 , 0.71518937, 0.60276338, 0.54488318, 0.4236548 ],\n",
              "       [0.64589411, 0.43758721, 0.891773  , 0.96366276, 0.38344152],\n",
              "       [0.79172504, 0.52889492, 0.56804456, 0.92559664, 0.07103606],\n",
              "       [0.0871293 , 0.0202184 , 0.83261985, 0.77815675, 0.87001215],\n",
              "       [0.97861834, 0.79915856, 0.46147936, 0.78052918, 0.11827443]])"
            ]
          },
          "metadata": {},
          "execution_count": 204
        }
      ],
      "source": [
        "np.random.seed(0) #control the random state\n",
        "np.random.rand(5,5)"
      ]
    },
    {
      "cell_type": "markdown",
      "metadata": {
        "id": "c32AfJCMcpLG"
      },
      "source": [
        "### Exercise (Post Lecture)\n",
        "\n",
        "Create this matrix   \n",
        "\n",
        "```python\n",
        "array([[5., 1., 1., 1., 1., 1., 1., 1., 1., 1., 1.],\n",
        "       [1., 4., 1., 1., 1., 1., 1., 1., 1., 1., 1.],\n",
        "       [1., 1., 3., 1., 1., 1., 1., 1., 1., 1., 1.],\n",
        "       [1., 1., 1., 2., 1., 1., 1., 1., 1., 1., 1.],\n",
        "       [1., 1., 1., 1., 1., 1., 1., 1., 1., 1., 1.],\n",
        "       [1., 1., 1., 1., 1., 0., 1., 1., 1., 1., 1.],\n",
        "       [1., 1., 1., 1., 1., 1., 1., 1., 1., 1., 1.],\n",
        "       [1., 1., 1., 1., 1., 1., 1., 2., 1., 1., 1.],\n",
        "       [1., 1., 1., 1., 1., 1., 1., 1., 3., 1., 1.],\n",
        "       [1., 1., 1., 1., 1., 1., 1., 1., 1., 4., 1.],\n",
        "       [1., 1., 1., 1., 1., 1., 1., 1., 1., 1., 5.]])\n",
        "```"
      ]
    },
    {
      "cell_type": "code",
      "execution_count": null,
      "metadata": {
        "id": "H0546O8UcpLH"
      },
      "outputs": [],
      "source": [
        "# np.diag(np.abs(4 - np.arange(11))) + 1"
      ]
    },
    {
      "cell_type": "markdown",
      "metadata": {
        "id": "7sBUB-10cpLH"
      },
      "source": [
        "## Array Indexing and Slicing"
      ]
    },
    {
      "cell_type": "code",
      "execution_count": null,
      "metadata": {
        "id": "w_fypLsicpLH",
        "colab": {
          "base_uri": "https://localhost:8080/"
        },
        "outputId": "7b2e6cd2-c522-4f2a-b548-38891fcf475f"
      },
      "outputs": [
        {
          "output_type": "execute_result",
          "data": {
            "text/plain": [
              "array([0, 1, 2, 3, 4, 5, 6, 7, 8, 9])"
            ]
          },
          "metadata": {},
          "execution_count": 205
        }
      ],
      "source": [
        "import numpy as np\n",
        "arr = np.arange(10)\n",
        "arr"
      ]
    },
    {
      "cell_type": "code",
      "execution_count": null,
      "metadata": {
        "id": "ek7TJqX-cpLH",
        "colab": {
          "base_uri": "https://localhost:8080/"
        },
        "outputId": "1cb89018-de0f-4542-90dd-fa67cafeaca6"
      },
      "outputs": [
        {
          "output_type": "execute_result",
          "data": {
            "text/plain": [
              "5"
            ]
          },
          "metadata": {},
          "execution_count": 206
        }
      ],
      "source": [
        "arr[5]"
      ]
    },
    {
      "cell_type": "code",
      "source": [
        "arr[-3]"
      ],
      "metadata": {
        "colab": {
          "base_uri": "https://localhost:8080/"
        },
        "id": "3VwM84XPRCIV",
        "outputId": "400a5907-164d-4ea9-d5a7-56f4eaebacef"
      },
      "execution_count": null,
      "outputs": [
        {
          "output_type": "execute_result",
          "data": {
            "text/plain": [
              "7"
            ]
          },
          "metadata": {},
          "execution_count": 207
        }
      ]
    },
    {
      "cell_type": "code",
      "execution_count": null,
      "metadata": {
        "id": "WsRvDLWacpLI",
        "colab": {
          "base_uri": "https://localhost:8080/"
        },
        "outputId": "0b4dbe37-8a4c-461b-ff52-a4af633f05d8"
      },
      "outputs": [
        {
          "output_type": "execute_result",
          "data": {
            "text/plain": [
              "array([3, 4, 5, 6])"
            ]
          },
          "metadata": {},
          "execution_count": 208
        }
      ],
      "source": [
        "arr[3:7]"
      ]
    },
    {
      "cell_type": "code",
      "execution_count": null,
      "metadata": {
        "id": "DH2tZoZ5cpLI",
        "colab": {
          "base_uri": "https://localhost:8080/"
        },
        "outputId": "1d651da7-d7bc-4087-de39-007bd90da762"
      },
      "outputs": [
        {
          "output_type": "execute_result",
          "data": {
            "text/plain": [
              "array([2, 3, 4, 5, 6, 7, 8, 9])"
            ]
          },
          "metadata": {},
          "execution_count": 209
        }
      ],
      "source": [
        "arr[2:]"
      ]
    },
    {
      "cell_type": "code",
      "execution_count": null,
      "metadata": {
        "id": "7OASWxJncpLI",
        "colab": {
          "base_uri": "https://localhost:8080/"
        },
        "outputId": "9b740189-1b86-4155-d5d4-1e686d821505"
      },
      "outputs": [
        {
          "output_type": "execute_result",
          "data": {
            "text/plain": [
              "array([0, 1, 2, 3, 4, 5, 6])"
            ]
          },
          "metadata": {},
          "execution_count": 210
        }
      ],
      "source": [
        "arr[0:-3]"
      ]
    },
    {
      "cell_type": "code",
      "execution_count": null,
      "metadata": {
        "id": "yjg5vIYbcpLI",
        "colab": {
          "base_uri": "https://localhost:8080/"
        },
        "outputId": "10e1a8aa-d014-4012-d688-b740624f66d7"
      },
      "outputs": [
        {
          "output_type": "execute_result",
          "data": {
            "text/plain": [
              "array([0, 2, 4])"
            ]
          },
          "metadata": {},
          "execution_count": 211
        }
      ],
      "source": [
        "arr[0:6:2] #similar as range(0,6,2)"
      ]
    },
    {
      "cell_type": "code",
      "execution_count": null,
      "metadata": {
        "id": "YvNXaLtPcpLI",
        "colab": {
          "base_uri": "https://localhost:8080/"
        },
        "outputId": "e824fcd3-4732-45f6-d9cc-f0d08bc397be"
      },
      "outputs": [
        {
          "output_type": "execute_result",
          "data": {
            "text/plain": [
              "array([5, 3, 1])"
            ]
          },
          "metadata": {},
          "execution_count": 212
        }
      ],
      "source": [
        "arr[5:0:-2]"
      ]
    },
    {
      "cell_type": "code",
      "execution_count": null,
      "metadata": {
        "id": "woqqKnphcpLI",
        "colab": {
          "base_uri": "https://localhost:8080/"
        },
        "outputId": "257d6250-13f3-4e44-c01b-4ff2f9cc38f2"
      },
      "outputs": [
        {
          "output_type": "execute_result",
          "data": {
            "text/plain": [
              "array([9, 8, 7, 6, 5, 4, 3, 2, 1, 0])"
            ]
          },
          "metadata": {},
          "execution_count": 213
        }
      ],
      "source": [
        "arr[::-1]"
      ]
    },
    {
      "cell_type": "code",
      "execution_count": null,
      "metadata": {
        "id": "SbWOYU1rcpLJ",
        "colab": {
          "base_uri": "https://localhost:8080/"
        },
        "outputId": "9ce77860-4314-457a-a416-50f666901a62"
      },
      "outputs": [
        {
          "output_type": "execute_result",
          "data": {
            "text/plain": [
              "array([0, 1, 2, 3, 4, 5, 6, 7, 8, 9])"
            ]
          },
          "metadata": {},
          "execution_count": 214
        }
      ],
      "source": [
        "arr[:] "
      ]
    },
    {
      "cell_type": "code",
      "source": [
        "arr"
      ],
      "metadata": {
        "id": "SUQJIQgakNze"
      },
      "execution_count": null,
      "outputs": []
    },
    {
      "cell_type": "code",
      "source": [
        "np.array(arr)"
      ],
      "metadata": {
        "id": "yjUWnZbAkOnk"
      },
      "execution_count": null,
      "outputs": []
    },
    {
      "cell_type": "code",
      "execution_count": null,
      "metadata": {
        "id": "8cIHEi6Mn_Sf",
        "colab": {
          "base_uri": "https://localhost:8080/"
        },
        "outputId": "d1001a3c-3592-43ba-adcd-b675cfc56134"
      },
      "outputs": [
        {
          "output_type": "stream",
          "name": "stdout",
          "text": [
            "[[ 0  1  2  3  4  5]\n",
            " [10 11 12 13 14 15]\n",
            " [20 21 22 23 24 25]\n",
            " [30 31 32 33 34 35]\n",
            " [40 41 42 43 44 45]\n",
            " [50 51 52 53 54 55]]\n"
          ]
        }
      ],
      "source": [
        "a = 10*np.arange(6).reshape(-1,1)+np.arange(6)\n",
        "print(a)\n",
        "# a[4:, 4:]"
      ]
    },
    {
      "cell_type": "markdown",
      "metadata": {
        "id": "tapilH8YcpLJ"
      },
      "source": [
        "Can use all the above slicing methods for each dimension of a multidemnsional array\n",
        "![](http://scipy-lectures.org/_images/numpy_indexing.png)"
      ]
    },
    {
      "cell_type": "markdown",
      "metadata": {
        "id": "4tUcmolfcpLJ"
      },
      "source": [
        "try it yourself"
      ]
    },
    {
      "cell_type": "code",
      "execution_count": null,
      "metadata": {
        "id": "uVI7HuiecpLJ"
      },
      "outputs": [],
      "source": [
        "a[2::2,::2]"
      ]
    },
    {
      "cell_type": "code",
      "execution_count": null,
      "metadata": {
        "id": "wkKUYYQTcpLK"
      },
      "outputs": [],
      "source": [
        "a[2::2,::2] = 100000\n",
        "a"
      ]
    },
    {
      "cell_type": "markdown",
      "metadata": {
        "id": "y-mTwEvkcpLK"
      },
      "source": [
        "### Exercise (Post-Lecture)\n",
        "Create the following matrix\n",
        "```python\n",
        "array([[1., 1., 1., 1., 1., 1., 1., 1., 1., 1.],\n",
        "       [1., 1., 1., 1., 1., 1., 1., 1., 1., 1.],\n",
        "       [1., 1., 0., 0., 0., 0., 0., 0., 1., 1.],\n",
        "       [1., 1., 0., 0., 0., 0., 0., 0., 1., 1.],\n",
        "       [1., 1., 0., 0., 0., 0., 0., 0., 1., 1.],\n",
        "       [1., 1., 0., 0., 0., 0., 0., 0., 1., 1.],\n",
        "       [1., 1., 0., 0., 0., 0., 0., 0., 1., 1.],\n",
        "       [1., 1., 0., 0., 0., 0., 0., 0., 1., 1.],\n",
        "       [1., 1., 1., 1., 1., 1., 1., 1., 1., 1.],\n",
        "       [1., 1., 1., 1., 1., 1., 1., 1., 1., 1.]])\n",
        "```"
      ]
    },
    {
      "cell_type": "code",
      "execution_count": null,
      "metadata": {
        "id": "-kXUXbGRcpLK"
      },
      "outputs": [],
      "source": [
        "# a = np.ones((10,10))\n",
        "# a[2:8, 2:8] = np.zeros((6,6))\n",
        "# a"
      ]
    },
    {
      "cell_type": "markdown",
      "metadata": {
        "id": "UHi8Zj4acpLK"
      },
      "source": [
        "Create the following matrix\n",
        "```python\n",
        "array([[-1., -1., -1., -1., -1., -1., -1., -1., -1., -1.],\n",
        "       [-1.,  0.,  1.,  2.,  3.,  4., -1., -1., -1., -1.],\n",
        "       [-1.,  5.,  6.,  7.,  8.,  9., -1., -1., -1., -1.],\n",
        "       [-1., 10., 11., 12., 13., 14., -1., -1., -1., -1.],\n",
        "       [-1., 15., 16., 17., 18., 19., -1., -1., -1., -1.],\n",
        "       [-1., 20., 21., 22., 23., 24., -1., -1., -1., -1.],\n",
        "       [-1., 25., 26., 27., 28., 29., -1., -1., -1., -1.],\n",
        "       [-1., 30., 31., 32., 33., 34., -1., -1., -1., -1.],\n",
        "       [-1., 35., 36., 37., 38., 39., -1., -1., -1., -1.],\n",
        "       [-1., -1., -1., -1., -1., -1., -1., -1., -1., -1.]])\n",
        "```"
      ]
    },
    {
      "cell_type": "code",
      "execution_count": null,
      "metadata": {
        "id": "OfG1CN9FcpLK"
      },
      "outputs": [],
      "source": [
        "# a = -np.ones((10,10))\n",
        "# b = np.arange(40).reshape(8,5)\n",
        "# a[1:9, 1:6] = b\n",
        "# a"
      ]
    },
    {
      "cell_type": "markdown",
      "metadata": {
        "id": "r1a-dglxcpLL"
      },
      "source": [
        "# Fancy Array Indexing\n",
        "\n",
        "We can use numpy arrays as an index for other numpy arrays"
      ]
    },
    {
      "cell_type": "code",
      "execution_count": null,
      "metadata": {
        "id": "Q8xYPQexcpLL",
        "colab": {
          "base_uri": "https://localhost:8080/"
        },
        "outputId": "ae5e4c3b-dcd7-4cd9-b661-0a52abb6523b"
      },
      "outputs": [
        {
          "output_type": "execute_result",
          "data": {
            "text/plain": [
              "array([0, 1, 2, 3, 4, 5, 6, 7, 8, 9])"
            ]
          },
          "metadata": {},
          "execution_count": 216
        }
      ],
      "source": [
        "arr = np.arange(10)\n",
        "arr"
      ]
    },
    {
      "cell_type": "code",
      "execution_count": null,
      "metadata": {
        "id": "wccPNb_KcpLL",
        "colab": {
          "base_uri": "https://localhost:8080/"
        },
        "outputId": "b2f18668-7fb4-415e-e0e9-735fc7c8d73d"
      },
      "outputs": [
        {
          "output_type": "execute_result",
          "data": {
            "text/plain": [
              "array([ 7, -1,  2])"
            ]
          },
          "metadata": {},
          "execution_count": 217
        }
      ],
      "source": [
        "# use array/list/tuple as indexs\n",
        "idx = np.array([7,-1,2])\n",
        "idx"
      ]
    },
    {
      "cell_type": "code",
      "execution_count": null,
      "metadata": {
        "id": "_b6P6mzecpLL",
        "colab": {
          "base_uri": "https://localhost:8080/"
        },
        "outputId": "9483288b-8ffb-4e9e-809c-c12054ec4844"
      },
      "outputs": [
        {
          "output_type": "stream",
          "name": "stdout",
          "text": [
            "[7 9 2]\n"
          ]
        },
        {
          "output_type": "execute_result",
          "data": {
            "text/plain": [
              "array([ 0,  1, -1,  3,  4,  5,  6, -1,  8, -1])"
            ]
          },
          "metadata": {},
          "execution_count": 218
        }
      ],
      "source": [
        "print(arr[idx])\n",
        "arr[idx] = -1\n",
        "arr"
      ]
    },
    {
      "cell_type": "code",
      "execution_count": null,
      "metadata": {
        "id": "0u7cOoKVcpLL",
        "colab": {
          "base_uri": "https://localhost:8080/"
        },
        "outputId": "786fd70e-1190-4bde-b512-ce56f5ceb45f"
      },
      "outputs": [
        {
          "output_type": "execute_result",
          "data": {
            "text/plain": [
              "array([False, False,  True, False, False, False, False,  True, False,\n",
              "        True])"
            ]
          },
          "metadata": {},
          "execution_count": 219
        }
      ],
      "source": [
        "# use bool array\n",
        "arr<0"
      ]
    },
    {
      "cell_type": "code",
      "execution_count": null,
      "metadata": {
        "id": "CBSA1MaOcpLL",
        "colab": {
          "base_uri": "https://localhost:8080/"
        },
        "outputId": "60b245d4-d889-43c7-b262-99c860c6ec7a"
      },
      "outputs": [
        {
          "output_type": "execute_result",
          "data": {
            "text/plain": [
              "array([  0,   1, 100,   3,   4,   5,   6, 100,   8, 100])"
            ]
          },
          "metadata": {},
          "execution_count": 220
        }
      ],
      "source": [
        "arr[arr<0] = 100\n",
        "arr"
      ]
    },
    {
      "cell_type": "markdown",
      "metadata": {
        "id": "ieEw3imtcpLM"
      },
      "source": [
        "For multidimensional array, array indexing works different from slicing"
      ]
    },
    {
      "cell_type": "code",
      "execution_count": null,
      "metadata": {
        "id": "gLwyjAAtcpLM",
        "colab": {
          "base_uri": "https://localhost:8080/"
        },
        "outputId": "9fc82d1f-96c7-41e2-fbe4-1dd80ec6bded"
      },
      "outputs": [
        {
          "output_type": "execute_result",
          "data": {
            "text/plain": [
              "array([[0., 0., 0., 0., 0., 0., 0., 0., 0., 0.],\n",
              "       [0., 0., 0., 0., 0., 0., 0., 0., 0., 0.],\n",
              "       [0., 0., 0., 0., 0., 0., 0., 0., 0., 0.],\n",
              "       [0., 0., 0., 1., 1., 1., 1., 1., 1., 0.],\n",
              "       [0., 0., 0., 1., 1., 1., 1., 1., 1., 0.],\n",
              "       [0., 0., 0., 1., 1., 1., 1., 1., 1., 0.],\n",
              "       [0., 0., 0., 1., 1., 1., 1., 1., 1., 0.],\n",
              "       [0., 0., 0., 1., 1., 1., 1., 1., 1., 0.],\n",
              "       [0., 0., 0., 1., 1., 1., 1., 1., 1., 0.],\n",
              "       [0., 0., 0., 0., 0., 0., 0., 0., 0., 0.]])"
            ]
          },
          "metadata": {},
          "execution_count": 221
        }
      ],
      "source": [
        "X = np.zeros((10,10))\n",
        "X[3:9,3:9]=1\n",
        "X"
      ]
    },
    {
      "cell_type": "code",
      "source": [
        "np.arange(3,9), np.arange(3,9)"
      ],
      "metadata": {
        "colab": {
          "base_uri": "https://localhost:8080/"
        },
        "id": "OgszejT3ky5c",
        "outputId": "bd54b9ab-be90-4b06-a968-9b97a5b91655"
      },
      "execution_count": null,
      "outputs": [
        {
          "output_type": "execute_result",
          "data": {
            "text/plain": [
              "(array([3, 4, 5, 6, 7, 8]), array([3, 4, 5, 6, 7, 8]))"
            ]
          },
          "metadata": {},
          "execution_count": 222
        }
      ]
    },
    {
      "cell_type": "code",
      "execution_count": null,
      "metadata": {
        "id": "dryNdm5PcpLM",
        "colab": {
          "base_uri": "https://localhost:8080/"
        },
        "outputId": "215d8caf-2c43-4cc8-d97c-2bd04dd726c5"
      },
      "outputs": [
        {
          "output_type": "execute_result",
          "data": {
            "text/plain": [
              "array([[0., 0., 0., 0., 0., 0., 0., 0., 0., 0.],\n",
              "       [0., 0., 0., 0., 0., 0., 0., 0., 0., 0.],\n",
              "       [0., 0., 0., 0., 0., 0., 0., 0., 0., 0.],\n",
              "       [0., 0., 0., 1., 0., 0., 0., 0., 0., 0.],\n",
              "       [0., 0., 0., 0., 1., 0., 0., 0., 0., 0.],\n",
              "       [0., 0., 0., 0., 0., 1., 0., 0., 0., 0.],\n",
              "       [0., 0., 0., 0., 0., 0., 1., 0., 0., 0.],\n",
              "       [0., 0., 0., 0., 0., 0., 0., 1., 0., 0.],\n",
              "       [0., 0., 0., 0., 0., 0., 0., 0., 1., 0.],\n",
              "       [0., 0., 0., 0., 0., 0., 0., 0., 0., 0.]])"
            ]
          },
          "metadata": {},
          "execution_count": 223
        }
      ],
      "source": [
        "X = np.zeros((10,10))\n",
        "X[np.arange(3,9),np.arange(3,9)]=1\n",
        "X"
      ]
    },
    {
      "cell_type": "code",
      "execution_count": null,
      "metadata": {
        "id": "T3cfJVoecpLM",
        "colab": {
          "base_uri": "https://localhost:8080/"
        },
        "outputId": "e62a981e-9f7b-4050-cf89-9ddf6236349b"
      },
      "outputs": [
        {
          "output_type": "execute_result",
          "data": {
            "text/plain": [
              "array([[ 0,  1,  2,  3,  4,  5],\n",
              "       [10, 11, 12, 13, 14, 15],\n",
              "       [20, 21, 22, 23, 24, 25],\n",
              "       [30, 31, 32, 33, 34, 35],\n",
              "       [40, 41, 42, 43, 44, 45],\n",
              "       [50, 51, 52, 53, 54, 55]])"
            ]
          },
          "metadata": {},
          "execution_count": 224
        }
      ],
      "source": [
        "# Here is our array, what should we return?\n",
        "a = 10*np.arange(6).reshape(-1,1)+np.arange(6)\n",
        "a"
      ]
    },
    {
      "cell_type": "code",
      "execution_count": null,
      "metadata": {
        "id": "gYPf1JVrcpLN",
        "colab": {
          "base_uri": "https://localhost:8080/"
        },
        "outputId": "a37c3a58-c471-4508-a381-fca2b6060a22"
      },
      "outputs": [
        {
          "output_type": "execute_result",
          "data": {
            "text/plain": [
              "array([10, 21, 32, 43, 54])"
            ]
          },
          "metadata": {},
          "execution_count": 225
        }
      ],
      "source": [
        "a[ (1,2,3,4,5), (0,1,2,3,4)]"
      ]
    },
    {
      "cell_type": "code",
      "source": [
        "a[3:, [0,2,5]]"
      ],
      "metadata": {
        "id": "En0_DPUATTD5"
      },
      "execution_count": null,
      "outputs": []
    },
    {
      "cell_type": "code",
      "source": [
        "mask = np.array([1,0,1,0,0,1], dtype = bool)\n",
        "print(mask)\n",
        "# a[mask,2]"
      ],
      "metadata": {
        "id": "SF6L76_uTTMb",
        "colab": {
          "base_uri": "https://localhost:8080/"
        },
        "outputId": "170c79fb-1822-4188-a74c-29c6899a24ff"
      },
      "execution_count": null,
      "outputs": [
        {
          "output_type": "stream",
          "name": "stdout",
          "text": [
            "[ True False  True False False  True]\n"
          ]
        }
      ]
    },
    {
      "cell_type": "markdown",
      "metadata": {
        "id": "40etmVYRcpLN"
      },
      "source": [
        "![](http://scipy-lectures.org/_images/numpy_fancy_indexing.png)"
      ]
    },
    {
      "cell_type": "markdown",
      "metadata": {
        "id": "yjacL27WcpLN"
      },
      "source": [
        "### Exercise (Post - Lecture)\n",
        "Create the following matrix\n",
        "```python\n",
        "array([[0., 0., 0., 0., 0., 0., 0., 0., 0., 1.],\n",
        "       [0., 0., 0., 0., 0., 0., 0., 1., 0., 0.],\n",
        "       [0., 0., 0., 0., 0., 1., 0., 0., 0., 0.],\n",
        "       [0., 0., 0., 1., 0., 0., 0., 0., 0., 0.],\n",
        "       [0., 1., 0., 0., 0., 0., 0., 0., 0., 0.],\n",
        "       [0., 1., 0., 0., 0., 0., 0., 0., 0., 0.],\n",
        "       [0., 0., 0., 1., 0., 0., 0., 0., 0., 0.],\n",
        "       [0., 0., 0., 0., 0., 1., 0., 0., 0., 0.],\n",
        "       [0., 0., 0., 0., 0., 0., 0., 1., 0., 0.],\n",
        "       [0., 0., 0., 0., 0., 0., 0., 0., 0., 1.]])\n",
        "```"
      ]
    },
    {
      "cell_type": "code",
      "execution_count": null,
      "metadata": {
        "id": "DTkKnYepcpLO"
      },
      "outputs": [],
      "source": [
        "# a = np.zeros((10,10))\n",
        "# a[np.arange(10), np.abs( 9 - 2*np.arange(10))] = 1\n",
        "# a"
      ]
    },
    {
      "cell_type": "markdown",
      "metadata": {
        "id": "nTu3gNhNcpLO"
      },
      "source": [
        "### Exercise (Post Lecture)\n",
        "Write a function to compute the [trace](https://en.wikipedia.org/wiki/Trace_(linear_algebra)) of a square numpy array using fancy array indexing. Compare your implementation to numpy's built-in function `np.trace`."
      ]
    },
    {
      "cell_type": "code",
      "execution_count": null,
      "metadata": {
        "id": "1ZE8dfvbcpLO"
      },
      "outputs": [],
      "source": [
        "# def trace(a):\n",
        "#   out = 0\n",
        "#   n = a.shape[0]\n",
        "#   for i in a[np.arange(n), np.arange(n)]:\n",
        "#     out += i\n",
        "#   return out\n",
        "# trace(a) == np.trace(a)"
      ]
    },
    {
      "cell_type": "markdown",
      "metadata": {
        "id": "q5zRB9GycpLO"
      },
      "source": [
        "We can use `np.where`, to get indices of the `True` values in a boolean array"
      ]
    },
    {
      "cell_type": "code",
      "execution_count": null,
      "metadata": {
        "id": "-Z454xw1uWhr"
      },
      "outputs": [],
      "source": [
        "Y = np.arange(25).reshape(5,5)\n",
        "print(Y)\n",
        "Y > 14\n",
        "\n",
        "np.where(Y>14)\n",
        "# print(Y)"
      ]
    },
    {
      "cell_type": "markdown",
      "metadata": {
        "id": "QLxyEUlJcpLO"
      },
      "source": [
        "## Reduction operations\n",
        "\n",
        "Many reduction functions are available\n",
        "\n",
        "- np.sum, np.prod\n",
        "- np.min, np.max\n",
        "- np.any, np.all\n",
        "\n",
        "Partial reductions\n",
        "\n",
        "- np.cumsum, np.cumprod"
      ]
    },
    {
      "cell_type": "code",
      "execution_count": null,
      "metadata": {
        "id": "n3-oTPmAcpLP",
        "colab": {
          "base_uri": "https://localhost:8080/"
        },
        "outputId": "7d3e21c9-5372-493c-90e9-4b140c991846"
      },
      "outputs": [
        {
          "output_type": "execute_result",
          "data": {
            "text/plain": [
              "array([[ 0,  1,  2,  3,  4],\n",
              "       [ 5,  6,  7,  8,  9],\n",
              "       [10, 11, 12, 13, 14],\n",
              "       [15, 16, 17, 18, 19],\n",
              "       [20, 21, 22, 23, 24],\n",
              "       [25, 26, 27, 28, 29],\n",
              "       [30, 31, 32, 33, 34],\n",
              "       [35, 36, 37, 38, 39],\n",
              "       [40, 41, 42, 43, 44],\n",
              "       [45, 46, 47, 48, 49]])"
            ]
          },
          "metadata": {},
          "execution_count": 227
        }
      ],
      "source": [
        "X = np.arange(50).reshape(10,5)\n",
        "X"
      ]
    },
    {
      "cell_type": "code",
      "execution_count": null,
      "metadata": {
        "id": "JlHMkXQKcpLP",
        "colab": {
          "base_uri": "https://localhost:8080/"
        },
        "outputId": "ce562120-f80b-4bb0-b563-90ade0070db3"
      },
      "outputs": [
        {
          "output_type": "execute_result",
          "data": {
            "text/plain": [
              "(1225, 0)"
            ]
          },
          "metadata": {},
          "execution_count": 228
        }
      ],
      "source": [
        "np.sum(X),np.prod(X)"
      ]
    },
    {
      "cell_type": "markdown",
      "metadata": {
        "id": "g_6eWJYmcft8"
      },
      "source": [
        "The way to understand the “axis” of numpy sum is it collapses the specified axis. So when it collapses the axis 0 (row), it becomes just one row and column-wise sum."
      ]
    },
    {
      "cell_type": "code",
      "execution_count": null,
      "metadata": {
        "id": "yGO-EguJcpLP",
        "colab": {
          "base_uri": "https://localhost:8080/"
        },
        "outputId": "98eabb32-049b-4f90-c545-f2a413a07084"
      },
      "outputs": [
        {
          "output_type": "execute_result",
          "data": {
            "text/plain": [
              "array([225, 235, 245, 255, 265])"
            ]
          },
          "metadata": {},
          "execution_count": 230
        }
      ],
      "source": [
        "np.sum(X, axis=0)"
      ]
    },
    {
      "cell_type": "code",
      "source": [
        "X.sum(axis = 0)"
      ],
      "metadata": {
        "colab": {
          "base_uri": "https://localhost:8080/"
        },
        "id": "EnhMNdmTmYhF",
        "outputId": "3597dd7a-9b67-4d27-b15e-d76c17aa0cbe"
      },
      "execution_count": null,
      "outputs": [
        {
          "output_type": "execute_result",
          "data": {
            "text/plain": [
              "array([225, 235, 245, 255, 265])"
            ]
          },
          "metadata": {},
          "execution_count": 231
        }
      ]
    },
    {
      "cell_type": "code",
      "execution_count": null,
      "metadata": {
        "id": "AAQ2oeiOcpLP",
        "colab": {
          "base_uri": "https://localhost:8080/"
        },
        "outputId": "d49afffa-bb27-45ee-cb1a-61de855f96ad"
      },
      "outputs": [
        {
          "output_type": "execute_result",
          "data": {
            "text/plain": [
              "(0, 49)"
            ]
          },
          "metadata": {},
          "execution_count": 232
        }
      ],
      "source": [
        "np.min(X),np.max(X)"
      ]
    },
    {
      "cell_type": "code",
      "source": [
        "X"
      ],
      "metadata": {
        "colab": {
          "base_uri": "https://localhost:8080/"
        },
        "id": "DTxiE53y8wMh",
        "outputId": "e409f282-49bf-4f0d-ff23-a42b0d370421"
      },
      "execution_count": null,
      "outputs": [
        {
          "output_type": "execute_result",
          "data": {
            "text/plain": [
              "array([[ 0,  1,  2,  3,  4],\n",
              "       [ 5,  6,  7,  8,  9],\n",
              "       [10, 11, 12, 13, 14],\n",
              "       [15, 16, 17, 18, 19],\n",
              "       [20, 21, 22, 23, 24],\n",
              "       [25, 26, 27, 28, 29],\n",
              "       [30, 31, 32, 33, 34],\n",
              "       [35, 36, 37, 38, 39],\n",
              "       [40, 41, 42, 43, 44],\n",
              "       [45, 46, 47, 48, 49]])"
            ]
          },
          "metadata": {},
          "execution_count": 233
        }
      ]
    },
    {
      "cell_type": "code",
      "execution_count": null,
      "metadata": {
        "id": "0h4QuwoQcpLQ",
        "colab": {
          "base_uri": "https://localhost:8080/"
        },
        "outputId": "dd5f9242-216e-442c-91e7-8f4e352db05e"
      },
      "outputs": [
        {
          "output_type": "execute_result",
          "data": {
            "text/plain": [
              "array([ 0,  5, 10, 15, 20, 25, 30, 35, 40, 45])"
            ]
          },
          "metadata": {},
          "execution_count": 234
        }
      ],
      "source": [
        "np.min(X,axis=1)"
      ]
    },
    {
      "cell_type": "code",
      "execution_count": null,
      "metadata": {
        "id": "q3NwyDTgcpLQ",
        "colab": {
          "base_uri": "https://localhost:8080/"
        },
        "outputId": "10c3d68b-74e9-4176-9296-14b82481c990"
      },
      "outputs": [
        {
          "output_type": "execute_result",
          "data": {
            "text/plain": [
              "array([[ True, False, False, False, False],\n",
              "       [False, False, False, False, False],\n",
              "       [False, False, False, False, False],\n",
              "       [False, False, False, False, False],\n",
              "       [False, False, False, False, False],\n",
              "       [False, False, False, False, False],\n",
              "       [False, False, False, False, False],\n",
              "       [False, False, False, False, False],\n",
              "       [False, False, False, False, False],\n",
              "       [False, False, False, False, False]])"
            ]
          },
          "metadata": {},
          "execution_count": 235
        }
      ],
      "source": [
        "Y = X<1\n",
        "Y"
      ]
    },
    {
      "cell_type": "code",
      "source": [
        "Y  + 10"
      ],
      "metadata": {
        "id": "ybsBrrKtnfX_"
      },
      "execution_count": null,
      "outputs": []
    },
    {
      "cell_type": "code",
      "execution_count": null,
      "metadata": {
        "id": "oOQuytv-cpLQ",
        "colab": {
          "base_uri": "https://localhost:8080/"
        },
        "outputId": "204adc31-1485-4ed1-92a7-93fdf7980533"
      },
      "outputs": [
        {
          "output_type": "execute_result",
          "data": {
            "text/plain": [
              "array([ True, False, False, False, False])"
            ]
          },
          "metadata": {},
          "execution_count": 237
        }
      ],
      "source": [
        "np.any(Y, axis=0)"
      ]
    },
    {
      "cell_type": "code",
      "execution_count": null,
      "metadata": {
        "id": "2QdqqgUPcpLQ",
        "colab": {
          "base_uri": "https://localhost:8080/"
        },
        "outputId": "867a9b2f-9832-494e-8292-e280142e9273"
      },
      "outputs": [
        {
          "output_type": "execute_result",
          "data": {
            "text/plain": [
              "array([False, False, False, False, False, False, False, False, False,\n",
              "       False])"
            ]
          },
          "metadata": {},
          "execution_count": 238
        }
      ],
      "source": [
        "np.all(Y,axis=1)"
      ]
    },
    {
      "cell_type": "markdown",
      "metadata": {
        "id": "-_TlOPAncpLQ"
      },
      "source": [
        "All the above functions can be called on the array object directly"
      ]
    },
    {
      "cell_type": "code",
      "execution_count": null,
      "metadata": {
        "id": "QKWetd2rcpLQ"
      },
      "outputs": [],
      "source": [
        "# instance.method(args) = class.method(instance, args)\n",
        "X.max(axis=0)"
      ]
    },
    {
      "cell_type": "code",
      "execution_count": null,
      "metadata": {
        "id": "soXpCOcWcpLR",
        "colab": {
          "base_uri": "https://localhost:8080/"
        },
        "outputId": "980c12de-7961-4ad2-aabe-402ed6c2fe6a"
      },
      "outputs": [
        {
          "output_type": "stream",
          "name": "stdout",
          "text": [
            "[0 1 2 3 4 5 6 7 8 9]\n"
          ]
        },
        {
          "output_type": "execute_result",
          "data": {
            "text/plain": [
              "array([ 0,  1,  3,  6, 10, 15, 21, 28, 36, 45])"
            ]
          },
          "metadata": {},
          "execution_count": 240
        }
      ],
      "source": [
        "# np.cumsum\n",
        "Y = np.arange(10)\n",
        "print(Y)\n",
        "np.cumsum(Y)"
      ]
    },
    {
      "cell_type": "code",
      "execution_count": null,
      "metadata": {
        "id": "OyhUdMg-cpLS",
        "colab": {
          "base_uri": "https://localhost:8080/"
        },
        "outputId": "a5e759ea-9279-4eec-a213-5090dc177f5d"
      },
      "outputs": [
        {
          "output_type": "stream",
          "name": "stdout",
          "text": [
            "[[ 0  1  2  3]\n",
            " [ 4  5  6  7]\n",
            " [ 8  9 10 11]\n",
            " [12 13 14 15]]\n"
          ]
        },
        {
          "output_type": "execute_result",
          "data": {
            "text/plain": [
              "array([[ 0,  1,  3,  6],\n",
              "       [ 4,  9, 15, 22],\n",
              "       [ 8, 17, 27, 38],\n",
              "       [12, 25, 39, 54]])"
            ]
          },
          "metadata": {},
          "execution_count": 242
        }
      ],
      "source": [
        "X = np.arange(16).reshape(4,4)\n",
        "print(X)\n",
        "np.cumsum(X,axis=1)"
      ]
    },
    {
      "cell_type": "code",
      "source": [
        "X = np.arange(16).reshape(-1,2)\n",
        "X"
      ],
      "metadata": {
        "colab": {
          "base_uri": "https://localhost:8080/"
        },
        "id": "6KmavY7j9n1q",
        "outputId": "0ad885cf-de6c-4edb-acf0-2feb1530c729"
      },
      "execution_count": null,
      "outputs": [
        {
          "output_type": "execute_result",
          "data": {
            "text/plain": [
              "array([[ 0,  1],\n",
              "       [ 2,  3],\n",
              "       [ 4,  5],\n",
              "       [ 6,  7],\n",
              "       [ 8,  9],\n",
              "       [10, 11],\n",
              "       [12, 13],\n",
              "       [14, 15]])"
            ]
          },
          "metadata": {},
          "execution_count": 247
        }
      ]
    },
    {
      "cell_type": "markdown",
      "metadata": {
        "id": "yLszNjIkcpLS"
      },
      "source": [
        "Cumulative operations don't change the shape of the array"
      ]
    },
    {
      "cell_type": "markdown",
      "metadata": {
        "id": "kLuovJTJcpLS"
      },
      "source": [
        "### Exercise (Post Lecture)\n",
        "\n",
        "- Find the column with maximum column sum\n",
        "- For which rows of the matrix, the sum of the first three elements of the row is greater than the sum of the last two elements of the row"
      ]
    },
    {
      "cell_type": "code",
      "source": [
        "import numpy as np"
      ],
      "metadata": {
        "id": "zXukCIvDpIDN"
      },
      "execution_count": null,
      "outputs": []
    },
    {
      "cell_type": "code",
      "execution_count": null,
      "metadata": {
        "id": "kOwKR8nCcpLS"
      },
      "outputs": [],
      "source": [
        "np.random.seed(10)\n",
        "X = np.random.rand(5,5)\n",
        "(X.sum(axis=0)).argmax()"
      ]
    },
    {
      "cell_type": "code",
      "execution_count": null,
      "metadata": {
        "id": "2GuaiHdVcpLT"
      },
      "outputs": [],
      "source": [
        "np.arange(5)[np.sum(X[:,:3],axis = 1) - np.sum(X[:,-2:],axis = 1) > 0]"
      ]
    },
    {
      "cell_type": "markdown",
      "metadata": {
        "id": "d0nRCLdmcpLT"
      },
      "source": [
        "### Exercise (Post Lecture)\n",
        "Compute the the moving average of the array `y` created below, with window size 5."
      ]
    },
    {
      "cell_type": "code",
      "execution_count": null,
      "metadata": {
        "id": "_lmcNe7ucpLV",
        "colab": {
          "base_uri": "https://localhost:8080/",
          "height": 445
        },
        "outputId": "b81a8772-9c3c-4ae9-dded-be979f979c5b"
      },
      "outputs": [
        {
          "output_type": "execute_result",
          "data": {
            "text/plain": [
              "[<matplotlib.lines.Line2D at 0x7fb4101b1e50>]"
            ]
          },
          "metadata": {},
          "execution_count": 1
        },
        {
          "output_type": "display_data",
          "data": {
            "text/plain": [
              "<Figure size 640x480 with 1 Axes>"
            ],
            "image/png": "[encoded data removed]"
          },
          "metadata": {}
        }
      ],
      "source": [
        "import numpy as np\n",
        "import matplotlib.pyplot as plt\n",
        "np.random.seed(10)\n",
        "y = np.cumsum(np.random.rand(100) - 0.5)\n",
        "plt.plot(y)"
      ]
    },
    {
      "cell_type": "code",
      "execution_count": null,
      "metadata": {
        "id": "zzs-dYZAcpLW",
        "colab": {
          "base_uri": "https://localhost:8080/",
          "height": 445
        },
        "outputId": "71801686-3a21-4e77-c331-17b11a0c30eb"
      },
      "outputs": [
        {
          "output_type": "execute_result",
          "data": {
            "text/plain": [
              "[<matplotlib.lines.Line2D at 0x7fb410045fa0>]"
            ]
          },
          "metadata": {},
          "execution_count": 2
        },
        {
          "output_type": "display_data",
          "data": {
            "text/plain": [
              "<Figure size 640x480 with 1 Axes>"
            ],
            "image/png": "[encoded data removed]"
          },
          "metadata": {}
        }
      ],
      "source": [
        "z = np.cumsum(y)\n",
        "z[5:] = z[5:] - z[:-5]\n",
        "z /= 5\n",
        "plt.plot(y)\n",
        "plt.plot(z)"
      ]
    },
    {
      "cell_type": "markdown",
      "metadata": {
        "id": "o2s_gqSucpLW"
      },
      "source": [
        "## Final Exercise (Post Lecture)\n",
        "\n",
        "Implement the [Conway's game of Life](https://en.wikipedia.org/wiki/Conway%27s_Game_of_Life) using numpy"
      ]
    },
    {
      "cell_type": "code",
      "execution_count": null,
      "metadata": {
        "id": "vaYa2HqncpLX"
      },
      "outputs": [],
      "source": [
        "# Solution\n",
        "X = (np.random.rand(100,100)>0.9).astype(int)\n",
        "import matplotlib.pyplot as plt\n",
        "plt.imshow(X)"
      ]
    },
    {
      "cell_type": "code",
      "execution_count": null,
      "metadata": {
        "id": "_QD_KrJ_cpLX"
      },
      "outputs": [],
      "source": [
        "count =\\\n",
        "X[:-2,:-2] + X[:-2,1:-1] + X[:-2,2::] +\\\n",
        "X[1:-1,:-2] +              X[1:-1,2:] +\\\n",
        "X[2:,:-2] + X[2:,1:-1] +   X[2:,2:]\n",
        "\n",
        "newX = ((count==3) & (X[1:-1,1:-1]==0)) | (((count==3)|(count==2)) & (X[1:-1,1:-1]==1))\n",
        "X[:]=0\n",
        "X[1:-1,1:-1] = newX\n",
        "plt.imshow(X)"
      ]
    },
    {
      "cell_type": "code",
      "execution_count": null,
      "metadata": {
        "id": "I7O3TV2U7j6a"
      },
      "outputs": [],
      "source": []
    }
  ],
  "metadata": {
    "colab": {
      "provenance": [],
      "toc_visible": true,
      "include_colab_link": true
    },
    "kernelspec": {
      "display_name": "Python 3 (ipykernel)",
      "language": "python",
      "name": "python3"
    },
    "language_info": {
      "codemirror_mode": {
        "name": "ipython",
        "version": 3
      },
      "file_extension": ".py",
      "mimetype": "text/x-python",
      "name": "python",
      "nbconvert_exporter": "python",
      "pygments_lexer": "ipython3",
      "version": "3.9.7"
    }
  },
  "nbformat": 4,
  "nbformat_minor": 0
}